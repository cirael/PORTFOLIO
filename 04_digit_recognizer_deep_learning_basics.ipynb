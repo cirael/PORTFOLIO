{
 "cells": [
  {
   "cell_type": "code",
   "execution_count": 20,
   "id": "e7ff7766",
   "metadata": {},
   "outputs": [],
   "source": [
    "import pandas as pd\n",
    "import numpy as np\n",
    "from matplotlib import pyplot as plt\n",
    "import seaborn as sns\n",
    "from sklearn.model_selection import train_test_split\n",
    "from tensorflow import keras\n",
    "from tensorflow.keras import layers\n",
    "from keras.utils.vis_utils import plot_model"
   ]
  },
  {
   "cell_type": "markdown",
   "id": "965b1dc0",
   "metadata": {},
   "source": [
    "Dataset was downloaded from Kaggle.com (https://www.kaggle.com/c/digit-recognizer/overview/tutorial). Main goal was to classify a gray-scale images of hand-drawn digits (0-9) to a proper label. \n",
    "\n",
    "Description of data from Kaggle: \"Each image is 28 pixels in height and 28 pixels in width, for a total of 784 pixels in total. Each pixel has a single pixel-value associated with it, indicating the lightness or darkness of that pixel, with higher numbers meaning darker. This pixel-value is an integer between 0 and 255, inclusive\"."
   ]
  },
  {
   "cell_type": "code",
   "execution_count": 21,
   "id": "45c2cfae",
   "metadata": {},
   "outputs": [],
   "source": [
    "digits=pd.read_csv('train.csv')"
   ]
  },
  {
   "cell_type": "code",
   "execution_count": 22,
   "id": "136ca508",
   "metadata": {},
   "outputs": [
    {
     "data": {
      "text/html": [
       "<div>\n",
       "<style scoped>\n",
       "    .dataframe tbody tr th:only-of-type {\n",
       "        vertical-align: middle;\n",
       "    }\n",
       "\n",
       "    .dataframe tbody tr th {\n",
       "        vertical-align: top;\n",
       "    }\n",
       "\n",
       "    .dataframe thead th {\n",
       "        text-align: right;\n",
       "    }\n",
       "</style>\n",
       "<table border=\"1\" class=\"dataframe\">\n",
       "  <thead>\n",
       "    <tr style=\"text-align: right;\">\n",
       "      <th></th>\n",
       "      <th>label</th>\n",
       "      <th>pixel0</th>\n",
       "      <th>pixel1</th>\n",
       "      <th>pixel2</th>\n",
       "      <th>pixel3</th>\n",
       "      <th>pixel4</th>\n",
       "      <th>pixel5</th>\n",
       "      <th>pixel6</th>\n",
       "      <th>pixel7</th>\n",
       "      <th>pixel8</th>\n",
       "      <th>...</th>\n",
       "      <th>pixel774</th>\n",
       "      <th>pixel775</th>\n",
       "      <th>pixel776</th>\n",
       "      <th>pixel777</th>\n",
       "      <th>pixel778</th>\n",
       "      <th>pixel779</th>\n",
       "      <th>pixel780</th>\n",
       "      <th>pixel781</th>\n",
       "      <th>pixel782</th>\n",
       "      <th>pixel783</th>\n",
       "    </tr>\n",
       "  </thead>\n",
       "  <tbody>\n",
       "    <tr>\n",
       "      <th>0</th>\n",
       "      <td>1</td>\n",
       "      <td>0</td>\n",
       "      <td>0</td>\n",
       "      <td>0</td>\n",
       "      <td>0</td>\n",
       "      <td>0</td>\n",
       "      <td>0</td>\n",
       "      <td>0</td>\n",
       "      <td>0</td>\n",
       "      <td>0</td>\n",
       "      <td>...</td>\n",
       "      <td>0</td>\n",
       "      <td>0</td>\n",
       "      <td>0</td>\n",
       "      <td>0</td>\n",
       "      <td>0</td>\n",
       "      <td>0</td>\n",
       "      <td>0</td>\n",
       "      <td>0</td>\n",
       "      <td>0</td>\n",
       "      <td>0</td>\n",
       "    </tr>\n",
       "    <tr>\n",
       "      <th>1</th>\n",
       "      <td>0</td>\n",
       "      <td>0</td>\n",
       "      <td>0</td>\n",
       "      <td>0</td>\n",
       "      <td>0</td>\n",
       "      <td>0</td>\n",
       "      <td>0</td>\n",
       "      <td>0</td>\n",
       "      <td>0</td>\n",
       "      <td>0</td>\n",
       "      <td>...</td>\n",
       "      <td>0</td>\n",
       "      <td>0</td>\n",
       "      <td>0</td>\n",
       "      <td>0</td>\n",
       "      <td>0</td>\n",
       "      <td>0</td>\n",
       "      <td>0</td>\n",
       "      <td>0</td>\n",
       "      <td>0</td>\n",
       "      <td>0</td>\n",
       "    </tr>\n",
       "    <tr>\n",
       "      <th>2</th>\n",
       "      <td>1</td>\n",
       "      <td>0</td>\n",
       "      <td>0</td>\n",
       "      <td>0</td>\n",
       "      <td>0</td>\n",
       "      <td>0</td>\n",
       "      <td>0</td>\n",
       "      <td>0</td>\n",
       "      <td>0</td>\n",
       "      <td>0</td>\n",
       "      <td>...</td>\n",
       "      <td>0</td>\n",
       "      <td>0</td>\n",
       "      <td>0</td>\n",
       "      <td>0</td>\n",
       "      <td>0</td>\n",
       "      <td>0</td>\n",
       "      <td>0</td>\n",
       "      <td>0</td>\n",
       "      <td>0</td>\n",
       "      <td>0</td>\n",
       "    </tr>\n",
       "    <tr>\n",
       "      <th>3</th>\n",
       "      <td>4</td>\n",
       "      <td>0</td>\n",
       "      <td>0</td>\n",
       "      <td>0</td>\n",
       "      <td>0</td>\n",
       "      <td>0</td>\n",
       "      <td>0</td>\n",
       "      <td>0</td>\n",
       "      <td>0</td>\n",
       "      <td>0</td>\n",
       "      <td>...</td>\n",
       "      <td>0</td>\n",
       "      <td>0</td>\n",
       "      <td>0</td>\n",
       "      <td>0</td>\n",
       "      <td>0</td>\n",
       "      <td>0</td>\n",
       "      <td>0</td>\n",
       "      <td>0</td>\n",
       "      <td>0</td>\n",
       "      <td>0</td>\n",
       "    </tr>\n",
       "    <tr>\n",
       "      <th>4</th>\n",
       "      <td>0</td>\n",
       "      <td>0</td>\n",
       "      <td>0</td>\n",
       "      <td>0</td>\n",
       "      <td>0</td>\n",
       "      <td>0</td>\n",
       "      <td>0</td>\n",
       "      <td>0</td>\n",
       "      <td>0</td>\n",
       "      <td>0</td>\n",
       "      <td>...</td>\n",
       "      <td>0</td>\n",
       "      <td>0</td>\n",
       "      <td>0</td>\n",
       "      <td>0</td>\n",
       "      <td>0</td>\n",
       "      <td>0</td>\n",
       "      <td>0</td>\n",
       "      <td>0</td>\n",
       "      <td>0</td>\n",
       "      <td>0</td>\n",
       "    </tr>\n",
       "    <tr>\n",
       "      <th>5</th>\n",
       "      <td>0</td>\n",
       "      <td>0</td>\n",
       "      <td>0</td>\n",
       "      <td>0</td>\n",
       "      <td>0</td>\n",
       "      <td>0</td>\n",
       "      <td>0</td>\n",
       "      <td>0</td>\n",
       "      <td>0</td>\n",
       "      <td>0</td>\n",
       "      <td>...</td>\n",
       "      <td>0</td>\n",
       "      <td>0</td>\n",
       "      <td>0</td>\n",
       "      <td>0</td>\n",
       "      <td>0</td>\n",
       "      <td>0</td>\n",
       "      <td>0</td>\n",
       "      <td>0</td>\n",
       "      <td>0</td>\n",
       "      <td>0</td>\n",
       "    </tr>\n",
       "    <tr>\n",
       "      <th>6</th>\n",
       "      <td>7</td>\n",
       "      <td>0</td>\n",
       "      <td>0</td>\n",
       "      <td>0</td>\n",
       "      <td>0</td>\n",
       "      <td>0</td>\n",
       "      <td>0</td>\n",
       "      <td>0</td>\n",
       "      <td>0</td>\n",
       "      <td>0</td>\n",
       "      <td>...</td>\n",
       "      <td>0</td>\n",
       "      <td>0</td>\n",
       "      <td>0</td>\n",
       "      <td>0</td>\n",
       "      <td>0</td>\n",
       "      <td>0</td>\n",
       "      <td>0</td>\n",
       "      <td>0</td>\n",
       "      <td>0</td>\n",
       "      <td>0</td>\n",
       "    </tr>\n",
       "    <tr>\n",
       "      <th>7</th>\n",
       "      <td>3</td>\n",
       "      <td>0</td>\n",
       "      <td>0</td>\n",
       "      <td>0</td>\n",
       "      <td>0</td>\n",
       "      <td>0</td>\n",
       "      <td>0</td>\n",
       "      <td>0</td>\n",
       "      <td>0</td>\n",
       "      <td>0</td>\n",
       "      <td>...</td>\n",
       "      <td>0</td>\n",
       "      <td>0</td>\n",
       "      <td>0</td>\n",
       "      <td>0</td>\n",
       "      <td>0</td>\n",
       "      <td>0</td>\n",
       "      <td>0</td>\n",
       "      <td>0</td>\n",
       "      <td>0</td>\n",
       "      <td>0</td>\n",
       "    </tr>\n",
       "    <tr>\n",
       "      <th>8</th>\n",
       "      <td>5</td>\n",
       "      <td>0</td>\n",
       "      <td>0</td>\n",
       "      <td>0</td>\n",
       "      <td>0</td>\n",
       "      <td>0</td>\n",
       "      <td>0</td>\n",
       "      <td>0</td>\n",
       "      <td>0</td>\n",
       "      <td>0</td>\n",
       "      <td>...</td>\n",
       "      <td>0</td>\n",
       "      <td>0</td>\n",
       "      <td>0</td>\n",
       "      <td>0</td>\n",
       "      <td>0</td>\n",
       "      <td>0</td>\n",
       "      <td>0</td>\n",
       "      <td>0</td>\n",
       "      <td>0</td>\n",
       "      <td>0</td>\n",
       "    </tr>\n",
       "    <tr>\n",
       "      <th>9</th>\n",
       "      <td>3</td>\n",
       "      <td>0</td>\n",
       "      <td>0</td>\n",
       "      <td>0</td>\n",
       "      <td>0</td>\n",
       "      <td>0</td>\n",
       "      <td>0</td>\n",
       "      <td>0</td>\n",
       "      <td>0</td>\n",
       "      <td>0</td>\n",
       "      <td>...</td>\n",
       "      <td>0</td>\n",
       "      <td>0</td>\n",
       "      <td>0</td>\n",
       "      <td>0</td>\n",
       "      <td>0</td>\n",
       "      <td>0</td>\n",
       "      <td>0</td>\n",
       "      <td>0</td>\n",
       "      <td>0</td>\n",
       "      <td>0</td>\n",
       "    </tr>\n",
       "  </tbody>\n",
       "</table>\n",
       "<p>10 rows × 785 columns</p>\n",
       "</div>"
      ],
      "text/plain": [
       "   label  pixel0  pixel1  pixel2  pixel3  pixel4  pixel5  pixel6  pixel7  \\\n",
       "0      1       0       0       0       0       0       0       0       0   \n",
       "1      0       0       0       0       0       0       0       0       0   \n",
       "2      1       0       0       0       0       0       0       0       0   \n",
       "3      4       0       0       0       0       0       0       0       0   \n",
       "4      0       0       0       0       0       0       0       0       0   \n",
       "5      0       0       0       0       0       0       0       0       0   \n",
       "6      7       0       0       0       0       0       0       0       0   \n",
       "7      3       0       0       0       0       0       0       0       0   \n",
       "8      5       0       0       0       0       0       0       0       0   \n",
       "9      3       0       0       0       0       0       0       0       0   \n",
       "\n",
       "   pixel8  ...  pixel774  pixel775  pixel776  pixel777  pixel778  pixel779  \\\n",
       "0       0  ...         0         0         0         0         0         0   \n",
       "1       0  ...         0         0         0         0         0         0   \n",
       "2       0  ...         0         0         0         0         0         0   \n",
       "3       0  ...         0         0         0         0         0         0   \n",
       "4       0  ...         0         0         0         0         0         0   \n",
       "5       0  ...         0         0         0         0         0         0   \n",
       "6       0  ...         0         0         0         0         0         0   \n",
       "7       0  ...         0         0         0         0         0         0   \n",
       "8       0  ...         0         0         0         0         0         0   \n",
       "9       0  ...         0         0         0         0         0         0   \n",
       "\n",
       "   pixel780  pixel781  pixel782  pixel783  \n",
       "0         0         0         0         0  \n",
       "1         0         0         0         0  \n",
       "2         0         0         0         0  \n",
       "3         0         0         0         0  \n",
       "4         0         0         0         0  \n",
       "5         0         0         0         0  \n",
       "6         0         0         0         0  \n",
       "7         0         0         0         0  \n",
       "8         0         0         0         0  \n",
       "9         0         0         0         0  \n",
       "\n",
       "[10 rows x 785 columns]"
      ]
     },
     "execution_count": 22,
     "metadata": {},
     "output_type": "execute_result"
    }
   ],
   "source": [
    "digits.head(10)"
   ]
  },
  {
   "cell_type": "code",
   "execution_count": 23,
   "id": "791d88dd",
   "metadata": {},
   "outputs": [
    {
     "data": {
      "text/plain": [
       "0    785\n",
       "dtype: int64"
      ]
     },
     "execution_count": 23,
     "metadata": {},
     "output_type": "execute_result"
    }
   ],
   "source": [
    "isna=digits.isna().sum()\n",
    "isna.value_counts()"
   ]
  },
  {
   "cell_type": "markdown",
   "id": "c16273af",
   "metadata": {},
   "source": [
    "There are no null values."
   ]
  },
  {
   "cell_type": "markdown",
   "id": "499066b9",
   "metadata": {},
   "source": [
    "<H3> Visualizing examplary samples</H3>"
   ]
  },
  {
   "cell_type": "code",
   "execution_count": 24,
   "id": "9899e50b",
   "metadata": {},
   "outputs": [],
   "source": [
    "X = digits.iloc[:,1:]\n",
    "Y = digits.iloc[:,0:1]"
   ]
  },
  {
   "cell_type": "code",
   "execution_count": 25,
   "id": "49a22249",
   "metadata": {},
   "outputs": [
    {
     "data": {
      "image/png": "[encoded data removed]",
      "text/plain": [
       "<Figure size 1152x720 with 15 Axes>"
      ]
     },
     "metadata": {
      "needs_background": "light"
     },
     "output_type": "display_data"
    }
   ],
   "source": [
    "plt.figure(figsize=(16,10))\n",
    "\n",
    "for i in range(15):\n",
    "\n",
    "    labels=Y.iloc[i]\n",
    "    label=np.array(labels, dtype='int')[0]\n",
    "    pixels = X.iloc[i,:]\n",
    "    pixels = np.array(pixels, dtype='float')\n",
    "    image = pixels.reshape((28, 28))\n",
    "\n",
    "    \n",
    "    plt.subplot(4,4,i+1)\n",
    "    plt.imshow(image, cmap='gray_r')\n",
    "    plt.text(x=2.5, y=2.5, s=str(label), color='red', fontsize='large', fontweight='bold')\n",
    "plt.show()"
   ]
  },
  {
   "cell_type": "markdown",
   "id": "6db0c06c",
   "metadata": {},
   "source": [
    "<H3> Testing dataset balance </H3> "
   ]
  },
  {
   "cell_type": "code",
   "execution_count": 26,
   "id": "0765898b",
   "metadata": {},
   "outputs": [
    {
     "data": {
      "image/png": "[encoded data removed]",
      "text/plain": [
       "<Figure size 432x288 with 1 Axes>"
      ]
     },
     "metadata": {
      "needs_background": "light"
     },
     "output_type": "display_data"
    }
   ],
   "source": [
    "ax=plt.subplot()\n",
    "sns.histplot(Y)\n",
    "ax.set_xticks([x for x in range(10)])\n",
    "ax.set_xticklabels([x for x in range(10)])\n",
    "plt.show()"
   ]
  },
  {
   "cell_type": "markdown",
   "id": "867b15b5",
   "metadata": {},
   "source": [
    "- All categories are roughly equal. There is no need to use balancing methods."
   ]
  },
  {
   "cell_type": "markdown",
   "id": "252d032b",
   "metadata": {},
   "source": [
    "<H3> Train/validation split </H3>"
   ]
  },
  {
   "cell_type": "code",
   "execution_count": 27,
   "id": "800a8bce",
   "metadata": {},
   "outputs": [],
   "source": [
    "X_train, X_val, Y_train, Y_val = train_test_split(X, Y, train_size=0.8, random_state=42)"
   ]
  },
  {
   "cell_type": "code",
   "execution_count": 28,
   "id": "697090ef",
   "metadata": {},
   "outputs": [],
   "source": [
    "input_shape=[X_train.shape[1]]  #input dimension - number of columns (features) of dataset"
   ]
  },
  {
   "cell_type": "markdown",
   "id": "7f94a0e3",
   "metadata": {},
   "source": [
    "<H3>Normalizing pixel values</H3>"
   ]
  },
  {
   "cell_type": "markdown",
   "id": "d57a9aef",
   "metadata": {},
   "source": [
    "- pixel-value is an integer between 0 and 255, inclusive,\n",
    "- therefore it is neccessary to normalize the data."
   ]
  },
  {
   "cell_type": "code",
   "execution_count": 29,
   "id": "3b72acf7",
   "metadata": {},
   "outputs": [],
   "source": [
    "Xs_train=X_train/255\n",
    "Xs_val=X_val/255"
   ]
  },
  {
   "cell_type": "markdown",
   "id": "d3c3c3ed",
   "metadata": {},
   "source": [
    "<H3> Deep learning model </H3>"
   ]
  },
  {
   "cell_type": "code",
   "execution_count": 30,
   "id": "b06cfabe",
   "metadata": {},
   "outputs": [],
   "source": [
    "model = keras.Sequential([\n",
    "    #layers.BatchNormalization(), #data normalization\n",
    "    #hidden layer\n",
    "    layers.Dense(units=64, activation='relu', input_shape=input_shape),  #hidden layer with 64 nodes activated usind ReLU function: max(0,x)\n",
    "    #goutput layer\n",
    "    layers.Dense(units=10, activation='softmax'),   # softmax - a generalization of the logistic function to multiple dimension \n",
    "                                                    #10 output nodes - because there are 10 digits (10 classification possibilities)\n",
    "])"
   ]
  },
  {
   "cell_type": "markdown",
   "id": "38b2e331",
   "metadata": {},
   "source": [
    "Model is validated and optimized using:\n",
    "- a loss function that measures how good the network's predictions are,\n",
    "- an optimizer that can tell the network how to change the weights."
   ]
  },
  {
   "cell_type": "code",
   "execution_count": 31,
   "id": "d9917878",
   "metadata": {},
   "outputs": [],
   "source": [
    "#opt = keras.optimizers.Adam(learning_rate=0.001)\n",
    "model.compile(\n",
    "    optimizer='adam',\n",
    "    loss='sparse_categorical_crossentropy',\n",
    "    metrics=['accuracy'],\n",
    ")"
   ]
  },
  {
   "cell_type": "markdown",
   "id": "1940c07e",
   "metadata": {},
   "source": [
    "Stochastic gradient descent is an iterative algorithm. \n",
    "\n",
    "One step of training:\n",
    "- Sample some training data (batch_size) and run it through the network to make predictions.\n",
    "- Measure the loss between the predictions and the true values.\n",
    "- Finally, adjust the weights (learning rate) in a direction that makes the loss smaller.\n"
   ]
  },
  {
   "cell_type": "code",
   "execution_count": 32,
   "id": "7b32c847",
   "metadata": {},
   "outputs": [],
   "source": [
    "history = model.fit(\n",
    "    Xs_train, Y_train,\n",
    "    validation_data=(Xs_val, Y_val),\n",
    "    batch_size=2100,\n",
    "    epochs=30,\n",
    "    verbose=0, \n",
    ")"
   ]
  },
  {
   "cell_type": "code",
   "execution_count": 33,
   "id": "180b9668",
   "metadata": {},
   "outputs": [
    {
     "data": {
      "image/png": "[encoded data removed]",
      "text/plain": [
       "<Figure size 936x288 with 2 Axes>"
      ]
     },
     "metadata": {
      "needs_background": "light"
     },
     "output_type": "display_data"
    },
    {
     "name": "stdout",
     "output_type": "stream",
     "text": [
      "Best Loss: 0.1432\n",
      "Best Accuracy: 0.9609\n",
      "Best Validation Loss: 0.1775\n",
      "Best Validation Accuracy: 0.9493\n"
     ]
    }
   ],
   "source": [
    "history_df=history.history\n",
    "plt.figure(figsize=(13,4))\n",
    "ax0=plt.subplot(1,2,1)\n",
    "plt.plot(history_df['loss'])\n",
    "plt.plot(history_df['val_loss'])\n",
    "plt.title('Loss functions')\n",
    "plt.legend(['loss', 'validation loss'])\n",
    "plt.grid(axis='both')\n",
    "ax1=plt.subplot(1,2,2)\n",
    "plt.plot(history_df['accuracy'])\n",
    "plt.plot(history_df['val_accuracy'])\n",
    "plt.title('Accuracy functions')\n",
    "plt.legend(['accuracy', 'validation accuracy'])\n",
    "plt.grid(axis='both')\n",
    "plt.show()\n",
    "\n",
    "print((\"Best Loss: {:0.4f}\" +\\\n",
    "      \"\\nBest Accuracy: {:0.4f}\")\\\n",
    "      .format(min(history_df['loss']), \n",
    "              max(history_df['accuracy'])))\n",
    "\n",
    "print((\"Best Validation Loss: {:0.4f}\" +\\\n",
    "      \"\\nBest Validation Accuracy: {:0.4f}\")\\\n",
    "      .format(min(history_df['val_loss']), \n",
    "              max(history_df['val_accuracy'])))"
   ]
  },
  {
   "cell_type": "markdown",
   "id": "ec495de1",
   "metadata": {},
   "source": [
    "<H3> Comparison of predictions</H3>"
   ]
  },
  {
   "cell_type": "code",
   "execution_count": 34,
   "id": "efb56d8e",
   "metadata": {},
   "outputs": [
    {
     "name": "stdout",
     "output_type": "stream",
     "text": [
      "[[0.   0.   0.02 ... 0.   0.98 0.  ]\n",
      " [0.   0.99 0.   ... 0.   0.   0.  ]\n",
      " [0.   0.   0.   ... 0.01 0.   0.98]\n",
      " ...\n",
      " [0.   0.   0.   ... 0.   0.   0.  ]\n",
      " [0.99 0.   0.   ... 0.   0.   0.  ]\n",
      " [0.   0.   0.   ... 0.   0.   0.98]]\n"
     ]
    }
   ],
   "source": [
    "model_pred=model.predict(Xs_val)\n",
    "print(model_pred.round(2))"
   ]
  },
  {
   "cell_type": "code",
   "execution_count": 35,
   "id": "afd73a63",
   "metadata": {},
   "outputs": [
    {
     "data": {
      "text/plain": [
       "array([8, 1, 9, ..., 3, 0, 9])"
      ]
     },
     "execution_count": 35,
     "metadata": {},
     "output_type": "execute_result"
    }
   ],
   "source": [
    "y_pred = np.argmax(model_pred, axis=1)\n",
    "y_pred"
   ]
  },
  {
   "cell_type": "code",
   "execution_count": 36,
   "id": "b9a1486b",
   "metadata": {},
   "outputs": [
    {
     "data": {
      "text/html": [
       "<div>\n",
       "<style scoped>\n",
       "    .dataframe tbody tr th:only-of-type {\n",
       "        vertical-align: middle;\n",
       "    }\n",
       "\n",
       "    .dataframe tbody tr th {\n",
       "        vertical-align: top;\n",
       "    }\n",
       "\n",
       "    .dataframe thead th {\n",
       "        text-align: right;\n",
       "    }\n",
       "</style>\n",
       "<table border=\"1\" class=\"dataframe\">\n",
       "  <thead>\n",
       "    <tr style=\"text-align: right;\">\n",
       "      <th></th>\n",
       "      <th>label</th>\n",
       "    </tr>\n",
       "  </thead>\n",
       "  <tbody>\n",
       "    <tr>\n",
       "      <th>5457</th>\n",
       "      <td>8</td>\n",
       "    </tr>\n",
       "    <tr>\n",
       "      <th>38509</th>\n",
       "      <td>1</td>\n",
       "    </tr>\n",
       "    <tr>\n",
       "      <th>25536</th>\n",
       "      <td>9</td>\n",
       "    </tr>\n",
       "    <tr>\n",
       "      <th>31803</th>\n",
       "      <td>9</td>\n",
       "    </tr>\n",
       "    <tr>\n",
       "      <th>39863</th>\n",
       "      <td>8</td>\n",
       "    </tr>\n",
       "  </tbody>\n",
       "</table>\n",
       "</div>"
      ],
      "text/plain": [
       "       label\n",
       "5457       8\n",
       "38509      1\n",
       "25536      9\n",
       "31803      9\n",
       "39863      8"
      ]
     },
     "execution_count": 36,
     "metadata": {},
     "output_type": "execute_result"
    }
   ],
   "source": [
    "Y_val.head()"
   ]
  },
  {
   "cell_type": "code",
   "execution_count": 37,
   "id": "81ec2b59",
   "metadata": {},
   "outputs": [
    {
     "data": {
      "image/png": "[encoded data removed]",
      "text/plain": [
       "<Figure size 1152x720 with 15 Axes>"
      ]
     },
     "metadata": {
      "needs_background": "light"
     },
     "output_type": "display_data"
    }
   ],
   "source": [
    "plt.figure(figsize=(16,10))\n",
    "\n",
    "for i in range(15):\n",
    "\n",
    "    labels=Y_val.iloc[i]\n",
    "    label_predicted=np.array(labels, dtype='int')[0]\n",
    "    pixels = Xs_val.iloc[i,:]\n",
    "    pixels = np.array(pixels, dtype='float')\n",
    "    image = pixels.reshape((28, 28))\n",
    "\n",
    "    \n",
    "    plt.subplot(4,4,i+1)\n",
    "    plt.imshow(image, cmap='gray_r')\n",
    "    plt.text(x=2.5, y=2.5, s=str(label_predicted), color='red', fontsize='large', fontweight='bold')\n",
    "plt.show()"
   ]
  }
 ],
 "metadata": {
  "kernelspec": {
   "display_name": "Python 3",
   "language": "python",
   "name": "python3"
  },
  "language_info": {
   "codemirror_mode": {
    "name": "ipython",
    "version": 3
   },
   "file_extension": ".py",
   "mimetype": "text/x-python",
   "name": "python",
   "nbconvert_exporter": "python",
   "pygments_lexer": "ipython3",
   "version": "3.8.10"
  }
 },
 "nbformat": 4,
 "nbformat_minor": 5
}

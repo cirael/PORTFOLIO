{
 "cells": [
  {
   "cell_type": "code",
   "execution_count": 2,
   "id": "18fe05fa",
   "metadata": {},
   "outputs": [],
   "source": [
    "import pandas as pd\n",
    "from matplotlib import pyplot as plt\n",
    "import seaborn as sns\n",
    "import numpy as np"
   ]
  },
  {
   "cell_type": "code",
   "execution_count": 3,
   "id": "1b8cb30b",
   "metadata": {},
   "outputs": [],
   "source": [
    "white_wine = pd.read_csv('winequality-white.csv', sep=';')"
   ]
  },
  {
   "cell_type": "markdown",
   "id": "2ebacb03",
   "metadata": {},
   "source": [
    "Full description of dataset can be found in 06a notebook. This dataset is related to white wine samples. Features are the same like in the case of red wine. The main differences are:\n",
    "- more samples (in red wine dataset number of samples was 1599, and here are 4898 samples),\n",
    "- more quality categories (in red wine dataset was 6 categories from 3 to 8, here are 7 categories from 3 to 9)\n",
    "- 9 point category contains only 5 samples, what makes SMOTE technique impossible to use, it was neccessary to merge 8 and 9 points categories,"
   ]
  },
  {
   "cell_type": "code",
   "execution_count": 4,
   "id": "7f34938c",
   "metadata": {},
   "outputs": [
    {
     "data": {
      "text/html": [
       "<div>\n",
       "<style scoped>\n",
       "    .dataframe tbody tr th:only-of-type {\n",
       "        vertical-align: middle;\n",
       "    }\n",
       "\n",
       "    .dataframe tbody tr th {\n",
       "        vertical-align: top;\n",
       "    }\n",
       "\n",
       "    .dataframe thead th {\n",
       "        text-align: right;\n",
       "    }\n",
       "</style>\n",
       "<table border=\"1\" class=\"dataframe\">\n",
       "  <thead>\n",
       "    <tr style=\"text-align: right;\">\n",
       "      <th></th>\n",
       "      <th>fixed acidity</th>\n",
       "      <th>volatile acidity</th>\n",
       "      <th>citric acid</th>\n",
       "      <th>residual sugar</th>\n",
       "      <th>chlorides</th>\n",
       "      <th>free sulfur dioxide</th>\n",
       "      <th>total sulfur dioxide</th>\n",
       "      <th>density</th>\n",
       "      <th>pH</th>\n",
       "      <th>sulphates</th>\n",
       "      <th>alcohol</th>\n",
       "      <th>quality</th>\n",
       "    </tr>\n",
       "  </thead>\n",
       "  <tbody>\n",
       "    <tr>\n",
       "      <th>0</th>\n",
       "      <td>7.0</td>\n",
       "      <td>0.27</td>\n",
       "      <td>0.36</td>\n",
       "      <td>20.7</td>\n",
       "      <td>0.045</td>\n",
       "      <td>45.0</td>\n",
       "      <td>170.0</td>\n",
       "      <td>1.0010</td>\n",
       "      <td>3.00</td>\n",
       "      <td>0.45</td>\n",
       "      <td>8.8</td>\n",
       "      <td>6</td>\n",
       "    </tr>\n",
       "    <tr>\n",
       "      <th>1</th>\n",
       "      <td>6.3</td>\n",
       "      <td>0.30</td>\n",
       "      <td>0.34</td>\n",
       "      <td>1.6</td>\n",
       "      <td>0.049</td>\n",
       "      <td>14.0</td>\n",
       "      <td>132.0</td>\n",
       "      <td>0.9940</td>\n",
       "      <td>3.30</td>\n",
       "      <td>0.49</td>\n",
       "      <td>9.5</td>\n",
       "      <td>6</td>\n",
       "    </tr>\n",
       "    <tr>\n",
       "      <th>2</th>\n",
       "      <td>8.1</td>\n",
       "      <td>0.28</td>\n",
       "      <td>0.40</td>\n",
       "      <td>6.9</td>\n",
       "      <td>0.050</td>\n",
       "      <td>30.0</td>\n",
       "      <td>97.0</td>\n",
       "      <td>0.9951</td>\n",
       "      <td>3.26</td>\n",
       "      <td>0.44</td>\n",
       "      <td>10.1</td>\n",
       "      <td>6</td>\n",
       "    </tr>\n",
       "    <tr>\n",
       "      <th>3</th>\n",
       "      <td>7.2</td>\n",
       "      <td>0.23</td>\n",
       "      <td>0.32</td>\n",
       "      <td>8.5</td>\n",
       "      <td>0.058</td>\n",
       "      <td>47.0</td>\n",
       "      <td>186.0</td>\n",
       "      <td>0.9956</td>\n",
       "      <td>3.19</td>\n",
       "      <td>0.40</td>\n",
       "      <td>9.9</td>\n",
       "      <td>6</td>\n",
       "    </tr>\n",
       "    <tr>\n",
       "      <th>4</th>\n",
       "      <td>7.2</td>\n",
       "      <td>0.23</td>\n",
       "      <td>0.32</td>\n",
       "      <td>8.5</td>\n",
       "      <td>0.058</td>\n",
       "      <td>47.0</td>\n",
       "      <td>186.0</td>\n",
       "      <td>0.9956</td>\n",
       "      <td>3.19</td>\n",
       "      <td>0.40</td>\n",
       "      <td>9.9</td>\n",
       "      <td>6</td>\n",
       "    </tr>\n",
       "  </tbody>\n",
       "</table>\n",
       "</div>"
      ],
      "text/plain": [
       "   fixed acidity  volatile acidity  citric acid  residual sugar  chlorides  \\\n",
       "0            7.0              0.27         0.36            20.7      0.045   \n",
       "1            6.3              0.30         0.34             1.6      0.049   \n",
       "2            8.1              0.28         0.40             6.9      0.050   \n",
       "3            7.2              0.23         0.32             8.5      0.058   \n",
       "4            7.2              0.23         0.32             8.5      0.058   \n",
       "\n",
       "   free sulfur dioxide  total sulfur dioxide  density    pH  sulphates  \\\n",
       "0                 45.0                 170.0   1.0010  3.00       0.45   \n",
       "1                 14.0                 132.0   0.9940  3.30       0.49   \n",
       "2                 30.0                  97.0   0.9951  3.26       0.44   \n",
       "3                 47.0                 186.0   0.9956  3.19       0.40   \n",
       "4                 47.0                 186.0   0.9956  3.19       0.40   \n",
       "\n",
       "   alcohol  quality  \n",
       "0      8.8        6  \n",
       "1      9.5        6  \n",
       "2     10.1        6  \n",
       "3      9.9        6  \n",
       "4      9.9        6  "
      ]
     },
     "execution_count": 4,
     "metadata": {},
     "output_type": "execute_result"
    }
   ],
   "source": [
    "white_wine.head()"
   ]
  },
  {
   "cell_type": "code",
   "execution_count": 5,
   "id": "3d60bf81",
   "metadata": {},
   "outputs": [
    {
     "data": {
      "text/plain": [
       "(4898, 12)"
      ]
     },
     "execution_count": 5,
     "metadata": {},
     "output_type": "execute_result"
    }
   ],
   "source": [
    "white_wine.shape"
   ]
  },
  {
   "cell_type": "code",
   "execution_count": 6,
   "id": "355867c5",
   "metadata": {},
   "outputs": [
    {
     "data": {
      "text/plain": [
       "fixed acidity           0\n",
       "volatile acidity        0\n",
       "citric acid             0\n",
       "residual sugar          0\n",
       "chlorides               0\n",
       "free sulfur dioxide     0\n",
       "total sulfur dioxide    0\n",
       "density                 0\n",
       "pH                      0\n",
       "sulphates               0\n",
       "alcohol                 0\n",
       "quality                 0\n",
       "dtype: int64"
      ]
     },
     "execution_count": 6,
     "metadata": {},
     "output_type": "execute_result"
    }
   ],
   "source": [
    "white_wine.isna().sum()"
   ]
  },
  {
   "cell_type": "code",
   "execution_count": 7,
   "id": "e715ae42",
   "metadata": {},
   "outputs": [
    {
     "data": {
      "text/html": [
       "<div>\n",
       "<style scoped>\n",
       "    .dataframe tbody tr th:only-of-type {\n",
       "        vertical-align: middle;\n",
       "    }\n",
       "\n",
       "    .dataframe tbody tr th {\n",
       "        vertical-align: top;\n",
       "    }\n",
       "\n",
       "    .dataframe thead th {\n",
       "        text-align: right;\n",
       "    }\n",
       "</style>\n",
       "<table border=\"1\" class=\"dataframe\">\n",
       "  <thead>\n",
       "    <tr style=\"text-align: right;\">\n",
       "      <th></th>\n",
       "      <th>fixed acidity</th>\n",
       "      <th>volatile acidity</th>\n",
       "      <th>citric acid</th>\n",
       "      <th>residual sugar</th>\n",
       "      <th>chlorides</th>\n",
       "      <th>free sulfur dioxide</th>\n",
       "      <th>total sulfur dioxide</th>\n",
       "      <th>density</th>\n",
       "      <th>pH</th>\n",
       "      <th>sulphates</th>\n",
       "      <th>alcohol</th>\n",
       "      <th>quality</th>\n",
       "    </tr>\n",
       "  </thead>\n",
       "  <tbody>\n",
       "    <tr>\n",
       "      <th>count</th>\n",
       "      <td>4898.000000</td>\n",
       "      <td>4898.000000</td>\n",
       "      <td>4898.000000</td>\n",
       "      <td>4898.000000</td>\n",
       "      <td>4898.000000</td>\n",
       "      <td>4898.000000</td>\n",
       "      <td>4898.000000</td>\n",
       "      <td>4898.000000</td>\n",
       "      <td>4898.000000</td>\n",
       "      <td>4898.000000</td>\n",
       "      <td>4898.000000</td>\n",
       "      <td>4898.000000</td>\n",
       "    </tr>\n",
       "    <tr>\n",
       "      <th>mean</th>\n",
       "      <td>6.854788</td>\n",
       "      <td>0.278241</td>\n",
       "      <td>0.334192</td>\n",
       "      <td>6.391415</td>\n",
       "      <td>0.045772</td>\n",
       "      <td>35.308085</td>\n",
       "      <td>138.360657</td>\n",
       "      <td>0.994027</td>\n",
       "      <td>3.188267</td>\n",
       "      <td>0.489847</td>\n",
       "      <td>10.514267</td>\n",
       "      <td>5.877909</td>\n",
       "    </tr>\n",
       "    <tr>\n",
       "      <th>std</th>\n",
       "      <td>0.843868</td>\n",
       "      <td>0.100795</td>\n",
       "      <td>0.121020</td>\n",
       "      <td>5.072058</td>\n",
       "      <td>0.021848</td>\n",
       "      <td>17.007137</td>\n",
       "      <td>42.498065</td>\n",
       "      <td>0.002991</td>\n",
       "      <td>0.151001</td>\n",
       "      <td>0.114126</td>\n",
       "      <td>1.230621</td>\n",
       "      <td>0.885639</td>\n",
       "    </tr>\n",
       "    <tr>\n",
       "      <th>min</th>\n",
       "      <td>3.800000</td>\n",
       "      <td>0.080000</td>\n",
       "      <td>0.000000</td>\n",
       "      <td>0.600000</td>\n",
       "      <td>0.009000</td>\n",
       "      <td>2.000000</td>\n",
       "      <td>9.000000</td>\n",
       "      <td>0.987110</td>\n",
       "      <td>2.720000</td>\n",
       "      <td>0.220000</td>\n",
       "      <td>8.000000</td>\n",
       "      <td>3.000000</td>\n",
       "    </tr>\n",
       "    <tr>\n",
       "      <th>25%</th>\n",
       "      <td>6.300000</td>\n",
       "      <td>0.210000</td>\n",
       "      <td>0.270000</td>\n",
       "      <td>1.700000</td>\n",
       "      <td>0.036000</td>\n",
       "      <td>23.000000</td>\n",
       "      <td>108.000000</td>\n",
       "      <td>0.991723</td>\n",
       "      <td>3.090000</td>\n",
       "      <td>0.410000</td>\n",
       "      <td>9.500000</td>\n",
       "      <td>5.000000</td>\n",
       "    </tr>\n",
       "    <tr>\n",
       "      <th>50%</th>\n",
       "      <td>6.800000</td>\n",
       "      <td>0.260000</td>\n",
       "      <td>0.320000</td>\n",
       "      <td>5.200000</td>\n",
       "      <td>0.043000</td>\n",
       "      <td>34.000000</td>\n",
       "      <td>134.000000</td>\n",
       "      <td>0.993740</td>\n",
       "      <td>3.180000</td>\n",
       "      <td>0.470000</td>\n",
       "      <td>10.400000</td>\n",
       "      <td>6.000000</td>\n",
       "    </tr>\n",
       "    <tr>\n",
       "      <th>75%</th>\n",
       "      <td>7.300000</td>\n",
       "      <td>0.320000</td>\n",
       "      <td>0.390000</td>\n",
       "      <td>9.900000</td>\n",
       "      <td>0.050000</td>\n",
       "      <td>46.000000</td>\n",
       "      <td>167.000000</td>\n",
       "      <td>0.996100</td>\n",
       "      <td>3.280000</td>\n",
       "      <td>0.550000</td>\n",
       "      <td>11.400000</td>\n",
       "      <td>6.000000</td>\n",
       "    </tr>\n",
       "    <tr>\n",
       "      <th>max</th>\n",
       "      <td>14.200000</td>\n",
       "      <td>1.100000</td>\n",
       "      <td>1.660000</td>\n",
       "      <td>65.800000</td>\n",
       "      <td>0.346000</td>\n",
       "      <td>289.000000</td>\n",
       "      <td>440.000000</td>\n",
       "      <td>1.038980</td>\n",
       "      <td>3.820000</td>\n",
       "      <td>1.080000</td>\n",
       "      <td>14.200000</td>\n",
       "      <td>9.000000</td>\n",
       "    </tr>\n",
       "  </tbody>\n",
       "</table>\n",
       "</div>"
      ],
      "text/plain": [
       "       fixed acidity  volatile acidity  citric acid  residual sugar  \\\n",
       "count    4898.000000       4898.000000  4898.000000     4898.000000   \n",
       "mean        6.854788          0.278241     0.334192        6.391415   \n",
       "std         0.843868          0.100795     0.121020        5.072058   \n",
       "min         3.800000          0.080000     0.000000        0.600000   \n",
       "25%         6.300000          0.210000     0.270000        1.700000   \n",
       "50%         6.800000          0.260000     0.320000        5.200000   \n",
       "75%         7.300000          0.320000     0.390000        9.900000   \n",
       "max        14.200000          1.100000     1.660000       65.800000   \n",
       "\n",
       "         chlorides  free sulfur dioxide  total sulfur dioxide      density  \\\n",
       "count  4898.000000          4898.000000           4898.000000  4898.000000   \n",
       "mean      0.045772            35.308085            138.360657     0.994027   \n",
       "std       0.021848            17.007137             42.498065     0.002991   \n",
       "min       0.009000             2.000000              9.000000     0.987110   \n",
       "25%       0.036000            23.000000            108.000000     0.991723   \n",
       "50%       0.043000            34.000000            134.000000     0.993740   \n",
       "75%       0.050000            46.000000            167.000000     0.996100   \n",
       "max       0.346000           289.000000            440.000000     1.038980   \n",
       "\n",
       "                pH    sulphates      alcohol      quality  \n",
       "count  4898.000000  4898.000000  4898.000000  4898.000000  \n",
       "mean      3.188267     0.489847    10.514267     5.877909  \n",
       "std       0.151001     0.114126     1.230621     0.885639  \n",
       "min       2.720000     0.220000     8.000000     3.000000  \n",
       "25%       3.090000     0.410000     9.500000     5.000000  \n",
       "50%       3.180000     0.470000    10.400000     6.000000  \n",
       "75%       3.280000     0.550000    11.400000     6.000000  \n",
       "max       3.820000     1.080000    14.200000     9.000000  "
      ]
     },
     "execution_count": 7,
     "metadata": {},
     "output_type": "execute_result"
    }
   ],
   "source": [
    "white_wine.describe()"
   ]
  },
  {
   "cell_type": "markdown",
   "id": "53c5be7b",
   "metadata": {},
   "source": [
    "<H3>Target variable</H3>"
   ]
  },
  {
   "cell_type": "code",
   "execution_count": 8,
   "id": "8f29ee62",
   "metadata": {},
   "outputs": [
    {
     "data": {
      "image/png": "[encoded data removed]",
      "text/plain": [
       "<Figure size 432x288 with 1 Axes>"
      ]
     },
     "metadata": {
      "needs_background": "light"
     },
     "output_type": "display_data"
    }
   ],
   "source": [
    "sns.histplot(data=white_wine, x='quality')\n",
    "plt.xlabel('Quality')\n",
    "plt.title('Fig.1. Histogram of wine quality')\n",
    "plt.show()"
   ]
  },
  {
   "cell_type": "code",
   "execution_count": 9,
   "id": "32a4f711",
   "metadata": {},
   "outputs": [
    {
     "data": {
      "text/plain": [
       "6    2198\n",
       "5    1457\n",
       "7     880\n",
       "8     175\n",
       "4     163\n",
       "3      20\n",
       "9       5\n",
       "Name: quality, dtype: int64"
      ]
     },
     "execution_count": 9,
     "metadata": {},
     "output_type": "execute_result"
    }
   ],
   "source": [
    "white_wine['quality'].value_counts()"
   ]
  },
  {
   "cell_type": "markdown",
   "id": "984b860b",
   "metadata": {},
   "source": [
    "<H3>Correlation with target</H3>"
   ]
  },
  {
   "cell_type": "code",
   "execution_count": 10,
   "id": "14a3d4f5",
   "metadata": {},
   "outputs": [
    {
     "data": {
      "image/png": "[encoded data removed]",
      "text/plain": [
       "<Figure size 1080x288 with 2 Axes>"
      ]
     },
     "metadata": {
      "needs_background": "light"
     },
     "output_type": "display_data"
    }
   ],
   "source": [
    "plt.figure(figsize=(15,4))\n",
    "plt.subplot(1,2,1)\n",
    "sns.boxplot(x=white_wine['quality'], y=white_wine['fixed acidity'], palette='Set3')\n",
    "plt.xlabel('Quality')\n",
    "plt.ylabel('Fixed Acidity [g/dm3]')\n",
    "plt.title('Fig.2. Wine Quality vs Fixed Acidity')\n",
    "plt.grid(alpha = 0.3)\n",
    "plt.subplot(1,2,2)\n",
    "sns.boxplot(x=white_wine['quality'], y=white_wine['volatile acidity'], palette='Set3')\n",
    "plt.xlabel('Quality')\n",
    "plt.ylabel('Volatile Acidity [g/dm3]')\n",
    "plt.title('Fig.3. Wine Quality vs Volatile Acidity')\n",
    "plt.grid(alpha = 0.3)\n",
    "plt.show()"
   ]
  },
  {
   "cell_type": "code",
   "execution_count": 11,
   "id": "12688d67",
   "metadata": {},
   "outputs": [
    {
     "data": {
      "image/png": "[encoded data removed]",
      "text/plain": [
       "<Figure size 1080x360 with 2 Axes>"
      ]
     },
     "metadata": {
      "needs_background": "light"
     },
     "output_type": "display_data"
    }
   ],
   "source": [
    "plt.figure(figsize=(15,5))\n",
    "plt.subplot(1,2,1)\n",
    "sns.boxplot(x=white_wine['quality'], y=white_wine['citric acid'], palette='Set3')\n",
    "plt.xlabel('Quality')\n",
    "plt.ylabel('Citric Acid [g/dm3]')\n",
    "plt.title('Fig.4. Wine Quality vs Citric Acid content')\n",
    "plt.grid(alpha = 0.3)\n",
    "plt.subplot(1,2,2)\n",
    "sns.boxplot(x=white_wine['quality'], y=white_wine['residual sugar'], palette='Set3')\n",
    "plt.xlabel('Quality')\n",
    "plt.ylabel('Residual Sugar [g/dm3]')\n",
    "plt.title('Fig.5. Wine Quality vs Residual Sugar content')\n",
    "plt.grid(alpha = 0.3)\n",
    "plt.show()"
   ]
  },
  {
   "cell_type": "code",
   "execution_count": 12,
   "id": "baa96826",
   "metadata": {},
   "outputs": [
    {
     "data": {
      "image/png": "[encoded data removed]",
      "text/plain": [
       "<Figure size 1080x360 with 2 Axes>"
      ]
     },
     "metadata": {
      "needs_background": "light"
     },
     "output_type": "display_data"
    }
   ],
   "source": [
    "plt.figure(figsize=(15,5))\n",
    "plt.subplot(1,2,1)\n",
    "sns.boxplot(x=white_wine['quality'], y=white_wine['chlorides'], palette='Set3')\n",
    "plt.xlabel('Quality')\n",
    "plt.ylabel('Chlorides [g/dm3]')\n",
    "plt.grid(alpha = 0.3)\n",
    "plt.title('Fig.6. Wine Quality vs Chlorides content')\n",
    "plt.subplot(1,2,2)\n",
    "sns.boxplot(x=white_wine['quality'], y=white_wine['free sulfur dioxide'], palette='Set3')\n",
    "plt.xlabel('Quality')\n",
    "plt.ylabel('Free Sulfur Dioxide [mg/dm3]')\n",
    "plt.title('Fig.7. Wine Quality vs Free Sulfur Dioxide content')\n",
    "plt.grid(alpha = 0.3)\n",
    "plt.show()"
   ]
  },
  {
   "cell_type": "code",
   "execution_count": 13,
   "id": "51c43f0f",
   "metadata": {},
   "outputs": [
    {
     "data": {
      "image/png": "[encoded data removed]",
      "text/plain": [
       "<Figure size 1080x360 with 2 Axes>"
      ]
     },
     "metadata": {
      "needs_background": "light"
     },
     "output_type": "display_data"
    }
   ],
   "source": [
    "plt.figure(figsize=(15,5))\n",
    "plt.subplot(1,2,1)\n",
    "sns.boxplot(x=white_wine['quality'], y=white_wine['total sulfur dioxide'], palette='Set3')\n",
    "plt.xlabel('Quality')\n",
    "plt.ylabel('Total Sulfur Dioxide [mg/dm3]')\n",
    "plt.title('Fig.8. Wine Quality vs Total Sulfur Dioxide content')\n",
    "plt.grid(alpha = 0.3)\n",
    "plt.subplot(1,2,2)\n",
    "sns.boxplot(x=white_wine['quality'], y=white_wine['density'], palette='Set3')\n",
    "plt.xlabel('Quality')\n",
    "plt.ylabel('Density [g/dm3]')\n",
    "plt.title('Fig.9. Wine Quality vs Density')\n",
    "plt.grid(alpha = 0.3)\n",
    "\n",
    "plt.show()"
   ]
  },
  {
   "cell_type": "code",
   "execution_count": 14,
   "id": "5448c196",
   "metadata": {},
   "outputs": [
    {
     "data": {
      "image/png": "[encoded data removed]",
      "text/plain": [
       "<Figure size 1080x360 with 2 Axes>"
      ]
     },
     "metadata": {
      "needs_background": "light"
     },
     "output_type": "display_data"
    }
   ],
   "source": [
    "plt.figure(figsize=(15,5))\n",
    "plt.subplot(1,2,1)\n",
    "sns.boxplot(x=white_wine['quality'], y=white_wine['pH'], palette='Set3')\n",
    "plt.xlabel('Quality')\n",
    "plt.ylabel('pH')\n",
    "plt.title('Fig.10. Wine Quality vs pH')\n",
    "plt.grid(alpha = 0.3)\n",
    "plt.subplot(1,2,2)\n",
    "sns.boxplot(x=white_wine['quality'], y=white_wine['sulphates'], palette='Set3')\n",
    "plt.xlabel('Quality')\n",
    "plt.ylabel('Sulphates [g/dm3]')\n",
    "plt.title('Fig.11. Wine Quality vs Sulphates content')\n",
    "plt.grid(alpha = 0.3)\n",
    "plt.show()"
   ]
  },
  {
   "cell_type": "code",
   "execution_count": 15,
   "id": "90724380",
   "metadata": {},
   "outputs": [
    {
     "data": {
      "image/png": "[encoded data removed]",
      "text/plain": [
       "<Figure size 432x288 with 1 Axes>"
      ]
     },
     "metadata": {
      "needs_background": "light"
     },
     "output_type": "display_data"
    }
   ],
   "source": [
    "sns.boxplot(x=white_wine['quality'], y=white_wine['alcohol'], palette='Set3')\n",
    "plt.xlabel('Quality')\n",
    "plt.ylabel('Alcohol [%vol]')\n",
    "plt.title('Fig.12. Wine Quality vs Alcohol content')\n",
    "plt.grid(alpha = 0.3)\n",
    "plt.show()"
   ]
  },
  {
   "cell_type": "markdown",
   "id": "f32cdcc8",
   "metadata": {},
   "source": [
    "Correlated features\n",
    "- idea and code based on notebook from Kaggle, author YANA DAV (https://www.kaggle.com/yanadav/eda-preprocessing-linear-regression/notebook#Linear-Regression)"
   ]
  },
  {
   "cell_type": "code",
   "execution_count": 16,
   "id": "353b8889",
   "metadata": {},
   "outputs": [
    {
     "data": {
      "text/plain": [
       "<AxesSubplot:>"
      ]
     },
     "execution_count": 16,
     "metadata": {},
     "output_type": "execute_result"
    },
    {
     "data": {
      "image/png": "[encoded data removed]",
      "text/plain": [
       "<Figure size 720x720 with 2 Axes>"
      ]
     },
     "metadata": {
      "needs_background": "light"
     },
     "output_type": "display_data"
    }
   ],
   "source": [
    "num_corr = white_wine.corr()\n",
    "corr_triu = num_corr.where(np.triu(np.ones(num_corr.shape), k=1).astype(np.bool))\n",
    "\n",
    "plt.figure(figsize=(10,10))\n",
    "sns.heatmap(num_corr,annot=True, square=True, fmt='.2f',\\\n",
    "            annot_kws={'size':9}, mask = np.triu(corr_triu), cmap= \"coolwarm\")"
   ]
  },
  {
   "cell_type": "markdown",
   "id": "5728f096",
   "metadata": {},
   "source": [
    "- Correlation of particular features with target is smaller than in the case of red wine, it is more difficult to identify patterns.\n"
   ]
  },
  {
   "cell_type": "code",
   "execution_count": 17,
   "id": "18582b1e",
   "metadata": {},
   "outputs": [],
   "source": [
    "#cols_to_drop = ['residual sugar']\n",
    "#white_wine.drop(cols_to_drop, axis=1, inplace=True)\n",
    "#white_wine.head()"
   ]
  },
  {
   "cell_type": "markdown",
   "id": "8a23be72",
   "metadata": {},
   "source": [
    "<H3>Target variable imbalance</H3>"
   ]
  },
  {
   "cell_type": "code",
   "execution_count": 18,
   "id": "f1606e86",
   "metadata": {},
   "outputs": [
    {
     "data": {
      "text/plain": [
       "6    2198\n",
       "5    1457\n",
       "7     880\n",
       "8     175\n",
       "4     163\n",
       "3      20\n",
       "9       5\n",
       "Name: quality, dtype: int64"
      ]
     },
     "execution_count": 18,
     "metadata": {},
     "output_type": "execute_result"
    }
   ],
   "source": [
    "white_wine['quality'].value_counts()"
   ]
  },
  {
   "cell_type": "markdown",
   "id": "69999962",
   "metadata": {},
   "source": [
    "Because there are small numbers of samples with 9 points, SMOTE method doesn't work. I this case groups 8 and 9 points will be combined. "
   ]
  },
  {
   "cell_type": "code",
   "execution_count": 19,
   "id": "30f277a8",
   "metadata": {},
   "outputs": [],
   "source": [
    "white_wine['quality'].replace({9: 8}, inplace=True)"
   ]
  },
  {
   "cell_type": "markdown",
   "id": "d4d66350",
   "metadata": {},
   "source": [
    "<H3>Splitting data</H3>"
   ]
  },
  {
   "cell_type": "code",
   "execution_count": 20,
   "id": "76b2f6b4",
   "metadata": {},
   "outputs": [],
   "source": [
    "X = white_wine.iloc[:, 0:-1]\n",
    "Y = white_wine.iloc[:, -1:]"
   ]
  },
  {
   "cell_type": "code",
   "execution_count": 21,
   "id": "210a1eee",
   "metadata": {},
   "outputs": [],
   "source": [
    "X_columns=X.columns"
   ]
  },
  {
   "cell_type": "code",
   "execution_count": 22,
   "id": "4dc8be59",
   "metadata": {},
   "outputs": [
    {
     "data": {
      "text/plain": [
       "quality\n",
       "6          2198\n",
       "5          1457\n",
       "7           880\n",
       "8           180\n",
       "4           163\n",
       "3            20\n",
       "dtype: int64"
      ]
     },
     "execution_count": 22,
     "metadata": {},
     "output_type": "execute_result"
    }
   ],
   "source": [
    "Y.value_counts()"
   ]
  },
  {
   "cell_type": "markdown",
   "id": "c12274ff",
   "metadata": {},
   "source": [
    "<H3>SMOTE</H3>"
   ]
  },
  {
   "cell_type": "code",
   "execution_count": 23,
   "id": "e4dca3b4",
   "metadata": {},
   "outputs": [],
   "source": [
    "from imblearn.over_sampling import SMOTE\n",
    "X, Y = SMOTE().fit_resample(X, Y)"
   ]
  },
  {
   "cell_type": "code",
   "execution_count": 24,
   "id": "77c83a27",
   "metadata": {},
   "outputs": [
    {
     "data": {
      "text/plain": [
       "quality\n",
       "3          2198\n",
       "4          2198\n",
       "5          2198\n",
       "6          2198\n",
       "7          2198\n",
       "8          2198\n",
       "dtype: int64"
      ]
     },
     "execution_count": 24,
     "metadata": {},
     "output_type": "execute_result"
    }
   ],
   "source": [
    "Y.value_counts()"
   ]
  },
  {
   "cell_type": "markdown",
   "id": "4c7fcabd",
   "metadata": {},
   "source": [
    "<H3>Train/Test Split</H3>"
   ]
  },
  {
   "cell_type": "code",
   "execution_count": 25,
   "id": "c83733ba",
   "metadata": {},
   "outputs": [],
   "source": [
    "from sklearn.model_selection import train_test_split \n",
    "X_train, X_test, Y_train, Y_test = train_test_split(X, Y, test_size=0.25, random_state = 42)\n",
    "\n",
    "#turn in to 1d arrays\n",
    "Y_train = Y_train.to_numpy().ravel()\n",
    "Y_test = Y_test.to_numpy().ravel()"
   ]
  },
  {
   "cell_type": "code",
   "execution_count": 26,
   "id": "c6177bb6",
   "metadata": {},
   "outputs": [
    {
     "name": "stdout",
     "output_type": "stream",
     "text": [
      "9891 3297\n"
     ]
    }
   ],
   "source": [
    "print(len(Y_train),len(Y_test))"
   ]
  },
  {
   "cell_type": "markdown",
   "id": "28a21cfa",
   "metadata": {},
   "source": [
    "<H3>Linear regression</H3>"
   ]
  },
  {
   "cell_type": "code",
   "execution_count": 27,
   "id": "3674715c",
   "metadata": {},
   "outputs": [],
   "source": [
    "from sklearn.linear_model import LinearRegression\n",
    "LR_model=LinearRegression()\n",
    "LR_model.fit(X_train, Y_train)\n",
    "y_pred=LR_model.predict(X_test)"
   ]
  },
  {
   "cell_type": "code",
   "execution_count": 28,
   "id": "19a41f31",
   "metadata": {},
   "outputs": [
    {
     "name": "stdout",
     "output_type": "stream",
     "text": [
      "Training set score: 0.354\n"
     ]
    }
   ],
   "source": [
    "print('Training set score: %.3f' % LR_model.score(X_train,Y_train))"
   ]
  },
  {
   "cell_type": "code",
   "execution_count": 29,
   "id": "1415311a",
   "metadata": {},
   "outputs": [
    {
     "name": "stdout",
     "output_type": "stream",
     "text": [
      "Test set score: 0.312\n"
     ]
    }
   ],
   "source": [
    "print('Test set score: %.3f' % LR_model.score(X_test,Y_test))"
   ]
  },
  {
   "cell_type": "markdown",
   "id": "7f347aa9",
   "metadata": {},
   "source": [
    "<H3>Classification models</H3>"
   ]
  },
  {
   "cell_type": "code",
   "execution_count": 30,
   "id": "2967134d",
   "metadata": {},
   "outputs": [],
   "source": [
    "from sklearn.linear_model import LogisticRegression"
   ]
  },
  {
   "cell_type": "code",
   "execution_count": 31,
   "id": "1992f3b2",
   "metadata": {},
   "outputs": [
    {
     "data": {
      "text/plain": [
       "LogisticRegression(max_iter=10000, multi_class='multinomial')"
      ]
     },
     "execution_count": 31,
     "metadata": {},
     "output_type": "execute_result"
    }
   ],
   "source": [
    "mlr_model = LogisticRegression(multi_class=\"multinomial\", max_iter=10000)\n",
    "mlr_model.fit(X_train, Y_train)"
   ]
  },
  {
   "cell_type": "code",
   "execution_count": 32,
   "id": "d6a42e29",
   "metadata": {},
   "outputs": [],
   "source": [
    "mlr_predictions = mlr_model.predict(X_train)"
   ]
  },
  {
   "cell_type": "code",
   "execution_count": 33,
   "id": "fb99d1a5",
   "metadata": {},
   "outputs": [
    {
     "name": "stdout",
     "output_type": "stream",
     "text": [
      "              precision    recall  f1-score   support\n",
      "\n",
      "           3       0.47      0.44      0.45      1650\n",
      "           4       0.53      0.63      0.58      1642\n",
      "           5       0.40      0.43      0.41      1651\n",
      "           6       0.30      0.21      0.25      1639\n",
      "           7       0.39      0.30      0.34      1629\n",
      "           8       0.44      0.58      0.50      1680\n",
      "\n",
      "    accuracy                           0.43      9891\n",
      "   macro avg       0.42      0.43      0.42      9891\n",
      "weighted avg       0.42      0.43      0.42      9891\n",
      "\n"
     ]
    }
   ],
   "source": [
    "from sklearn.metrics import classification_report\n",
    "print(classification_report(Y_train, mlr_predictions))"
   ]
  },
  {
   "cell_type": "code",
   "execution_count": 34,
   "id": "2939955a",
   "metadata": {},
   "outputs": [
    {
     "name": "stdout",
     "output_type": "stream",
     "text": [
      "              precision    recall  f1-score   support\n",
      "\n",
      "           3       0.46      0.45      0.46       548\n",
      "           4       0.55      0.63      0.59       556\n",
      "           5       0.36      0.41      0.39       547\n",
      "           6       0.29      0.20      0.24       559\n",
      "           7       0.36      0.27      0.31       569\n",
      "           8       0.41      0.55      0.47       518\n",
      "\n",
      "    accuracy                           0.42      3297\n",
      "   macro avg       0.41      0.42      0.41      3297\n",
      "weighted avg       0.41      0.42      0.41      3297\n",
      "\n"
     ]
    }
   ],
   "source": [
    "mlr_pred = mlr_model.predict(X_test)\n",
    "print(classification_report(Y_test, mlr_pred))"
   ]
  },
  {
   "cell_type": "code",
   "execution_count": 35,
   "id": "a4314ec6",
   "metadata": {},
   "outputs": [
    {
     "name": "stdout",
     "output_type": "stream",
     "text": [
      "Logistic Regression accuracy is: 41.73%\n"
     ]
    }
   ],
   "source": [
    "from sklearn.metrics import accuracy_score\n",
    "LRAcc = accuracy_score(mlr_pred,Y_test)\n",
    "print('Logistic Regression accuracy is: {:.2f}%'.format(LRAcc*100))"
   ]
  },
  {
   "cell_type": "markdown",
   "id": "225beb8f",
   "metadata": {},
   "source": [
    "<H3>K-Nearest Neighbors</H3> "
   ]
  },
  {
   "cell_type": "code",
   "execution_count": 36,
   "id": "c6f77baa",
   "metadata": {},
   "outputs": [],
   "source": [
    "from sklearn.neighbors import KNeighborsClassifier"
   ]
  },
  {
   "cell_type": "code",
   "execution_count": 37,
   "id": "1c6d0450",
   "metadata": {},
   "outputs": [],
   "source": [
    "accuracies = []\n",
    "for k in range(1,30):\n",
    "    classifier = KNeighborsClassifier(n_neighbors = k)\n",
    "    classifier.fit(X_train, Y_train)\n",
    "    accuracies.append(classifier.score(X_train, Y_train))"
   ]
  },
  {
   "cell_type": "code",
   "execution_count": 38,
   "id": "0ad7ca3a",
   "metadata": {},
   "outputs": [
    {
     "data": {
      "image/png": "[encoded data removed]",
      "text/plain": [
       "<Figure size 432x288 with 1 Axes>"
      ]
     },
     "metadata": {
      "needs_background": "light"
     },
     "output_type": "display_data"
    }
   ],
   "source": [
    "k_list = range(1,30)\n",
    "plt.plot(k_list, accuracies)\n",
    "plt.xlabel('k')\n",
    "plt.ylabel('Training model Accuracy')\n",
    "plt.title('Drug Classifier Accuracy')\n",
    "plt.show()"
   ]
  },
  {
   "cell_type": "markdown",
   "id": "450bc99f",
   "metadata": {},
   "source": [
    "<H4>Model testing</H4>"
   ]
  },
  {
   "cell_type": "code",
   "execution_count": 39,
   "id": "71a3361e",
   "metadata": {},
   "outputs": [],
   "source": [
    "accuracies_test = []\n",
    "for k in range(1,30):\n",
    "    classifier = KNeighborsClassifier(n_neighbors = k)\n",
    "    classifier.fit(X_train, Y_train)\n",
    "    accuracies_test.append(classifier.score(X_test,Y_test))"
   ]
  },
  {
   "cell_type": "code",
   "execution_count": 40,
   "id": "02fc0186",
   "metadata": {},
   "outputs": [
    {
     "data": {
      "image/png": "[encoded data removed]",
      "text/plain": [
       "<Figure size 432x288 with 1 Axes>"
      ]
     },
     "metadata": {
      "needs_background": "light"
     },
     "output_type": "display_data"
    }
   ],
   "source": [
    "plt.plot(k_list, accuracies_test)\n",
    "plt.xlabel('k')\n",
    "plt.ylabel('Validation Accuracy')\n",
    "plt.title('Drug Classifier Accuracy')\n",
    "plt.show()"
   ]
  },
  {
   "cell_type": "code",
   "execution_count": 41,
   "id": "53320257",
   "metadata": {},
   "outputs": [],
   "source": [
    "knn_model = KNeighborsClassifier(n_neighbors = 5)\n",
    "knn_model.fit(X_train, Y_train)\n",
    "knn_pred = knn_model.predict(X_test)"
   ]
  },
  {
   "cell_type": "code",
   "execution_count": 42,
   "id": "fcc5e7e1",
   "metadata": {},
   "outputs": [
    {
     "name": "stdout",
     "output_type": "stream",
     "text": [
      "              precision    recall  f1-score   support\n",
      "\n",
      "           3       0.80      0.92      0.85       548\n",
      "           4       0.77      0.91      0.83       556\n",
      "           5       0.58      0.53      0.55       547\n",
      "           6       0.58      0.33      0.42       559\n",
      "           7       0.72      0.77      0.74       569\n",
      "           8       0.81      0.92      0.86       518\n",
      "\n",
      "    accuracy                           0.73      3297\n",
      "   macro avg       0.71      0.73      0.71      3297\n",
      "weighted avg       0.71      0.73      0.71      3297\n",
      "\n"
     ]
    }
   ],
   "source": [
    "print(classification_report(Y_test, knn_pred))"
   ]
  },
  {
   "cell_type": "code",
   "execution_count": 43,
   "id": "d46a3fb8",
   "metadata": {},
   "outputs": [
    {
     "name": "stdout",
     "output_type": "stream",
     "text": [
      "kNN model accuracy is: 72.64%\n"
     ]
    }
   ],
   "source": [
    "kNNAcc = accuracy_score(knn_pred,Y_test)\n",
    "print('kNN model accuracy is: {:.2f}%'.format(kNNAcc*100))"
   ]
  },
  {
   "cell_type": "markdown",
   "id": "0ff4109c",
   "metadata": {},
   "source": [
    "<H3>Decision tree</H3>"
   ]
  },
  {
   "cell_type": "code",
   "execution_count": 44,
   "id": "b542a624",
   "metadata": {},
   "outputs": [
    {
     "data": {
      "text/plain": [
       "DecisionTreeClassifier(max_depth=12, random_state=42)"
      ]
     },
     "execution_count": 44,
     "metadata": {},
     "output_type": "execute_result"
    }
   ],
   "source": [
    "from sklearn.tree import DecisionTreeClassifier\n",
    "tree_model = DecisionTreeClassifier(random_state = 42, max_depth=12)\n",
    "tree_model.fit(X_train,Y_train)"
   ]
  },
  {
   "cell_type": "code",
   "execution_count": 45,
   "id": "0b4db6e0",
   "metadata": {},
   "outputs": [],
   "source": [
    "predictions = tree_model.predict(X_test)"
   ]
  },
  {
   "cell_type": "code",
   "execution_count": 46,
   "id": "ca732011",
   "metadata": {},
   "outputs": [
    {
     "name": "stdout",
     "output_type": "stream",
     "text": [
      "              precision    recall  f1-score   support\n",
      "\n",
      "           3       0.87      0.96      0.91       548\n",
      "           4       0.82      0.76      0.79       556\n",
      "           5       0.54      0.62      0.58       547\n",
      "           6       0.52      0.38      0.44       559\n",
      "           7       0.65      0.57      0.61       569\n",
      "           8       0.69      0.85      0.76       518\n",
      "\n",
      "    accuracy                           0.69      3297\n",
      "   macro avg       0.68      0.69      0.68      3297\n",
      "weighted avg       0.68      0.69      0.68      3297\n",
      "\n"
     ]
    }
   ],
   "source": [
    "print(classification_report(Y_test, predictions))"
   ]
  },
  {
   "cell_type": "code",
   "execution_count": 47,
   "id": "431ff550",
   "metadata": {},
   "outputs": [
    {
     "name": "stdout",
     "output_type": "stream",
     "text": [
      "Decision tree model accuracy is: 68.73%\n"
     ]
    }
   ],
   "source": [
    "TreeAcc = accuracy_score(predictions,Y_test)\n",
    "print('Decision tree model accuracy is: {:.2f}%'.format(TreeAcc*100))"
   ]
  },
  {
   "cell_type": "markdown",
   "id": "a0e98c70",
   "metadata": {},
   "source": [
    "<H3>Random forest</H3>"
   ]
  },
  {
   "cell_type": "code",
   "execution_count": 48,
   "id": "d3a63dd3",
   "metadata": {},
   "outputs": [],
   "source": [
    "from sklearn.ensemble import RandomForestClassifier\n",
    "forest=RandomForestClassifier(n_estimators=100, random_state=42)\n",
    "forest.fit(X_train,Y_train)\n",
    "forest_pred=forest.predict(X_test)"
   ]
  },
  {
   "cell_type": "code",
   "execution_count": 49,
   "id": "5f8abd82",
   "metadata": {},
   "outputs": [
    {
     "name": "stdout",
     "output_type": "stream",
     "text": [
      "              precision    recall  f1-score   support\n",
      "\n",
      "           3       0.99      1.00      0.99       548\n",
      "           4       0.90      0.98      0.94       556\n",
      "           5       0.79      0.80      0.79       547\n",
      "           6       0.77      0.61      0.68       559\n",
      "           7       0.81      0.87      0.84       569\n",
      "           8       0.93      0.96      0.94       518\n",
      "\n",
      "    accuracy                           0.87      3297\n",
      "   macro avg       0.86      0.87      0.86      3297\n",
      "weighted avg       0.86      0.87      0.86      3297\n",
      "\n"
     ]
    }
   ],
   "source": [
    "print(classification_report(Y_test, forest_pred))"
   ]
  },
  {
   "cell_type": "code",
   "execution_count": 50,
   "id": "469437cd",
   "metadata": {},
   "outputs": [
    {
     "name": "stdout",
     "output_type": "stream",
     "text": [
      "Random forest model accuracy is: 86.75%\n"
     ]
    }
   ],
   "source": [
    "ForestAcc = accuracy_score(forest_pred,Y_test)\n",
    "print('Random forest model accuracy is: {:.2f}%'.format(ForestAcc*100))"
   ]
  },
  {
   "cell_type": "markdown",
   "id": "58c541f1",
   "metadata": {},
   "source": [
    "<H3>Categorizing target value</H3>"
   ]
  },
  {
   "cell_type": "code",
   "execution_count": 51,
   "id": "e468fc17",
   "metadata": {},
   "outputs": [
    {
     "data": {
      "text/html": [
       "<div>\n",
       "<style scoped>\n",
       "    .dataframe tbody tr th:only-of-type {\n",
       "        vertical-align: middle;\n",
       "    }\n",
       "\n",
       "    .dataframe tbody tr th {\n",
       "        vertical-align: top;\n",
       "    }\n",
       "\n",
       "    .dataframe thead th {\n",
       "        text-align: right;\n",
       "    }\n",
       "</style>\n",
       "<table border=\"1\" class=\"dataframe\">\n",
       "  <thead>\n",
       "    <tr style=\"text-align: right;\">\n",
       "      <th></th>\n",
       "      <th>fixed acidity</th>\n",
       "      <th>volatile acidity</th>\n",
       "      <th>citric acid</th>\n",
       "      <th>residual sugar</th>\n",
       "      <th>chlorides</th>\n",
       "      <th>free sulfur dioxide</th>\n",
       "      <th>total sulfur dioxide</th>\n",
       "      <th>density</th>\n",
       "      <th>pH</th>\n",
       "      <th>sulphates</th>\n",
       "      <th>alcohol</th>\n",
       "      <th>quality</th>\n",
       "    </tr>\n",
       "  </thead>\n",
       "  <tbody>\n",
       "    <tr>\n",
       "      <th>0</th>\n",
       "      <td>7.0</td>\n",
       "      <td>0.27</td>\n",
       "      <td>0.36</td>\n",
       "      <td>20.7</td>\n",
       "      <td>0.045</td>\n",
       "      <td>45.0</td>\n",
       "      <td>170.0</td>\n",
       "      <td>1.0010</td>\n",
       "      <td>3.00</td>\n",
       "      <td>0.45</td>\n",
       "      <td>8.8</td>\n",
       "      <td>6</td>\n",
       "    </tr>\n",
       "    <tr>\n",
       "      <th>1</th>\n",
       "      <td>6.3</td>\n",
       "      <td>0.30</td>\n",
       "      <td>0.34</td>\n",
       "      <td>1.6</td>\n",
       "      <td>0.049</td>\n",
       "      <td>14.0</td>\n",
       "      <td>132.0</td>\n",
       "      <td>0.9940</td>\n",
       "      <td>3.30</td>\n",
       "      <td>0.49</td>\n",
       "      <td>9.5</td>\n",
       "      <td>6</td>\n",
       "    </tr>\n",
       "    <tr>\n",
       "      <th>2</th>\n",
       "      <td>8.1</td>\n",
       "      <td>0.28</td>\n",
       "      <td>0.40</td>\n",
       "      <td>6.9</td>\n",
       "      <td>0.050</td>\n",
       "      <td>30.0</td>\n",
       "      <td>97.0</td>\n",
       "      <td>0.9951</td>\n",
       "      <td>3.26</td>\n",
       "      <td>0.44</td>\n",
       "      <td>10.1</td>\n",
       "      <td>6</td>\n",
       "    </tr>\n",
       "    <tr>\n",
       "      <th>3</th>\n",
       "      <td>7.2</td>\n",
       "      <td>0.23</td>\n",
       "      <td>0.32</td>\n",
       "      <td>8.5</td>\n",
       "      <td>0.058</td>\n",
       "      <td>47.0</td>\n",
       "      <td>186.0</td>\n",
       "      <td>0.9956</td>\n",
       "      <td>3.19</td>\n",
       "      <td>0.40</td>\n",
       "      <td>9.9</td>\n",
       "      <td>6</td>\n",
       "    </tr>\n",
       "    <tr>\n",
       "      <th>4</th>\n",
       "      <td>7.2</td>\n",
       "      <td>0.23</td>\n",
       "      <td>0.32</td>\n",
       "      <td>8.5</td>\n",
       "      <td>0.058</td>\n",
       "      <td>47.0</td>\n",
       "      <td>186.0</td>\n",
       "      <td>0.9956</td>\n",
       "      <td>3.19</td>\n",
       "      <td>0.40</td>\n",
       "      <td>9.9</td>\n",
       "      <td>6</td>\n",
       "    </tr>\n",
       "  </tbody>\n",
       "</table>\n",
       "</div>"
      ],
      "text/plain": [
       "   fixed acidity  volatile acidity  citric acid  residual sugar  chlorides  \\\n",
       "0            7.0              0.27         0.36            20.7      0.045   \n",
       "1            6.3              0.30         0.34             1.6      0.049   \n",
       "2            8.1              0.28         0.40             6.9      0.050   \n",
       "3            7.2              0.23         0.32             8.5      0.058   \n",
       "4            7.2              0.23         0.32             8.5      0.058   \n",
       "\n",
       "   free sulfur dioxide  total sulfur dioxide  density    pH  sulphates  \\\n",
       "0                 45.0                 170.0   1.0010  3.00       0.45   \n",
       "1                 14.0                 132.0   0.9940  3.30       0.49   \n",
       "2                 30.0                  97.0   0.9951  3.26       0.44   \n",
       "3                 47.0                 186.0   0.9956  3.19       0.40   \n",
       "4                 47.0                 186.0   0.9956  3.19       0.40   \n",
       "\n",
       "   alcohol  quality  \n",
       "0      8.8        6  \n",
       "1      9.5        6  \n",
       "2     10.1        6  \n",
       "3      9.9        6  \n",
       "4      9.9        6  "
      ]
     },
     "execution_count": 51,
     "metadata": {},
     "output_type": "execute_result"
    }
   ],
   "source": [
    "white_wine.head()"
   ]
  },
  {
   "cell_type": "code",
   "execution_count": 52,
   "id": "18a20df0",
   "metadata": {},
   "outputs": [],
   "source": [
    "white_wine['quality'].replace({3: 'Poor', 4: 'Poor', 5:'Average',6:'Average',7:'Good',8:'Good'}, inplace=True)"
   ]
  },
  {
   "cell_type": "code",
   "execution_count": 53,
   "id": "2952d2a1",
   "metadata": {},
   "outputs": [
    {
     "data": {
      "text/html": [
       "<div>\n",
       "<style scoped>\n",
       "    .dataframe tbody tr th:only-of-type {\n",
       "        vertical-align: middle;\n",
       "    }\n",
       "\n",
       "    .dataframe tbody tr th {\n",
       "        vertical-align: top;\n",
       "    }\n",
       "\n",
       "    .dataframe thead th {\n",
       "        text-align: right;\n",
       "    }\n",
       "</style>\n",
       "<table border=\"1\" class=\"dataframe\">\n",
       "  <thead>\n",
       "    <tr style=\"text-align: right;\">\n",
       "      <th></th>\n",
       "      <th>fixed acidity</th>\n",
       "      <th>volatile acidity</th>\n",
       "      <th>citric acid</th>\n",
       "      <th>residual sugar</th>\n",
       "      <th>chlorides</th>\n",
       "      <th>free sulfur dioxide</th>\n",
       "      <th>total sulfur dioxide</th>\n",
       "      <th>density</th>\n",
       "      <th>pH</th>\n",
       "      <th>sulphates</th>\n",
       "      <th>alcohol</th>\n",
       "      <th>quality</th>\n",
       "    </tr>\n",
       "  </thead>\n",
       "  <tbody>\n",
       "    <tr>\n",
       "      <th>0</th>\n",
       "      <td>7.0</td>\n",
       "      <td>0.27</td>\n",
       "      <td>0.36</td>\n",
       "      <td>20.7</td>\n",
       "      <td>0.045</td>\n",
       "      <td>45.0</td>\n",
       "      <td>170.0</td>\n",
       "      <td>1.0010</td>\n",
       "      <td>3.00</td>\n",
       "      <td>0.45</td>\n",
       "      <td>8.8</td>\n",
       "      <td>Average</td>\n",
       "    </tr>\n",
       "    <tr>\n",
       "      <th>1</th>\n",
       "      <td>6.3</td>\n",
       "      <td>0.30</td>\n",
       "      <td>0.34</td>\n",
       "      <td>1.6</td>\n",
       "      <td>0.049</td>\n",
       "      <td>14.0</td>\n",
       "      <td>132.0</td>\n",
       "      <td>0.9940</td>\n",
       "      <td>3.30</td>\n",
       "      <td>0.49</td>\n",
       "      <td>9.5</td>\n",
       "      <td>Average</td>\n",
       "    </tr>\n",
       "    <tr>\n",
       "      <th>2</th>\n",
       "      <td>8.1</td>\n",
       "      <td>0.28</td>\n",
       "      <td>0.40</td>\n",
       "      <td>6.9</td>\n",
       "      <td>0.050</td>\n",
       "      <td>30.0</td>\n",
       "      <td>97.0</td>\n",
       "      <td>0.9951</td>\n",
       "      <td>3.26</td>\n",
       "      <td>0.44</td>\n",
       "      <td>10.1</td>\n",
       "      <td>Average</td>\n",
       "    </tr>\n",
       "    <tr>\n",
       "      <th>3</th>\n",
       "      <td>7.2</td>\n",
       "      <td>0.23</td>\n",
       "      <td>0.32</td>\n",
       "      <td>8.5</td>\n",
       "      <td>0.058</td>\n",
       "      <td>47.0</td>\n",
       "      <td>186.0</td>\n",
       "      <td>0.9956</td>\n",
       "      <td>3.19</td>\n",
       "      <td>0.40</td>\n",
       "      <td>9.9</td>\n",
       "      <td>Average</td>\n",
       "    </tr>\n",
       "    <tr>\n",
       "      <th>4</th>\n",
       "      <td>7.2</td>\n",
       "      <td>0.23</td>\n",
       "      <td>0.32</td>\n",
       "      <td>8.5</td>\n",
       "      <td>0.058</td>\n",
       "      <td>47.0</td>\n",
       "      <td>186.0</td>\n",
       "      <td>0.9956</td>\n",
       "      <td>3.19</td>\n",
       "      <td>0.40</td>\n",
       "      <td>9.9</td>\n",
       "      <td>Average</td>\n",
       "    </tr>\n",
       "  </tbody>\n",
       "</table>\n",
       "</div>"
      ],
      "text/plain": [
       "   fixed acidity  volatile acidity  citric acid  residual sugar  chlorides  \\\n",
       "0            7.0              0.27         0.36            20.7      0.045   \n",
       "1            6.3              0.30         0.34             1.6      0.049   \n",
       "2            8.1              0.28         0.40             6.9      0.050   \n",
       "3            7.2              0.23         0.32             8.5      0.058   \n",
       "4            7.2              0.23         0.32             8.5      0.058   \n",
       "\n",
       "   free sulfur dioxide  total sulfur dioxide  density    pH  sulphates  \\\n",
       "0                 45.0                 170.0   1.0010  3.00       0.45   \n",
       "1                 14.0                 132.0   0.9940  3.30       0.49   \n",
       "2                 30.0                  97.0   0.9951  3.26       0.44   \n",
       "3                 47.0                 186.0   0.9956  3.19       0.40   \n",
       "4                 47.0                 186.0   0.9956  3.19       0.40   \n",
       "\n",
       "   alcohol  quality  \n",
       "0      8.8  Average  \n",
       "1      9.5  Average  \n",
       "2     10.1  Average  \n",
       "3      9.9  Average  \n",
       "4      9.9  Average  "
      ]
     },
     "execution_count": 53,
     "metadata": {},
     "output_type": "execute_result"
    }
   ],
   "source": [
    "white_wine.head()"
   ]
  },
  {
   "cell_type": "code",
   "execution_count": 54,
   "id": "174c9ae7",
   "metadata": {},
   "outputs": [],
   "source": [
    "X_cat = white_wine.iloc[:, 0:-1]\n",
    "Y_cat = white_wine.iloc[:, -1:]"
   ]
  },
  {
   "cell_type": "markdown",
   "id": "508f7111",
   "metadata": {},
   "source": [
    "<H3>Balancing new dataset</H3>"
   ]
  },
  {
   "cell_type": "code",
   "execution_count": 55,
   "id": "804d5b84",
   "metadata": {},
   "outputs": [],
   "source": [
    "X_cat, Y_cat = SMOTE().fit_resample(X_cat, Y_cat)"
   ]
  },
  {
   "cell_type": "code",
   "execution_count": 56,
   "id": "c6423a67",
   "metadata": {},
   "outputs": [
    {
     "data": {
      "text/plain": [
       "quality\n",
       "Average    3655\n",
       "Good       3655\n",
       "Poor       3655\n",
       "dtype: int64"
      ]
     },
     "execution_count": 56,
     "metadata": {},
     "output_type": "execute_result"
    }
   ],
   "source": [
    "Y_cat.value_counts()"
   ]
  },
  {
   "cell_type": "markdown",
   "id": "6c404e0e",
   "metadata": {},
   "source": [
    "<H3>Train/Test Split</H3>"
   ]
  },
  {
   "cell_type": "code",
   "execution_count": 57,
   "id": "21a5dced",
   "metadata": {},
   "outputs": [],
   "source": [
    "x_train, x_test, y_train, y_test = train_test_split(X_cat, Y_cat, test_size=0.25, random_state = 42)\n",
    "\n",
    "#turn in to 1d arrays\n",
    "y_train = y_train.to_numpy().ravel()\n",
    "y_test = y_test.to_numpy().ravel()"
   ]
  },
  {
   "cell_type": "markdown",
   "id": "bf6360c6",
   "metadata": {},
   "source": [
    "<H3>Multinomial logistic regression</H3>"
   ]
  },
  {
   "cell_type": "code",
   "execution_count": 58,
   "id": "20259461",
   "metadata": {},
   "outputs": [
    {
     "data": {
      "text/plain": [
       "LogisticRegression(max_iter=7000, multi_class='multinomial')"
      ]
     },
     "execution_count": 58,
     "metadata": {},
     "output_type": "execute_result"
    }
   ],
   "source": [
    "cat_lr_model = LogisticRegression(multi_class=\"multinomial\", max_iter=7000)\n",
    "cat_lr_model.fit(x_train, y_train)"
   ]
  },
  {
   "cell_type": "code",
   "execution_count": 59,
   "id": "8789b994",
   "metadata": {},
   "outputs": [],
   "source": [
    "cat_lr_predictions = cat_lr_model.predict(x_train)"
   ]
  },
  {
   "cell_type": "code",
   "execution_count": 60,
   "id": "d210f061",
   "metadata": {},
   "outputs": [
    {
     "name": "stdout",
     "output_type": "stream",
     "text": [
      "              precision    recall  f1-score   support\n",
      "\n",
      "     Average       0.52      0.46      0.49      2724\n",
      "        Good       0.67      0.77      0.72      2757\n",
      "        Poor       0.71      0.69      0.70      2742\n",
      "\n",
      "    accuracy                           0.64      8223\n",
      "   macro avg       0.63      0.64      0.63      8223\n",
      "weighted avg       0.63      0.64      0.64      8223\n",
      "\n"
     ]
    }
   ],
   "source": [
    "print(classification_report(y_train, cat_lr_predictions))"
   ]
  },
  {
   "cell_type": "code",
   "execution_count": 61,
   "id": "16c9608e",
   "metadata": {},
   "outputs": [
    {
     "name": "stdout",
     "output_type": "stream",
     "text": [
      "              precision    recall  f1-score   support\n",
      "\n",
      "     Average       0.52      0.47      0.49       931\n",
      "        Good       0.65      0.73      0.69       898\n",
      "        Poor       0.71      0.68      0.70       913\n",
      "\n",
      "    accuracy                           0.63      2742\n",
      "   macro avg       0.63      0.63      0.63      2742\n",
      "weighted avg       0.63      0.63      0.63      2742\n",
      "\n"
     ]
    }
   ],
   "source": [
    "cat_lr_pred = cat_lr_model.predict(x_test)\n",
    "print(classification_report(y_test, cat_lr_pred))"
   ]
  },
  {
   "cell_type": "code",
   "execution_count": 62,
   "id": "5ccb7ba6",
   "metadata": {},
   "outputs": [
    {
     "name": "stdout",
     "output_type": "stream",
     "text": [
      "Logistic Regression accuracy is: 62.95%\n"
     ]
    }
   ],
   "source": [
    "LRAcc = accuracy_score(cat_lr_pred,y_test)\n",
    "print('Logistic Regression accuracy is: {:.2f}%'.format(LRAcc*100))"
   ]
  },
  {
   "cell_type": "markdown",
   "id": "013ab3c5",
   "metadata": {},
   "source": [
    "<H3>K-Nearest Neighbors</H3>"
   ]
  },
  {
   "cell_type": "code",
   "execution_count": 63,
   "id": "3df37a21",
   "metadata": {},
   "outputs": [],
   "source": [
    "cat_accuracies = []\n",
    "for k in range(1,30):\n",
    "    cat_classifier = KNeighborsClassifier(n_neighbors = k)\n",
    "    cat_classifier.fit(x_train, y_train)\n",
    "    cat_accuracies.append(cat_classifier.score(x_train, y_train))"
   ]
  },
  {
   "cell_type": "code",
   "execution_count": 64,
   "id": "850bee11",
   "metadata": {},
   "outputs": [],
   "source": [
    "cat_k_list = range(1,30)"
   ]
  },
  {
   "cell_type": "code",
   "execution_count": 65,
   "id": "8927c9e1",
   "metadata": {},
   "outputs": [
    {
     "data": {
      "image/png": "[encoded data removed]",
      "text/plain": [
       "<Figure size 432x288 with 1 Axes>"
      ]
     },
     "metadata": {
      "needs_background": "light"
     },
     "output_type": "display_data"
    }
   ],
   "source": [
    "plt.plot(cat_k_list, cat_accuracies)\n",
    "plt.xlabel('k')\n",
    "plt.ylabel('Training model Accuracy')\n",
    "plt.title('Drug Classifier Accuracy')\n",
    "plt.show()"
   ]
  },
  {
   "cell_type": "markdown",
   "id": "b6f5d0f2",
   "metadata": {},
   "source": [
    "<H4>Model testing</H4>"
   ]
  },
  {
   "cell_type": "code",
   "execution_count": 66,
   "id": "dea130e3",
   "metadata": {},
   "outputs": [],
   "source": [
    "cat_accuracies_test = []\n",
    "for k in range(1,30):\n",
    "    cat_classifier = KNeighborsClassifier(n_neighbors = k)\n",
    "    cat_classifier.fit(x_train, y_train)\n",
    "    cat_accuracies_test.append(cat_classifier.score(x_test,y_test))"
   ]
  },
  {
   "cell_type": "code",
   "execution_count": 67,
   "id": "1c133752",
   "metadata": {},
   "outputs": [
    {
     "data": {
      "image/png": "[encoded data removed]",
      "text/plain": [
       "<Figure size 432x288 with 1 Axes>"
      ]
     },
     "metadata": {
      "needs_background": "light"
     },
     "output_type": "display_data"
    }
   ],
   "source": [
    "plt.plot(cat_k_list, cat_accuracies_test)\n",
    "plt.xlabel('k')\n",
    "plt.ylabel('Validation Accuracy')\n",
    "plt.title('Drug Classifier Accuracy')\n",
    "plt.show()"
   ]
  },
  {
   "cell_type": "code",
   "execution_count": 68,
   "id": "f1699690",
   "metadata": {},
   "outputs": [],
   "source": [
    "cat_knn_model = KNeighborsClassifier(n_neighbors = 4)\n",
    "cat_knn_model.fit(x_train, y_train)\n",
    "cat_knn_pred = cat_knn_model.predict(x_test)"
   ]
  },
  {
   "cell_type": "code",
   "execution_count": 69,
   "id": "0eb4b7f0",
   "metadata": {},
   "outputs": [
    {
     "name": "stdout",
     "output_type": "stream",
     "text": [
      "              precision    recall  f1-score   support\n",
      "\n",
      "     Average       0.80      0.68      0.73       931\n",
      "        Good       0.78      0.86      0.82       898\n",
      "        Poor       0.87      0.92      0.89       913\n",
      "\n",
      "    accuracy                           0.82      2742\n",
      "   macro avg       0.82      0.82      0.81      2742\n",
      "weighted avg       0.82      0.82      0.81      2742\n",
      "\n"
     ]
    }
   ],
   "source": [
    "print(classification_report(y_test, cat_knn_pred))"
   ]
  },
  {
   "cell_type": "code",
   "execution_count": 70,
   "id": "785d1b76",
   "metadata": {},
   "outputs": [
    {
     "name": "stdout",
     "output_type": "stream",
     "text": [
      "kNN model accuracy is: 81.66%\n"
     ]
    }
   ],
   "source": [
    "kNNAcc = accuracy_score(cat_knn_pred,y_test)\n",
    "print('kNN model accuracy is: {:.2f}%'.format(kNNAcc*100))"
   ]
  },
  {
   "cell_type": "markdown",
   "id": "d756db69",
   "metadata": {},
   "source": [
    "<H3>Decision tree</H3>"
   ]
  },
  {
   "cell_type": "code",
   "execution_count": 71,
   "id": "5c586f00",
   "metadata": {},
   "outputs": [
    {
     "data": {
      "text/plain": [
       "DecisionTreeClassifier(max_depth=12, random_state=42)"
      ]
     },
     "execution_count": 71,
     "metadata": {},
     "output_type": "execute_result"
    }
   ],
   "source": [
    "from sklearn.tree import DecisionTreeClassifier\n",
    "cat_tree_model = DecisionTreeClassifier(random_state = 42, max_depth=12)\n",
    "cat_tree_model.fit(x_train,y_train)"
   ]
  },
  {
   "cell_type": "code",
   "execution_count": 72,
   "id": "73ed9173",
   "metadata": {},
   "outputs": [],
   "source": [
    "predictions = cat_tree_model.predict(x_test)"
   ]
  },
  {
   "cell_type": "code",
   "execution_count": 73,
   "id": "7eb50411",
   "metadata": {},
   "outputs": [
    {
     "name": "stdout",
     "output_type": "stream",
     "text": [
      "              precision    recall  f1-score   support\n",
      "\n",
      "     Average       0.77      0.62      0.69       931\n",
      "        Good       0.76      0.87      0.81       898\n",
      "        Poor       0.87      0.91      0.89       913\n",
      "\n",
      "    accuracy                           0.80      2742\n",
      "   macro avg       0.80      0.80      0.80      2742\n",
      "weighted avg       0.80      0.80      0.79      2742\n",
      "\n"
     ]
    }
   ],
   "source": [
    "print(classification_report(y_test, predictions))"
   ]
  },
  {
   "cell_type": "code",
   "execution_count": 74,
   "id": "9d0f7ad0",
   "metadata": {},
   "outputs": [
    {
     "name": "stdout",
     "output_type": "stream",
     "text": [
      "Decision tree model accuracy is: 79.94%\n"
     ]
    }
   ],
   "source": [
    "TreeAcc = accuracy_score(predictions,y_test)\n",
    "print('Decision tree model accuracy is: {:.2f}%'.format(TreeAcc*100))"
   ]
  },
  {
   "cell_type": "markdown",
   "id": "04b05e42",
   "metadata": {},
   "source": [
    "<H3>Random forest</H3>"
   ]
  },
  {
   "cell_type": "code",
   "execution_count": 75,
   "id": "1d00a0e9",
   "metadata": {},
   "outputs": [],
   "source": [
    "from sklearn.ensemble import RandomForestClassifier\n",
    "cat_forest=RandomForestClassifier(n_estimators=100, random_state=42)\n",
    "cat_forest.fit(x_train,y_train)\n",
    "cat_forest_pred=cat_forest.predict(x_test)"
   ]
  },
  {
   "cell_type": "code",
   "execution_count": 76,
   "id": "15361d7c",
   "metadata": {},
   "outputs": [
    {
     "name": "stdout",
     "output_type": "stream",
     "text": [
      "              precision    recall  f1-score   support\n",
      "\n",
      "     Average       0.90      0.84      0.87       931\n",
      "        Good       0.89      0.92      0.91       898\n",
      "        Poor       0.95      0.97      0.96       913\n",
      "\n",
      "    accuracy                           0.91      2742\n",
      "   macro avg       0.91      0.91      0.91      2742\n",
      "weighted avg       0.91      0.91      0.91      2742\n",
      "\n"
     ]
    }
   ],
   "source": [
    "print(classification_report(y_test, cat_forest_pred))"
   ]
  },
  {
   "cell_type": "code",
   "execution_count": 77,
   "id": "2ea8ed7c",
   "metadata": {},
   "outputs": [
    {
     "name": "stdout",
     "output_type": "stream",
     "text": [
      "Random forest model accuracy is: 91.10%\n"
     ]
    }
   ],
   "source": [
    "ForestAcc = accuracy_score(cat_forest_pred,y_test)\n",
    "print('Random forest model accuracy is: {:.2f}%'.format(ForestAcc*100))"
   ]
  },
  {
   "cell_type": "code",
   "execution_count": 78,
   "id": "8591e0c8",
   "metadata": {},
   "outputs": [],
   "source": [
    "import eli5\n",
    "from eli5.sklearn import PermutationImportance"
   ]
  },
  {
   "cell_type": "code",
   "execution_count": 79,
   "id": "cd759ddd",
   "metadata": {},
   "outputs": [
    {
     "data": {
      "text/html": [
       "\n",
       "    <style>\n",
       "    table.eli5-weights tr:hover {\n",
       "        filter: brightness(85%);\n",
       "    }\n",
       "</style>\n",
       "\n",
       "\n",
       "\n",
       "    \n",
       "\n",
       "    \n",
       "\n",
       "    \n",
       "\n",
       "    \n",
       "\n",
       "    \n",
       "\n",
       "    \n",
       "\n",
       "\n",
       "    \n",
       "\n",
       "    \n",
       "\n",
       "    \n",
       "\n",
       "    \n",
       "\n",
       "    \n",
       "\n",
       "    \n",
       "\n",
       "\n",
       "    \n",
       "\n",
       "    \n",
       "\n",
       "    \n",
       "\n",
       "    \n",
       "\n",
       "    \n",
       "        <table class=\"eli5-weights eli5-feature-importances\" style=\"border-collapse: collapse; border: none; margin-top: 0em; table-layout: auto;\">\n",
       "    <thead>\n",
       "    <tr style=\"border: none;\">\n",
       "        <th style=\"padding: 0 1em 0 0.5em; text-align: right; border: none;\">Weight</th>\n",
       "        <th style=\"padding: 0 0.5em 0 0.5em; text-align: left; border: none;\">Feature</th>\n",
       "    </tr>\n",
       "    </thead>\n",
       "    <tbody>\n",
       "    \n",
       "        <tr style=\"background-color: hsl(120, 100.00%, 80.00%); border: none;\">\n",
       "            <td style=\"padding: 0 1em 0 0.5em; text-align: right; border: none;\">\n",
       "                0.2397\n",
       "                \n",
       "                    &plusmn; 0.0218\n",
       "                \n",
       "            </td>\n",
       "            <td style=\"padding: 0 0.5em 0 0.5em; text-align: left; border: none;\">\n",
       "                alcohol\n",
       "            </td>\n",
       "        </tr>\n",
       "    \n",
       "        <tr style=\"background-color: hsl(120, 100.00%, 84.27%); border: none;\">\n",
       "            <td style=\"padding: 0 1em 0 0.5em; text-align: right; border: none;\">\n",
       "                0.1701\n",
       "                \n",
       "                    &plusmn; 0.0092\n",
       "                \n",
       "            </td>\n",
       "            <td style=\"padding: 0 0.5em 0 0.5em; text-align: left; border: none;\">\n",
       "                free sulfur dioxide\n",
       "            </td>\n",
       "        </tr>\n",
       "    \n",
       "        <tr style=\"background-color: hsl(120, 100.00%, 85.40%); border: none;\">\n",
       "            <td style=\"padding: 0 1em 0 0.5em; text-align: right; border: none;\">\n",
       "                0.1529\n",
       "                \n",
       "                    &plusmn; 0.0161\n",
       "                \n",
       "            </td>\n",
       "            <td style=\"padding: 0 0.5em 0 0.5em; text-align: left; border: none;\">\n",
       "                volatile acidity\n",
       "            </td>\n",
       "        </tr>\n",
       "    \n",
       "        <tr style=\"background-color: hsl(120, 100.00%, 86.59%); border: none;\">\n",
       "            <td style=\"padding: 0 1em 0 0.5em; text-align: right; border: none;\">\n",
       "                0.1354\n",
       "                \n",
       "                    &plusmn; 0.0073\n",
       "                \n",
       "            </td>\n",
       "            <td style=\"padding: 0 0.5em 0 0.5em; text-align: left; border: none;\">\n",
       "                total sulfur dioxide\n",
       "            </td>\n",
       "        </tr>\n",
       "    \n",
       "        <tr style=\"background-color: hsl(120, 100.00%, 88.60%); border: none;\">\n",
       "            <td style=\"padding: 0 1em 0 0.5em; text-align: right; border: none;\">\n",
       "                0.1074\n",
       "                \n",
       "                    &plusmn; 0.0135\n",
       "                \n",
       "            </td>\n",
       "            <td style=\"padding: 0 0.5em 0 0.5em; text-align: left; border: none;\">\n",
       "                residual sugar\n",
       "            </td>\n",
       "        </tr>\n",
       "    \n",
       "        <tr style=\"background-color: hsl(120, 100.00%, 89.63%); border: none;\">\n",
       "            <td style=\"padding: 0 1em 0 0.5em; text-align: right; border: none;\">\n",
       "                0.0937\n",
       "                \n",
       "                    &plusmn; 0.0073\n",
       "                \n",
       "            </td>\n",
       "            <td style=\"padding: 0 0.5em 0 0.5em; text-align: left; border: none;\">\n",
       "                chlorides\n",
       "            </td>\n",
       "        </tr>\n",
       "    \n",
       "        <tr style=\"background-color: hsl(120, 100.00%, 89.75%); border: none;\">\n",
       "            <td style=\"padding: 0 1em 0 0.5em; text-align: right; border: none;\">\n",
       "                0.0923\n",
       "                \n",
       "                    &plusmn; 0.0042\n",
       "                \n",
       "            </td>\n",
       "            <td style=\"padding: 0 0.5em 0 0.5em; text-align: left; border: none;\">\n",
       "                fixed acidity\n",
       "            </td>\n",
       "        </tr>\n",
       "    \n",
       "        <tr style=\"background-color: hsl(120, 100.00%, 92.01%); border: none;\">\n",
       "            <td style=\"padding: 0 1em 0 0.5em; text-align: right; border: none;\">\n",
       "                0.0646\n",
       "                \n",
       "                    &plusmn; 0.0052\n",
       "                \n",
       "            </td>\n",
       "            <td style=\"padding: 0 0.5em 0 0.5em; text-align: left; border: none;\">\n",
       "                density\n",
       "            </td>\n",
       "        </tr>\n",
       "    \n",
       "        <tr style=\"background-color: hsl(120, 100.00%, 92.57%); border: none;\">\n",
       "            <td style=\"padding: 0 1em 0 0.5em; text-align: right; border: none;\">\n",
       "                0.0582\n",
       "                \n",
       "                    &plusmn; 0.0062\n",
       "                \n",
       "            </td>\n",
       "            <td style=\"padding: 0 0.5em 0 0.5em; text-align: left; border: none;\">\n",
       "                citric acid\n",
       "            </td>\n",
       "        </tr>\n",
       "    \n",
       "        <tr style=\"background-color: hsl(120, 100.00%, 93.71%); border: none;\">\n",
       "            <td style=\"padding: 0 1em 0 0.5em; text-align: right; border: none;\">\n",
       "                0.0460\n",
       "                \n",
       "                    &plusmn; 0.0043\n",
       "                \n",
       "            </td>\n",
       "            <td style=\"padding: 0 0.5em 0 0.5em; text-align: left; border: none;\">\n",
       "                sulphates\n",
       "            </td>\n",
       "        </tr>\n",
       "    \n",
       "        <tr style=\"background-color: hsl(120, 100.00%, 94.18%); border: none;\">\n",
       "            <td style=\"padding: 0 1em 0 0.5em; text-align: right; border: none;\">\n",
       "                0.0411\n",
       "                \n",
       "                    &plusmn; 0.0048\n",
       "                \n",
       "            </td>\n",
       "            <td style=\"padding: 0 0.5em 0 0.5em; text-align: left; border: none;\">\n",
       "                pH\n",
       "            </td>\n",
       "        </tr>\n",
       "    \n",
       "    \n",
       "    </tbody>\n",
       "</table>\n",
       "    \n",
       "\n",
       "    \n",
       "\n",
       "\n",
       "    \n",
       "\n",
       "    \n",
       "\n",
       "    \n",
       "\n",
       "    \n",
       "\n",
       "    \n",
       "\n",
       "    \n",
       "\n",
       "\n",
       "\n"
      ],
      "text/plain": [
       "<IPython.core.display.HTML object>"
      ]
     },
     "execution_count": 79,
     "metadata": {},
     "output_type": "execute_result"
    }
   ],
   "source": [
    "cat_tree_perm = PermutationImportance(cat_tree_model, random_state=1).fit(x_test, y_test)\n",
    "eli5.show_weights(cat_tree_perm, feature_names = x_test.columns.tolist())"
   ]
  },
  {
   "cell_type": "code",
   "execution_count": 80,
   "id": "013b7977",
   "metadata": {},
   "outputs": [
    {
     "data": {
      "text/html": [
       "\n",
       "    <style>\n",
       "    table.eli5-weights tr:hover {\n",
       "        filter: brightness(85%);\n",
       "    }\n",
       "</style>\n",
       "\n",
       "\n",
       "\n",
       "    \n",
       "\n",
       "    \n",
       "\n",
       "    \n",
       "\n",
       "    \n",
       "\n",
       "    \n",
       "\n",
       "    \n",
       "\n",
       "\n",
       "    \n",
       "\n",
       "    \n",
       "\n",
       "    \n",
       "\n",
       "    \n",
       "\n",
       "    \n",
       "\n",
       "    \n",
       "\n",
       "\n",
       "    \n",
       "\n",
       "    \n",
       "\n",
       "    \n",
       "\n",
       "    \n",
       "\n",
       "    \n",
       "        <table class=\"eli5-weights eli5-feature-importances\" style=\"border-collapse: collapse; border: none; margin-top: 0em; table-layout: auto;\">\n",
       "    <thead>\n",
       "    <tr style=\"border: none;\">\n",
       "        <th style=\"padding: 0 1em 0 0.5em; text-align: right; border: none;\">Weight</th>\n",
       "        <th style=\"padding: 0 0.5em 0 0.5em; text-align: left; border: none;\">Feature</th>\n",
       "    </tr>\n",
       "    </thead>\n",
       "    <tbody>\n",
       "    \n",
       "        <tr style=\"background-color: hsl(120, 100.00%, 80.00%); border: none;\">\n",
       "            <td style=\"padding: 0 1em 0 0.5em; text-align: right; border: none;\">\n",
       "                0.2026\n",
       "                \n",
       "                    &plusmn; 0.0150\n",
       "                \n",
       "            </td>\n",
       "            <td style=\"padding: 0 0.5em 0 0.5em; text-align: left; border: none;\">\n",
       "                alcohol\n",
       "            </td>\n",
       "        </tr>\n",
       "    \n",
       "        <tr style=\"background-color: hsl(120, 100.00%, 83.33%); border: none;\">\n",
       "            <td style=\"padding: 0 1em 0 0.5em; text-align: right; border: none;\">\n",
       "                0.1562\n",
       "                \n",
       "                    &plusmn; 0.0125\n",
       "                \n",
       "            </td>\n",
       "            <td style=\"padding: 0 0.5em 0 0.5em; text-align: left; border: none;\">\n",
       "                free sulfur dioxide\n",
       "            </td>\n",
       "        </tr>\n",
       "    \n",
       "        <tr style=\"background-color: hsl(120, 100.00%, 85.35%); border: none;\">\n",
       "            <td style=\"padding: 0 1em 0 0.5em; text-align: right; border: none;\">\n",
       "                0.1298\n",
       "                \n",
       "                    &plusmn; 0.0073\n",
       "                \n",
       "            </td>\n",
       "            <td style=\"padding: 0 0.5em 0 0.5em; text-align: left; border: none;\">\n",
       "                volatile acidity\n",
       "            </td>\n",
       "        </tr>\n",
       "    \n",
       "        <tr style=\"background-color: hsl(120, 100.00%, 88.18%); border: none;\">\n",
       "            <td style=\"padding: 0 1em 0 0.5em; text-align: right; border: none;\">\n",
       "                0.0956\n",
       "                \n",
       "                    &plusmn; 0.0049\n",
       "                \n",
       "            </td>\n",
       "            <td style=\"padding: 0 0.5em 0 0.5em; text-align: left; border: none;\">\n",
       "                total sulfur dioxide\n",
       "            </td>\n",
       "        </tr>\n",
       "    \n",
       "        <tr style=\"background-color: hsl(120, 100.00%, 89.49%); border: none;\">\n",
       "            <td style=\"padding: 0 1em 0 0.5em; text-align: right; border: none;\">\n",
       "                0.0808\n",
       "                \n",
       "                    &plusmn; 0.0096\n",
       "                \n",
       "            </td>\n",
       "            <td style=\"padding: 0 0.5em 0 0.5em; text-align: left; border: none;\">\n",
       "                chlorides\n",
       "            </td>\n",
       "        </tr>\n",
       "    \n",
       "        <tr style=\"background-color: hsl(120, 100.00%, 91.00%); border: none;\">\n",
       "            <td style=\"padding: 0 1em 0 0.5em; text-align: right; border: none;\">\n",
       "                0.0648\n",
       "                \n",
       "                    &plusmn; 0.0051\n",
       "                \n",
       "            </td>\n",
       "            <td style=\"padding: 0 0.5em 0 0.5em; text-align: left; border: none;\">\n",
       "                density\n",
       "            </td>\n",
       "        </tr>\n",
       "    \n",
       "        <tr style=\"background-color: hsl(120, 100.00%, 91.79%); border: none;\">\n",
       "            <td style=\"padding: 0 1em 0 0.5em; text-align: right; border: none;\">\n",
       "                0.0567\n",
       "                \n",
       "                    &plusmn; 0.0061\n",
       "                \n",
       "            </td>\n",
       "            <td style=\"padding: 0 0.5em 0 0.5em; text-align: left; border: none;\">\n",
       "                residual sugar\n",
       "            </td>\n",
       "        </tr>\n",
       "    \n",
       "        <tr style=\"background-color: hsl(120, 100.00%, 93.19%); border: none;\">\n",
       "            <td style=\"padding: 0 1em 0 0.5em; text-align: right; border: none;\">\n",
       "                0.0435\n",
       "                \n",
       "                    &plusmn; 0.0071\n",
       "                \n",
       "            </td>\n",
       "            <td style=\"padding: 0 0.5em 0 0.5em; text-align: left; border: none;\">\n",
       "                fixed acidity\n",
       "            </td>\n",
       "        </tr>\n",
       "    \n",
       "        <tr style=\"background-color: hsl(120, 100.00%, 93.40%); border: none;\">\n",
       "            <td style=\"padding: 0 1em 0 0.5em; text-align: right; border: none;\">\n",
       "                0.0416\n",
       "                \n",
       "                    &plusmn; 0.0063\n",
       "                \n",
       "            </td>\n",
       "            <td style=\"padding: 0 0.5em 0 0.5em; text-align: left; border: none;\">\n",
       "                citric acid\n",
       "            </td>\n",
       "        </tr>\n",
       "    \n",
       "        <tr style=\"background-color: hsl(120, 100.00%, 95.08%); border: none;\">\n",
       "            <td style=\"padding: 0 1em 0 0.5em; text-align: right; border: none;\">\n",
       "                0.0274\n",
       "                \n",
       "                    &plusmn; 0.0018\n",
       "                \n",
       "            </td>\n",
       "            <td style=\"padding: 0 0.5em 0 0.5em; text-align: left; border: none;\">\n",
       "                sulphates\n",
       "            </td>\n",
       "        </tr>\n",
       "    \n",
       "        <tr style=\"background-color: hsl(120, 100.00%, 95.52%); border: none;\">\n",
       "            <td style=\"padding: 0 1em 0 0.5em; text-align: right; border: none;\">\n",
       "                0.0239\n",
       "                \n",
       "                    &plusmn; 0.0085\n",
       "                \n",
       "            </td>\n",
       "            <td style=\"padding: 0 0.5em 0 0.5em; text-align: left; border: none;\">\n",
       "                pH\n",
       "            </td>\n",
       "        </tr>\n",
       "    \n",
       "    \n",
       "    </tbody>\n",
       "</table>\n",
       "    \n",
       "\n",
       "    \n",
       "\n",
       "\n",
       "    \n",
       "\n",
       "    \n",
       "\n",
       "    \n",
       "\n",
       "    \n",
       "\n",
       "    \n",
       "\n",
       "    \n",
       "\n",
       "\n",
       "\n"
      ],
      "text/plain": [
       "<IPython.core.display.HTML object>"
      ]
     },
     "execution_count": 80,
     "metadata": {},
     "output_type": "execute_result"
    }
   ],
   "source": [
    "cat_forest_perm = PermutationImportance(cat_forest, random_state=1).fit(x_test, y_test)\n",
    "eli5.show_weights(cat_forest_perm, feature_names = x_test.columns.tolist())"
   ]
  },
  {
   "cell_type": "markdown",
   "id": "dd9d18eb",
   "metadata": {},
   "source": [
    "In both models the most important features are:\n",
    "- Alcohol content,\n",
    "- Free Sulfur Dioxide content,\n",
    "- Volatile acidity (acetic acid content).\n",
    "\n",
    "Those data don't fit to correlation data where the most important features are:\n",
    "- Alcohol content (correlation coefficient 0.44),\n",
    "- Density (coeff. -0.31),\n",
    "- Chlorides (coeff -0.21).\n"
   ]
  },
  {
   "cell_type": "markdown",
   "id": "6ddb30a3",
   "metadata": {},
   "source": [
    "<H3>Comparison of wine physicochemical features influencing sensory rating of white and red wine.</H3>\n",
    "\n",
    "In the case of <u>red wine</u>, the most important features are:\n",
    "- Alcohol content,\n",
    "- <U>Sulphates (potassium sulphate) content</U>,\n",
    "- Volatile acidity (acetic acid content).\n",
    "\n",
    "In the case of <u>white wine</u> the most impoertant features are:\n",
    "- Alcohol content,\n",
    "- <U>Free Sulfur Dioxide content</U>,\n",
    "- Volatile acidity (acetic acid content).\n",
    "    "
   ]
  }
 ],
 "metadata": {
  "kernelspec": {
   "display_name": "Python 3",
   "language": "python",
   "name": "python3"
  },
  "language_info": {
   "codemirror_mode": {
    "name": "ipython",
    "version": 3
   },
   "file_extension": ".py",
   "mimetype": "text/x-python",
   "name": "python",
   "nbconvert_exporter": "python",
   "pygments_lexer": "ipython3",
   "version": "3.8.10"
  }
 },
 "nbformat": 4,
 "nbformat_minor": 5
}

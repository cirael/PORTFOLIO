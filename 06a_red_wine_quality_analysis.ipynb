{
 "cells": [
  {
   "cell_type": "code",
   "execution_count": 225,
   "id": "299f0771",
   "metadata": {},
   "outputs": [],
   "source": [
    "import pandas as pd\n",
    "from matplotlib import pyplot as plt\n",
    "import seaborn as sns\n",
    "import numpy as np"
   ]
  },
  {
   "cell_type": "markdown",
   "id": "e3d6310c",
   "metadata": {},
   "source": [
    "Analyzed dataset was downloaded from UCI Machine Learning Repository (https://archive.ics.uci.edu/ml/datasets/wine+quality). It was created by P.Corez et.al. and used in: \"Modeling wine preferences by data mining from physicochemical properties\" [P.Cortez et al., 2009]. Dataset holds data related to red wine variants of the Portuguese \"Vinho Verde\". Due to privacy and logistic issues, only physicochemical (inputs) and sensory (the output) variables are available (e.g. there is no data about grape types, wine brand, wine selling price, etc.).\n",
    "\n",
    "The main goal of my analysis was to detect which features mostly influence the sensory reception of red wine and if those features are the same for red and white wine (white wine dataset will be analyzed in another notebook).     \n",
    "\n",
    "Second goal of analysis was to check which ML model will perform best for this dataset. "
   ]
  },
  {
   "cell_type": "code",
   "execution_count": 226,
   "id": "3cfea7c7",
   "metadata": {},
   "outputs": [],
   "source": [
    "red_wine = pd.read_csv('winequality-red.csv', sep=';')"
   ]
  },
  {
   "cell_type": "code",
   "execution_count": 227,
   "id": "abedcd52",
   "metadata": {},
   "outputs": [
    {
     "data": {
      "text/html": [
       "<div>\n",
       "<style scoped>\n",
       "    .dataframe tbody tr th:only-of-type {\n",
       "        vertical-align: middle;\n",
       "    }\n",
       "\n",
       "    .dataframe tbody tr th {\n",
       "        vertical-align: top;\n",
       "    }\n",
       "\n",
       "    .dataframe thead th {\n",
       "        text-align: right;\n",
       "    }\n",
       "</style>\n",
       "<table border=\"1\" class=\"dataframe\">\n",
       "  <thead>\n",
       "    <tr style=\"text-align: right;\">\n",
       "      <th></th>\n",
       "      <th>fixed acidity</th>\n",
       "      <th>volatile acidity</th>\n",
       "      <th>citric acid</th>\n",
       "      <th>residual sugar</th>\n",
       "      <th>chlorides</th>\n",
       "      <th>free sulfur dioxide</th>\n",
       "      <th>total sulfur dioxide</th>\n",
       "      <th>density</th>\n",
       "      <th>pH</th>\n",
       "      <th>sulphates</th>\n",
       "      <th>alcohol</th>\n",
       "      <th>quality</th>\n",
       "    </tr>\n",
       "  </thead>\n",
       "  <tbody>\n",
       "    <tr>\n",
       "      <th>0</th>\n",
       "      <td>7.4</td>\n",
       "      <td>0.70</td>\n",
       "      <td>0.00</td>\n",
       "      <td>1.9</td>\n",
       "      <td>0.076</td>\n",
       "      <td>11.0</td>\n",
       "      <td>34.0</td>\n",
       "      <td>0.9978</td>\n",
       "      <td>3.51</td>\n",
       "      <td>0.56</td>\n",
       "      <td>9.4</td>\n",
       "      <td>5</td>\n",
       "    </tr>\n",
       "    <tr>\n",
       "      <th>1</th>\n",
       "      <td>7.8</td>\n",
       "      <td>0.88</td>\n",
       "      <td>0.00</td>\n",
       "      <td>2.6</td>\n",
       "      <td>0.098</td>\n",
       "      <td>25.0</td>\n",
       "      <td>67.0</td>\n",
       "      <td>0.9968</td>\n",
       "      <td>3.20</td>\n",
       "      <td>0.68</td>\n",
       "      <td>9.8</td>\n",
       "      <td>5</td>\n",
       "    </tr>\n",
       "    <tr>\n",
       "      <th>2</th>\n",
       "      <td>7.8</td>\n",
       "      <td>0.76</td>\n",
       "      <td>0.04</td>\n",
       "      <td>2.3</td>\n",
       "      <td>0.092</td>\n",
       "      <td>15.0</td>\n",
       "      <td>54.0</td>\n",
       "      <td>0.9970</td>\n",
       "      <td>3.26</td>\n",
       "      <td>0.65</td>\n",
       "      <td>9.8</td>\n",
       "      <td>5</td>\n",
       "    </tr>\n",
       "    <tr>\n",
       "      <th>3</th>\n",
       "      <td>11.2</td>\n",
       "      <td>0.28</td>\n",
       "      <td>0.56</td>\n",
       "      <td>1.9</td>\n",
       "      <td>0.075</td>\n",
       "      <td>17.0</td>\n",
       "      <td>60.0</td>\n",
       "      <td>0.9980</td>\n",
       "      <td>3.16</td>\n",
       "      <td>0.58</td>\n",
       "      <td>9.8</td>\n",
       "      <td>6</td>\n",
       "    </tr>\n",
       "    <tr>\n",
       "      <th>4</th>\n",
       "      <td>7.4</td>\n",
       "      <td>0.70</td>\n",
       "      <td>0.00</td>\n",
       "      <td>1.9</td>\n",
       "      <td>0.076</td>\n",
       "      <td>11.0</td>\n",
       "      <td>34.0</td>\n",
       "      <td>0.9978</td>\n",
       "      <td>3.51</td>\n",
       "      <td>0.56</td>\n",
       "      <td>9.4</td>\n",
       "      <td>5</td>\n",
       "    </tr>\n",
       "  </tbody>\n",
       "</table>\n",
       "</div>"
      ],
      "text/plain": [
       "   fixed acidity  volatile acidity  citric acid  residual sugar  chlorides  \\\n",
       "0            7.4              0.70         0.00             1.9      0.076   \n",
       "1            7.8              0.88         0.00             2.6      0.098   \n",
       "2            7.8              0.76         0.04             2.3      0.092   \n",
       "3           11.2              0.28         0.56             1.9      0.075   \n",
       "4            7.4              0.70         0.00             1.9      0.076   \n",
       "\n",
       "   free sulfur dioxide  total sulfur dioxide  density    pH  sulphates  \\\n",
       "0                 11.0                  34.0   0.9978  3.51       0.56   \n",
       "1                 25.0                  67.0   0.9968  3.20       0.68   \n",
       "2                 15.0                  54.0   0.9970  3.26       0.65   \n",
       "3                 17.0                  60.0   0.9980  3.16       0.58   \n",
       "4                 11.0                  34.0   0.9978  3.51       0.56   \n",
       "\n",
       "   alcohol  quality  \n",
       "0      9.4        5  \n",
       "1      9.8        5  \n",
       "2      9.8        5  \n",
       "3      9.8        6  \n",
       "4      9.4        5  "
      ]
     },
     "execution_count": 227,
     "metadata": {},
     "output_type": "execute_result"
    }
   ],
   "source": [
    "red_wine.head()"
   ]
  },
  {
   "cell_type": "code",
   "execution_count": 228,
   "id": "aa6d6312",
   "metadata": {},
   "outputs": [
    {
     "data": {
      "text/plain": [
       "(1599, 12)"
      ]
     },
     "execution_count": 228,
     "metadata": {},
     "output_type": "execute_result"
    }
   ],
   "source": [
    "red_wine.shape"
   ]
  },
  {
   "cell_type": "code",
   "execution_count": 229,
   "id": "4dc0f34a",
   "metadata": {},
   "outputs": [
    {
     "data": {
      "text/plain": [
       "fixed acidity           0\n",
       "volatile acidity        0\n",
       "citric acid             0\n",
       "residual sugar          0\n",
       "chlorides               0\n",
       "free sulfur dioxide     0\n",
       "total sulfur dioxide    0\n",
       "density                 0\n",
       "pH                      0\n",
       "sulphates               0\n",
       "alcohol                 0\n",
       "quality                 0\n",
       "dtype: int64"
      ]
     },
     "execution_count": 229,
     "metadata": {},
     "output_type": "execute_result"
    }
   ],
   "source": [
    "red_wine.isna().sum()"
   ]
  },
  {
   "cell_type": "markdown",
   "id": "593f8653",
   "metadata": {},
   "source": [
    "Analyzed dataset is a table of 12 columns (features) and 1599 rows (observations). There are no null values.\n",
    "\n",
    "Eleven features are the explanatory variables, all are quantitative continous data. Described below based on [P.Cortez et al., 2009]:\n",
    "- Fixed Acidity - describes content of tartaric acid [g/dm<sup>3</sup>];\n",
    "- Volatile Acidity - describes content of acetic acid [g/dm<sup>3</sup>];\n",
    "- Citric Acid, [g/dm<sup>3</sup>];\n",
    "- Residual Sugar, [g/dm<sup>3</sup>];\n",
    "- Chlorides - content of sodium chloride [g/dm<sup>3</sup>];\n",
    "- Free Sulfur Dioxide, [mg/dm<sup>3</sup>];\n",
    "- Total Sulfur Dioxide, [mg/dm<sup>3</sup>];\n",
    "- Density, [g/dm<sup>3</sup>];\n",
    "- pH;\n",
    "- Sulphates - content of potassium sulphate [g/dm<sup>3</sup>];\n",
    "- Alcohol [%vol].\n",
    "    \n",
    "The target (explained) feature is: \n",
    "- Quality - evaluated by three sensory assessors, by means of blind tastes, which graded the wine in a scale that ranges from 0 to 10 (from very bad to excellent quality, respectively) [P.Cortez et al., 2009]."
   ]
  },
  {
   "cell_type": "markdown",
   "id": "4e8d84f0",
   "metadata": {},
   "source": [
    "<H2> Exploratory data analysis</H2>\n",
    "<H3> Single feature analysis </H3>"
   ]
  },
  {
   "cell_type": "code",
   "execution_count": 230,
   "id": "3175841b",
   "metadata": {},
   "outputs": [
    {
     "data": {
      "text/html": [
       "<div>\n",
       "<style scoped>\n",
       "    .dataframe tbody tr th:only-of-type {\n",
       "        vertical-align: middle;\n",
       "    }\n",
       "\n",
       "    .dataframe tbody tr th {\n",
       "        vertical-align: top;\n",
       "    }\n",
       "\n",
       "    .dataframe thead th {\n",
       "        text-align: right;\n",
       "    }\n",
       "</style>\n",
       "<table border=\"1\" class=\"dataframe\">\n",
       "  <thead>\n",
       "    <tr style=\"text-align: right;\">\n",
       "      <th></th>\n",
       "      <th>fixed acidity</th>\n",
       "      <th>volatile acidity</th>\n",
       "      <th>citric acid</th>\n",
       "      <th>residual sugar</th>\n",
       "      <th>chlorides</th>\n",
       "      <th>free sulfur dioxide</th>\n",
       "      <th>total sulfur dioxide</th>\n",
       "      <th>density</th>\n",
       "      <th>pH</th>\n",
       "      <th>sulphates</th>\n",
       "      <th>alcohol</th>\n",
       "      <th>quality</th>\n",
       "    </tr>\n",
       "  </thead>\n",
       "  <tbody>\n",
       "    <tr>\n",
       "      <th>count</th>\n",
       "      <td>1599.000000</td>\n",
       "      <td>1599.000000</td>\n",
       "      <td>1599.000000</td>\n",
       "      <td>1599.000000</td>\n",
       "      <td>1599.000000</td>\n",
       "      <td>1599.000000</td>\n",
       "      <td>1599.000000</td>\n",
       "      <td>1599.000000</td>\n",
       "      <td>1599.000000</td>\n",
       "      <td>1599.000000</td>\n",
       "      <td>1599.000000</td>\n",
       "      <td>1599.000000</td>\n",
       "    </tr>\n",
       "    <tr>\n",
       "      <th>mean</th>\n",
       "      <td>8.319637</td>\n",
       "      <td>0.527821</td>\n",
       "      <td>0.270976</td>\n",
       "      <td>2.538806</td>\n",
       "      <td>0.087467</td>\n",
       "      <td>15.874922</td>\n",
       "      <td>46.467792</td>\n",
       "      <td>0.996747</td>\n",
       "      <td>3.311113</td>\n",
       "      <td>0.658149</td>\n",
       "      <td>10.422983</td>\n",
       "      <td>5.636023</td>\n",
       "    </tr>\n",
       "    <tr>\n",
       "      <th>std</th>\n",
       "      <td>1.741096</td>\n",
       "      <td>0.179060</td>\n",
       "      <td>0.194801</td>\n",
       "      <td>1.409928</td>\n",
       "      <td>0.047065</td>\n",
       "      <td>10.460157</td>\n",
       "      <td>32.895324</td>\n",
       "      <td>0.001887</td>\n",
       "      <td>0.154386</td>\n",
       "      <td>0.169507</td>\n",
       "      <td>1.065668</td>\n",
       "      <td>0.807569</td>\n",
       "    </tr>\n",
       "    <tr>\n",
       "      <th>min</th>\n",
       "      <td>4.600000</td>\n",
       "      <td>0.120000</td>\n",
       "      <td>0.000000</td>\n",
       "      <td>0.900000</td>\n",
       "      <td>0.012000</td>\n",
       "      <td>1.000000</td>\n",
       "      <td>6.000000</td>\n",
       "      <td>0.990070</td>\n",
       "      <td>2.740000</td>\n",
       "      <td>0.330000</td>\n",
       "      <td>8.400000</td>\n",
       "      <td>3.000000</td>\n",
       "    </tr>\n",
       "    <tr>\n",
       "      <th>25%</th>\n",
       "      <td>7.100000</td>\n",
       "      <td>0.390000</td>\n",
       "      <td>0.090000</td>\n",
       "      <td>1.900000</td>\n",
       "      <td>0.070000</td>\n",
       "      <td>7.000000</td>\n",
       "      <td>22.000000</td>\n",
       "      <td>0.995600</td>\n",
       "      <td>3.210000</td>\n",
       "      <td>0.550000</td>\n",
       "      <td>9.500000</td>\n",
       "      <td>5.000000</td>\n",
       "    </tr>\n",
       "    <tr>\n",
       "      <th>50%</th>\n",
       "      <td>7.900000</td>\n",
       "      <td>0.520000</td>\n",
       "      <td>0.260000</td>\n",
       "      <td>2.200000</td>\n",
       "      <td>0.079000</td>\n",
       "      <td>14.000000</td>\n",
       "      <td>38.000000</td>\n",
       "      <td>0.996750</td>\n",
       "      <td>3.310000</td>\n",
       "      <td>0.620000</td>\n",
       "      <td>10.200000</td>\n",
       "      <td>6.000000</td>\n",
       "    </tr>\n",
       "    <tr>\n",
       "      <th>75%</th>\n",
       "      <td>9.200000</td>\n",
       "      <td>0.640000</td>\n",
       "      <td>0.420000</td>\n",
       "      <td>2.600000</td>\n",
       "      <td>0.090000</td>\n",
       "      <td>21.000000</td>\n",
       "      <td>62.000000</td>\n",
       "      <td>0.997835</td>\n",
       "      <td>3.400000</td>\n",
       "      <td>0.730000</td>\n",
       "      <td>11.100000</td>\n",
       "      <td>6.000000</td>\n",
       "    </tr>\n",
       "    <tr>\n",
       "      <th>max</th>\n",
       "      <td>15.900000</td>\n",
       "      <td>1.580000</td>\n",
       "      <td>1.000000</td>\n",
       "      <td>15.500000</td>\n",
       "      <td>0.611000</td>\n",
       "      <td>72.000000</td>\n",
       "      <td>289.000000</td>\n",
       "      <td>1.003690</td>\n",
       "      <td>4.010000</td>\n",
       "      <td>2.000000</td>\n",
       "      <td>14.900000</td>\n",
       "      <td>8.000000</td>\n",
       "    </tr>\n",
       "  </tbody>\n",
       "</table>\n",
       "</div>"
      ],
      "text/plain": [
       "       fixed acidity  volatile acidity  citric acid  residual sugar  \\\n",
       "count    1599.000000       1599.000000  1599.000000     1599.000000   \n",
       "mean        8.319637          0.527821     0.270976        2.538806   \n",
       "std         1.741096          0.179060     0.194801        1.409928   \n",
       "min         4.600000          0.120000     0.000000        0.900000   \n",
       "25%         7.100000          0.390000     0.090000        1.900000   \n",
       "50%         7.900000          0.520000     0.260000        2.200000   \n",
       "75%         9.200000          0.640000     0.420000        2.600000   \n",
       "max        15.900000          1.580000     1.000000       15.500000   \n",
       "\n",
       "         chlorides  free sulfur dioxide  total sulfur dioxide      density  \\\n",
       "count  1599.000000          1599.000000           1599.000000  1599.000000   \n",
       "mean      0.087467            15.874922             46.467792     0.996747   \n",
       "std       0.047065            10.460157             32.895324     0.001887   \n",
       "min       0.012000             1.000000              6.000000     0.990070   \n",
       "25%       0.070000             7.000000             22.000000     0.995600   \n",
       "50%       0.079000            14.000000             38.000000     0.996750   \n",
       "75%       0.090000            21.000000             62.000000     0.997835   \n",
       "max       0.611000            72.000000            289.000000     1.003690   \n",
       "\n",
       "                pH    sulphates      alcohol      quality  \n",
       "count  1599.000000  1599.000000  1599.000000  1599.000000  \n",
       "mean      3.311113     0.658149    10.422983     5.636023  \n",
       "std       0.154386     0.169507     1.065668     0.807569  \n",
       "min       2.740000     0.330000     8.400000     3.000000  \n",
       "25%       3.210000     0.550000     9.500000     5.000000  \n",
       "50%       3.310000     0.620000    10.200000     6.000000  \n",
       "75%       3.400000     0.730000    11.100000     6.000000  \n",
       "max       4.010000     2.000000    14.900000     8.000000  "
      ]
     },
     "execution_count": 230,
     "metadata": {},
     "output_type": "execute_result"
    }
   ],
   "source": [
    "red_wine.describe()"
   ]
  },
  {
   "cell_type": "code",
   "execution_count": 231,
   "id": "89dab964",
   "metadata": {},
   "outputs": [
    {
     "data": {
      "image/png": "[encoded data removed]",
      "text/plain": [
       "<Figure size 1080x288 with 2 Axes>"
      ]
     },
     "metadata": {
      "needs_background": "light"
     },
     "output_type": "display_data"
    }
   ],
   "source": [
    "plt.figure(figsize=(15,4))\n",
    "plt.subplot(1,2,1)\n",
    "sns.histplot(data=red_wine, x='fixed acidity')\n",
    "plt.xlabel('Fixed Acidity [g/dm3]')\n",
    "plt.title('Fig.1. Histogram of Fixed Acidity')\n",
    "plt.subplot(1,2,2)\n",
    "sns.histplot(data=red_wine, x='volatile acidity')\n",
    "plt.xlabel('Volatile Acidity [g/dm3]')\n",
    "plt.title('Fig.2. Histogram of Volatile Acidity')\n",
    "plt.show()"
   ]
  },
  {
   "cell_type": "markdown",
   "id": "332aa2c9",
   "metadata": {},
   "source": [
    "- Minimum content of Fixed Acidity is 4.6 g/dm3, maximum is 15.9 g/dm3. Mean value is 8.32 g/dm3, higher than median (7.9 g/dm3). Histogram is unimodal and right skewed (Fig.1.).\n",
    "- Minimum content of Volatile Acidity is 0.12 g/dm3, maximum is 1.58 g/dm3. Mean value is 0.53 g/dm3, slightly higher than median (0.52 g/dm3). Histogram is bimodal and right skewed (Fig.2.)."
   ]
  },
  {
   "cell_type": "code",
   "execution_count": 232,
   "id": "607cb7cd",
   "metadata": {},
   "outputs": [
    {
     "data": {
      "image/png": "[encoded data removed]",
      "text/plain": [
       "<Figure size 1080x288 with 2 Axes>"
      ]
     },
     "metadata": {
      "needs_background": "light"
     },
     "output_type": "display_data"
    }
   ],
   "source": [
    "plt.figure(figsize=(15,4))\n",
    "plt.subplot(1,2,1)\n",
    "sns.histplot(data=red_wine, x='citric acid')\n",
    "plt.xlabel('Citric Acid [g/dm3]')\n",
    "plt.title('Fig.3. Histogram of Citric Acid content')\n",
    "plt.subplot(1,2,2)\n",
    "sns.histplot(data=red_wine, x='residual sugar')\n",
    "plt.xlabel('Residual Sugar [g/dm3]')\n",
    "plt.title('Fig.4. Histogram of Residual Sugar content')\n",
    "plt.show()"
   ]
  },
  {
   "cell_type": "markdown",
   "id": "d69fb340",
   "metadata": {},
   "source": [
    "- Minimum content of Citric Acid is 0.0 g/dm3, maximum is 1.0 g/dm3. Mean value is 0.27 g/dm3, higher than median (0.26 g/dm3). Histogram has three maxima and is right skewed (Fig.3.).\n",
    "- Minimum content of Residual Sugar is 0.9 g/dm3, maximum is 15.5 g/dm3. Mean is 2.54 g/dm3, higher than median (2.2 g/dm3). Histogram is unimodal and right skewed. A lot of outliers can be observed (Fig.4.)."
   ]
  },
  {
   "cell_type": "code",
   "execution_count": 233,
   "id": "65ff5918",
   "metadata": {},
   "outputs": [
    {
     "data": {
      "image/png": "[encoded data removed]",
      "text/plain": [
       "<Figure size 1080x288 with 2 Axes>"
      ]
     },
     "metadata": {
      "needs_background": "light"
     },
     "output_type": "display_data"
    }
   ],
   "source": [
    "plt.figure(figsize=(15,4))\n",
    "plt.subplot(1,2,1)\n",
    "sns.histplot(data=red_wine, x='chlorides')\n",
    "plt.xlabel('Chlorides [g/dm3]')\n",
    "plt.title('Fig.5. Histogram of Sodium Chloride content')\n",
    "plt.subplot(1,2,2)\n",
    "sns.histplot(data=red_wine, x='free sulfur dioxide')\n",
    "plt.xlabel('Free Sulfur Dioxide [mg/dm3]')\n",
    "plt.title('Fig.6. Histogram of Free Sulfur Dioxide content')\n",
    "plt.show()"
   ]
  },
  {
   "cell_type": "markdown",
   "id": "eb8ae2b9",
   "metadata": {},
   "source": [
    "- Minimum content of Sodium Chloride 0.012 g/dm3, maximum is 0.611 g/dm3. Mean value is 0.087 g/dm3, higher than median (0.079 g/dm3). Histogram is unimodal and right skewed. A lot of outliers can be observed (Fig.5.).\n",
    "- Minimum content of Free Sulfur Dioxide is 1.0 mg/dm3, maximum is 172.0 mg/dm3. Mean is 15.9 mg/dm3, higher than median (14.0 mg/dm3). Histogram is unimodal and right skewed (Fig.6.)."
   ]
  },
  {
   "cell_type": "code",
   "execution_count": 234,
   "id": "ea5912f3",
   "metadata": {},
   "outputs": [
    {
     "data": {
      "image/png": "[encoded data removed]",
      "text/plain": [
       "<Figure size 1080x288 with 2 Axes>"
      ]
     },
     "metadata": {
      "needs_background": "light"
     },
     "output_type": "display_data"
    }
   ],
   "source": [
    "plt.figure(figsize=(15,4))\n",
    "plt.subplot(1,2,1)\n",
    "sns.histplot(data=red_wine, x='total sulfur dioxide')\n",
    "plt.xlabel('Total Sulfur Dioxide [mg/dm3]')\n",
    "plt.title('Fig.7. Histogram of Total Sulfur Dioxide content')\n",
    "plt.subplot(1,2,2)\n",
    "sns.histplot(data=red_wine, x='density')\n",
    "plt.xlabel('Density [g/dm3]')\n",
    "plt.title('Fig.8. Histogram of wine Density')\n",
    "plt.show()"
   ]
  },
  {
   "cell_type": "markdown",
   "id": "ef1d398c",
   "metadata": {},
   "source": [
    "- Minimum content of Total Sulfur Dioxide 6.0 mg/dm3, maximum is 289.0 mg/dm3. Mean value is 46.5 mg/dm3, higher than median (38.0 mg/dm3). Histogram is unimodal and right skewed. There are a few outliers (Fig.7.).\n",
    "- Minimum wine Density is 0.990 g/dm3, maximum is 1.004 g/dm3. Mean is 0.997 g/dm3, similar to median (0.997 g/dm3). Histogram is unimodal and symmetrical (Fig.8.)."
   ]
  },
  {
   "cell_type": "code",
   "execution_count": 235,
   "id": "04b50e0e",
   "metadata": {},
   "outputs": [
    {
     "data": {
      "image/png": "[encoded data removed]",
      "text/plain": [
       "<Figure size 1080x288 with 2 Axes>"
      ]
     },
     "metadata": {
      "needs_background": "light"
     },
     "output_type": "display_data"
    }
   ],
   "source": [
    "plt.figure(figsize=(15,4))\n",
    "plt.subplot(1,2,1)\n",
    "sns.histplot(data=red_wine, x='pH')\n",
    "plt.title('Fig.9. Histogram of wine pH')\n",
    "plt.xlabel('pH')\n",
    "plt.subplot(1,2,2)\n",
    "sns.histplot(data=red_wine, x='sulphates')\n",
    "plt.title('Fig.10. Histogram of Sulphates content')\n",
    "plt.xlabel('Sulphates [g/dm]3')\n",
    "plt.show()"
   ]
  },
  {
   "cell_type": "markdown",
   "id": "35bf2eb8",
   "metadata": {},
   "source": [
    "- Minimum wine pH is 2.74, maximum is 4.01. Mean value is 3.31, exactly the same like median. Histogram is unimodal and symmetrical (Fig.9.).\n",
    "- Minimum content of Potassium Sulphate is 0.33 g/dm3, maximum is 2.00 g/dm3. Mean value is 0.66 g/dm3, higher than median (0.62 g/dm3). Histogram is unimodal and right skewed. There are a few outliers (Fig.10.)."
   ]
  },
  {
   "cell_type": "code",
   "execution_count": 236,
   "id": "840890b5",
   "metadata": {},
   "outputs": [
    {
     "data": {
      "image/png": "[encoded data removed]",
      "text/plain": [
       "<Figure size 432x288 with 1 Axes>"
      ]
     },
     "metadata": {
      "needs_background": "light"
     },
     "output_type": "display_data"
    }
   ],
   "source": [
    "sns.histplot(data=red_wine, x='alcohol')\n",
    "plt.xlabel('Alcohol [%vol]')\n",
    "plt.title('Fig.11. Histogram of Alcohol content')\n",
    "plt.show()"
   ]
  },
  {
   "cell_type": "markdown",
   "id": "1580c2eb",
   "metadata": {},
   "source": [
    "- Minimum Alcohol content is 8.4 %vol, maximum is 14.9 %vol. Mean value is 10.4 %vol, higher than median (10.2 %vol). Histogram is unimodal and right skewed (Fig.11.)."
   ]
  },
  {
   "cell_type": "markdown",
   "id": "cea52e20",
   "metadata": {},
   "source": [
    "<H3>Target variable</H3>"
   ]
  },
  {
   "cell_type": "code",
   "execution_count": 237,
   "id": "27ca7a46",
   "metadata": {},
   "outputs": [
    {
     "data": {
      "image/png": "[encoded data removed]",
      "text/plain": [
       "<Figure size 432x288 with 1 Axes>"
      ]
     },
     "metadata": {
      "needs_background": "light"
     },
     "output_type": "display_data"
    }
   ],
   "source": [
    "sns.histplot(data=red_wine, x='quality')\n",
    "plt.xlabel('Quality')\n",
    "plt.title('Fig.12. Histogram of wine quality')\n",
    "plt.show()"
   ]
  },
  {
   "cell_type": "code",
   "execution_count": 238,
   "id": "97e14fc5",
   "metadata": {},
   "outputs": [
    {
     "data": {
      "text/plain": [
       "5    681\n",
       "6    638\n",
       "7    199\n",
       "4     53\n",
       "8     18\n",
       "3     10\n",
       "Name: quality, dtype: int64"
      ]
     },
     "execution_count": 238,
     "metadata": {},
     "output_type": "execute_result"
    }
   ],
   "source": [
    "red_wine['quality'].value_counts()"
   ]
  },
  {
   "cell_type": "markdown",
   "id": "737bbcb4",
   "metadata": {},
   "source": [
    "- As it can be seen on Fig.12., analyzed dataset is unbalanced, there are far more samples for 5 and 6 quality points (average taste) than for other. This issue will be addressed furhter. "
   ]
  },
  {
   "cell_type": "markdown",
   "id": "d1dfe04c",
   "metadata": {},
   "source": [
    "<H3>Correlation with target variable</H3>"
   ]
  },
  {
   "cell_type": "code",
   "execution_count": 239,
   "id": "ba21c8f8",
   "metadata": {},
   "outputs": [
    {
     "data": {
      "text/html": [
       "<div>\n",
       "<style scoped>\n",
       "    .dataframe tbody tr th:only-of-type {\n",
       "        vertical-align: middle;\n",
       "    }\n",
       "\n",
       "    .dataframe tbody tr th {\n",
       "        vertical-align: top;\n",
       "    }\n",
       "\n",
       "    .dataframe thead th {\n",
       "        text-align: right;\n",
       "    }\n",
       "</style>\n",
       "<table border=\"1\" class=\"dataframe\">\n",
       "  <thead>\n",
       "    <tr style=\"text-align: right;\">\n",
       "      <th></th>\n",
       "      <th>fixed acidity</th>\n",
       "      <th>volatile acidity</th>\n",
       "      <th>citric acid</th>\n",
       "      <th>residual sugar</th>\n",
       "      <th>chlorides</th>\n",
       "      <th>free sulfur dioxide</th>\n",
       "      <th>total sulfur dioxide</th>\n",
       "      <th>density</th>\n",
       "      <th>pH</th>\n",
       "      <th>sulphates</th>\n",
       "      <th>alcohol</th>\n",
       "      <th>quality</th>\n",
       "    </tr>\n",
       "  </thead>\n",
       "  <tbody>\n",
       "    <tr>\n",
       "      <th>fixed acidity</th>\n",
       "      <td>1.000000</td>\n",
       "      <td>-0.256131</td>\n",
       "      <td>0.671703</td>\n",
       "      <td>0.114777</td>\n",
       "      <td>0.093705</td>\n",
       "      <td>-0.153794</td>\n",
       "      <td>-0.113181</td>\n",
       "      <td>0.668047</td>\n",
       "      <td>-0.682978</td>\n",
       "      <td>0.183006</td>\n",
       "      <td>-0.061668</td>\n",
       "      <td>0.124052</td>\n",
       "    </tr>\n",
       "    <tr>\n",
       "      <th>volatile acidity</th>\n",
       "      <td>-0.256131</td>\n",
       "      <td>1.000000</td>\n",
       "      <td>-0.552496</td>\n",
       "      <td>0.001918</td>\n",
       "      <td>0.061298</td>\n",
       "      <td>-0.010504</td>\n",
       "      <td>0.076470</td>\n",
       "      <td>0.022026</td>\n",
       "      <td>0.234937</td>\n",
       "      <td>-0.260987</td>\n",
       "      <td>-0.202288</td>\n",
       "      <td>-0.390558</td>\n",
       "    </tr>\n",
       "    <tr>\n",
       "      <th>citric acid</th>\n",
       "      <td>0.671703</td>\n",
       "      <td>-0.552496</td>\n",
       "      <td>1.000000</td>\n",
       "      <td>0.143577</td>\n",
       "      <td>0.203823</td>\n",
       "      <td>-0.060978</td>\n",
       "      <td>0.035533</td>\n",
       "      <td>0.364947</td>\n",
       "      <td>-0.541904</td>\n",
       "      <td>0.312770</td>\n",
       "      <td>0.109903</td>\n",
       "      <td>0.226373</td>\n",
       "    </tr>\n",
       "    <tr>\n",
       "      <th>residual sugar</th>\n",
       "      <td>0.114777</td>\n",
       "      <td>0.001918</td>\n",
       "      <td>0.143577</td>\n",
       "      <td>1.000000</td>\n",
       "      <td>0.055610</td>\n",
       "      <td>0.187049</td>\n",
       "      <td>0.203028</td>\n",
       "      <td>0.355283</td>\n",
       "      <td>-0.085652</td>\n",
       "      <td>0.005527</td>\n",
       "      <td>0.042075</td>\n",
       "      <td>0.013732</td>\n",
       "    </tr>\n",
       "    <tr>\n",
       "      <th>chlorides</th>\n",
       "      <td>0.093705</td>\n",
       "      <td>0.061298</td>\n",
       "      <td>0.203823</td>\n",
       "      <td>0.055610</td>\n",
       "      <td>1.000000</td>\n",
       "      <td>0.005562</td>\n",
       "      <td>0.047400</td>\n",
       "      <td>0.200632</td>\n",
       "      <td>-0.265026</td>\n",
       "      <td>0.371260</td>\n",
       "      <td>-0.221141</td>\n",
       "      <td>-0.128907</td>\n",
       "    </tr>\n",
       "    <tr>\n",
       "      <th>free sulfur dioxide</th>\n",
       "      <td>-0.153794</td>\n",
       "      <td>-0.010504</td>\n",
       "      <td>-0.060978</td>\n",
       "      <td>0.187049</td>\n",
       "      <td>0.005562</td>\n",
       "      <td>1.000000</td>\n",
       "      <td>0.667666</td>\n",
       "      <td>-0.021946</td>\n",
       "      <td>0.070377</td>\n",
       "      <td>0.051658</td>\n",
       "      <td>-0.069408</td>\n",
       "      <td>-0.050656</td>\n",
       "    </tr>\n",
       "    <tr>\n",
       "      <th>total sulfur dioxide</th>\n",
       "      <td>-0.113181</td>\n",
       "      <td>0.076470</td>\n",
       "      <td>0.035533</td>\n",
       "      <td>0.203028</td>\n",
       "      <td>0.047400</td>\n",
       "      <td>0.667666</td>\n",
       "      <td>1.000000</td>\n",
       "      <td>0.071269</td>\n",
       "      <td>-0.066495</td>\n",
       "      <td>0.042947</td>\n",
       "      <td>-0.205654</td>\n",
       "      <td>-0.185100</td>\n",
       "    </tr>\n",
       "    <tr>\n",
       "      <th>density</th>\n",
       "      <td>0.668047</td>\n",
       "      <td>0.022026</td>\n",
       "      <td>0.364947</td>\n",
       "      <td>0.355283</td>\n",
       "      <td>0.200632</td>\n",
       "      <td>-0.021946</td>\n",
       "      <td>0.071269</td>\n",
       "      <td>1.000000</td>\n",
       "      <td>-0.341699</td>\n",
       "      <td>0.148506</td>\n",
       "      <td>-0.496180</td>\n",
       "      <td>-0.174919</td>\n",
       "    </tr>\n",
       "    <tr>\n",
       "      <th>pH</th>\n",
       "      <td>-0.682978</td>\n",
       "      <td>0.234937</td>\n",
       "      <td>-0.541904</td>\n",
       "      <td>-0.085652</td>\n",
       "      <td>-0.265026</td>\n",
       "      <td>0.070377</td>\n",
       "      <td>-0.066495</td>\n",
       "      <td>-0.341699</td>\n",
       "      <td>1.000000</td>\n",
       "      <td>-0.196648</td>\n",
       "      <td>0.205633</td>\n",
       "      <td>-0.057731</td>\n",
       "    </tr>\n",
       "    <tr>\n",
       "      <th>sulphates</th>\n",
       "      <td>0.183006</td>\n",
       "      <td>-0.260987</td>\n",
       "      <td>0.312770</td>\n",
       "      <td>0.005527</td>\n",
       "      <td>0.371260</td>\n",
       "      <td>0.051658</td>\n",
       "      <td>0.042947</td>\n",
       "      <td>0.148506</td>\n",
       "      <td>-0.196648</td>\n",
       "      <td>1.000000</td>\n",
       "      <td>0.093595</td>\n",
       "      <td>0.251397</td>\n",
       "    </tr>\n",
       "    <tr>\n",
       "      <th>alcohol</th>\n",
       "      <td>-0.061668</td>\n",
       "      <td>-0.202288</td>\n",
       "      <td>0.109903</td>\n",
       "      <td>0.042075</td>\n",
       "      <td>-0.221141</td>\n",
       "      <td>-0.069408</td>\n",
       "      <td>-0.205654</td>\n",
       "      <td>-0.496180</td>\n",
       "      <td>0.205633</td>\n",
       "      <td>0.093595</td>\n",
       "      <td>1.000000</td>\n",
       "      <td>0.476166</td>\n",
       "    </tr>\n",
       "    <tr>\n",
       "      <th>quality</th>\n",
       "      <td>0.124052</td>\n",
       "      <td>-0.390558</td>\n",
       "      <td>0.226373</td>\n",
       "      <td>0.013732</td>\n",
       "      <td>-0.128907</td>\n",
       "      <td>-0.050656</td>\n",
       "      <td>-0.185100</td>\n",
       "      <td>-0.174919</td>\n",
       "      <td>-0.057731</td>\n",
       "      <td>0.251397</td>\n",
       "      <td>0.476166</td>\n",
       "      <td>1.000000</td>\n",
       "    </tr>\n",
       "  </tbody>\n",
       "</table>\n",
       "</div>"
      ],
      "text/plain": [
       "                      fixed acidity  volatile acidity  citric acid  \\\n",
       "fixed acidity              1.000000         -0.256131     0.671703   \n",
       "volatile acidity          -0.256131          1.000000    -0.552496   \n",
       "citric acid                0.671703         -0.552496     1.000000   \n",
       "residual sugar             0.114777          0.001918     0.143577   \n",
       "chlorides                  0.093705          0.061298     0.203823   \n",
       "free sulfur dioxide       -0.153794         -0.010504    -0.060978   \n",
       "total sulfur dioxide      -0.113181          0.076470     0.035533   \n",
       "density                    0.668047          0.022026     0.364947   \n",
       "pH                        -0.682978          0.234937    -0.541904   \n",
       "sulphates                  0.183006         -0.260987     0.312770   \n",
       "alcohol                   -0.061668         -0.202288     0.109903   \n",
       "quality                    0.124052         -0.390558     0.226373   \n",
       "\n",
       "                      residual sugar  chlorides  free sulfur dioxide  \\\n",
       "fixed acidity               0.114777   0.093705            -0.153794   \n",
       "volatile acidity            0.001918   0.061298            -0.010504   \n",
       "citric acid                 0.143577   0.203823            -0.060978   \n",
       "residual sugar              1.000000   0.055610             0.187049   \n",
       "chlorides                   0.055610   1.000000             0.005562   \n",
       "free sulfur dioxide         0.187049   0.005562             1.000000   \n",
       "total sulfur dioxide        0.203028   0.047400             0.667666   \n",
       "density                     0.355283   0.200632            -0.021946   \n",
       "pH                         -0.085652  -0.265026             0.070377   \n",
       "sulphates                   0.005527   0.371260             0.051658   \n",
       "alcohol                     0.042075  -0.221141            -0.069408   \n",
       "quality                     0.013732  -0.128907            -0.050656   \n",
       "\n",
       "                      total sulfur dioxide   density        pH  sulphates  \\\n",
       "fixed acidity                    -0.113181  0.668047 -0.682978   0.183006   \n",
       "volatile acidity                  0.076470  0.022026  0.234937  -0.260987   \n",
       "citric acid                       0.035533  0.364947 -0.541904   0.312770   \n",
       "residual sugar                    0.203028  0.355283 -0.085652   0.005527   \n",
       "chlorides                         0.047400  0.200632 -0.265026   0.371260   \n",
       "free sulfur dioxide               0.667666 -0.021946  0.070377   0.051658   \n",
       "total sulfur dioxide              1.000000  0.071269 -0.066495   0.042947   \n",
       "density                           0.071269  1.000000 -0.341699   0.148506   \n",
       "pH                               -0.066495 -0.341699  1.000000  -0.196648   \n",
       "sulphates                         0.042947  0.148506 -0.196648   1.000000   \n",
       "alcohol                          -0.205654 -0.496180  0.205633   0.093595   \n",
       "quality                          -0.185100 -0.174919 -0.057731   0.251397   \n",
       "\n",
       "                       alcohol   quality  \n",
       "fixed acidity        -0.061668  0.124052  \n",
       "volatile acidity     -0.202288 -0.390558  \n",
       "citric acid           0.109903  0.226373  \n",
       "residual sugar        0.042075  0.013732  \n",
       "chlorides            -0.221141 -0.128907  \n",
       "free sulfur dioxide  -0.069408 -0.050656  \n",
       "total sulfur dioxide -0.205654 -0.185100  \n",
       "density              -0.496180 -0.174919  \n",
       "pH                    0.205633 -0.057731  \n",
       "sulphates             0.093595  0.251397  \n",
       "alcohol               1.000000  0.476166  \n",
       "quality               0.476166  1.000000  "
      ]
     },
     "execution_count": 239,
     "metadata": {},
     "output_type": "execute_result"
    }
   ],
   "source": [
    "red_wine.corr()"
   ]
  },
  {
   "cell_type": "code",
   "execution_count": 240,
   "id": "07252d28",
   "metadata": {},
   "outputs": [
    {
     "data": {
      "image/png": "[encoded data removed]",
      "text/plain": [
       "<Figure size 1080x288 with 2 Axes>"
      ]
     },
     "metadata": {
      "needs_background": "light"
     },
     "output_type": "display_data"
    }
   ],
   "source": [
    "plt.figure(figsize=(15,4))\n",
    "plt.subplot(1,2,1)\n",
    "sns.boxplot(x=red_wine['quality'], y=red_wine['fixed acidity'], palette='Set3')\n",
    "plt.xlabel('Quality')\n",
    "plt.ylabel('Fixed Acidity [g/dm3]')\n",
    "plt.title('Fig.13. Wine Quality vs Fixed Acidity')\n",
    "plt.grid(alpha = 0.3)\n",
    "plt.subplot(1,2,2)\n",
    "sns.boxplot(x=red_wine['quality'], y=red_wine['volatile acidity'], palette='Set3')\n",
    "plt.xlabel('Quality')\n",
    "plt.ylabel('Volatile Acidity [g/dm3]')\n",
    "plt.title('Fig.14. Wine Quality vs Volatile Acidity')\n",
    "plt.grid(alpha = 0.3)\n",
    "plt.show()"
   ]
  },
  {
   "cell_type": "markdown",
   "id": "ce7623aa",
   "metadata": {},
   "source": [
    "- There is no clear dependence between Fixed Acidity (tartaric acid content) and wine taste, however the best wines contain slightly more tartaric acid than others (Fig.13.).\n",
    "- Quality of wine is inversely proportional to the Volatile Acidity (acetic acid content; Fig.14.)."
   ]
  },
  {
   "cell_type": "code",
   "execution_count": 241,
   "id": "c98af609",
   "metadata": {},
   "outputs": [
    {
     "data": {
      "image/png": "[encoded data removed]",
      "text/plain": [
       "<Figure size 1080x360 with 2 Axes>"
      ]
     },
     "metadata": {
      "needs_background": "light"
     },
     "output_type": "display_data"
    }
   ],
   "source": [
    "plt.figure(figsize=(15,5))\n",
    "plt.subplot(1,2,1)\n",
    "sns.boxplot(x=red_wine['quality'], y=red_wine['citric acid'], palette='Set3')\n",
    "plt.xlabel('Quality')\n",
    "plt.ylabel('Citric Acid [g/dm3]')\n",
    "plt.title('Fig.15. Wine Quality vs Citric Acid content')\n",
    "plt.grid(alpha = 0.3)\n",
    "plt.subplot(1,2,2)\n",
    "sns.boxplot(x=red_wine['quality'], y=red_wine['residual sugar'], palette='Set3')\n",
    "plt.xlabel('Quality')\n",
    "plt.ylabel('Residual Sugar [g/dm3]')\n",
    "plt.title('Fig.16. Wine Quality vs Residual Sugar content')\n",
    "plt.grid(alpha = 0.3)\n",
    "plt.show()"
   ]
  },
  {
   "cell_type": "markdown",
   "id": "99877674",
   "metadata": {},
   "source": [
    "- Quality of wine is proportional to the Citric Acid content. The best wines contain over 0.4 g/dm3 of Citric Acid (Fig.15.).\n",
    "- There is no clear dependence between content of Residual Sugar and wine taste, hovewer the best wines (8 points) doesn't have much sugar than 7.0 g/dm3 (Fig.16.)."
   ]
  },
  {
   "cell_type": "code",
   "execution_count": 242,
   "id": "ece34f3b",
   "metadata": {},
   "outputs": [
    {
     "data": {
      "image/png": "[encoded data removed]",
      "text/plain": [
       "<Figure size 1080x360 with 2 Axes>"
      ]
     },
     "metadata": {
      "needs_background": "light"
     },
     "output_type": "display_data"
    }
   ],
   "source": [
    "plt.figure(figsize=(15,5))\n",
    "plt.subplot(1,2,1)\n",
    "sns.boxplot(x=red_wine['quality'], y=red_wine['chlorides'], palette='Set3')\n",
    "plt.xlabel('Quality')\n",
    "plt.ylabel('Chlorides [g/dm3]')\n",
    "plt.grid(alpha = 0.3)\n",
    "plt.title('Fig.17. Wine Quality vs Chlorides content')\n",
    "plt.subplot(1,2,2)\n",
    "sns.boxplot(x=red_wine['quality'], y=red_wine['free sulfur dioxide'], palette='Set3')\n",
    "plt.xlabel('Quality')\n",
    "plt.ylabel('Free Sulfur Dioxide [mg/dm3]')\n",
    "plt.title('Fig.18. Wine Quality vs Free Sulfur Dioxide content')\n",
    "plt.grid(alpha = 0.3)\n",
    "plt.show()"
   ]
  },
  {
   "cell_type": "markdown",
   "id": "fb512dc4",
   "metadata": {},
   "source": [
    "- Quality of wine is slightly inversely proportional to the Chlorides content (Fig.17.).\n",
    "- There is no clear dependence between content of Free Sulfur Dioxide (FSD) and wine taste, hovewer interestingly, the best wines (8 points) and the worse ones (3 points) have the lowest mean FSD values (Fig.18.)."
   ]
  },
  {
   "cell_type": "code",
   "execution_count": 243,
   "id": "5ae52f4b",
   "metadata": {},
   "outputs": [
    {
     "data": {
      "image/png": "[encoded data removed]",
      "text/plain": [
       "<Figure size 1080x360 with 2 Axes>"
      ]
     },
     "metadata": {
      "needs_background": "light"
     },
     "output_type": "display_data"
    }
   ],
   "source": [
    "plt.figure(figsize=(15,5))\n",
    "plt.subplot(1,2,1)\n",
    "sns.boxplot(x=red_wine['quality'], y=red_wine['total sulfur dioxide'], palette='Set3')\n",
    "plt.xlabel('Quality')\n",
    "plt.ylabel('Total Sulfur Dioxide [mg/dm3]')\n",
    "plt.title('Fig.19. Wine Quality vs Total Sulfur Dioxide content')\n",
    "plt.grid(alpha = 0.3)\n",
    "plt.subplot(1,2,2)\n",
    "sns.boxplot(x=red_wine['quality'], y=red_wine['density'], palette='Set3')\n",
    "plt.xlabel('Quality')\n",
    "plt.ylabel('Density [g/dm3]')\n",
    "plt.title('Fig.20. Wine Quality vs Density')\n",
    "plt.grid(alpha = 0.3)\n",
    "\n",
    "plt.show()"
   ]
  },
  {
   "cell_type": "markdown",
   "id": "ea499b56",
   "metadata": {},
   "source": [
    "- As in the case of FSD, there is no clear dependence between content of Total Sulfur Dioxide (TSD) and wine taste. Also in this case the best wines (8 points) and the worse ones (3 points) have the lowest mean TSD values (Fig.19.). There are two outliers.\n",
    "- Quality of wine is inversely proportional to the Density (Fig.20.)."
   ]
  },
  {
   "cell_type": "code",
   "execution_count": 244,
   "id": "93bfa30d",
   "metadata": {},
   "outputs": [
    {
     "data": {
      "image/png": "[encoded data removed]",
      "text/plain": [
       "<Figure size 1080x360 with 2 Axes>"
      ]
     },
     "metadata": {
      "needs_background": "light"
     },
     "output_type": "display_data"
    }
   ],
   "source": [
    "plt.figure(figsize=(15,5))\n",
    "plt.subplot(1,2,1)\n",
    "sns.boxplot(x=red_wine['quality'], y=red_wine['pH'], palette='Set3')\n",
    "plt.xlabel('Quality')\n",
    "plt.ylabel('pH')\n",
    "plt.title('Fig.21. Wine Quality vs pH')\n",
    "plt.grid(alpha = 0.3)\n",
    "plt.subplot(1,2,2)\n",
    "sns.boxplot(x=red_wine['quality'], y=red_wine['sulphates'], palette='Set3')\n",
    "plt.xlabel('Quality')\n",
    "plt.ylabel('Sulphates [g/dm3]')\n",
    "plt.title('Fig.22. Wine Quality vs Sulphates content')\n",
    "plt.grid(alpha = 0.3)\n",
    "plt.show()"
   ]
  },
  {
   "cell_type": "markdown",
   "id": "541e8d9f",
   "metadata": {},
   "source": [
    "- Quality of wine is slightly inversely proportional to pH (Fig.21.).\n",
    "- Quality of wine is proportional to potassium sulphate content (Fig.22.)."
   ]
  },
  {
   "cell_type": "code",
   "execution_count": 245,
   "id": "153d0993",
   "metadata": {},
   "outputs": [
    {
     "data": {
      "image/png": "[encoded data removed]",
      "text/plain": [
       "<Figure size 432x288 with 1 Axes>"
      ]
     },
     "metadata": {
      "needs_background": "light"
     },
     "output_type": "display_data"
    }
   ],
   "source": [
    "sns.boxplot(x=red_wine['quality'], y=red_wine['alcohol'], palette='Set3')\n",
    "plt.xlabel('Quality')\n",
    "plt.ylabel('Alcohol [%vol]')\n",
    "plt.title('Fig.23. Wine Quality vs Alcohol content')\n",
    "plt.grid(alpha = 0.3)\n",
    "plt.show()"
   ]
  },
  {
   "cell_type": "markdown",
   "id": "7bf9e677",
   "metadata": {},
   "source": [
    "- The correlation between Alcohol content and wine quality is not linear. However it is clearly visible (Fig.23.), that the best wines tend to have more alcohol."
   ]
  },
  {
   "cell_type": "markdown",
   "id": "3ff10fda",
   "metadata": {},
   "source": [
    "Correlated features\n",
    "- idea and code based on notebook from Kaggle, author YANA DAV (https://www.kaggle.com/yanadav/eda-preprocessing-linear-regression/notebook#Linear-Regression)"
   ]
  },
  {
   "cell_type": "code",
   "execution_count": 246,
   "id": "6d32ed5d",
   "metadata": {},
   "outputs": [
    {
     "data": {
      "text/plain": [
       "<AxesSubplot:>"
      ]
     },
     "execution_count": 246,
     "metadata": {},
     "output_type": "execute_result"
    },
    {
     "data": {
      "image/png": "[encoded data removed]",
      "text/plain": [
       "<Figure size 720x720 with 2 Axes>"
      ]
     },
     "metadata": {
      "needs_background": "light"
     },
     "output_type": "display_data"
    }
   ],
   "source": [
    "num_corr = red_wine.corr()\n",
    "corr_triu = num_corr.where(np.triu(np.ones(num_corr.shape), k=1).astype(np.bool))\n",
    "\n",
    "plt.figure(figsize=(10,10))\n",
    "sns.heatmap(num_corr,annot=True, square=True, fmt='.2f',\\\n",
    "            annot_kws={'size':9}, mask = np.triu(corr_triu), cmap= \"coolwarm\")\n"
   ]
  },
  {
   "cell_type": "markdown",
   "id": "c760c038",
   "metadata": {},
   "source": [
    "- Variables with correlation to target variable less than 0.1 will be removed.\n",
    "- Variables 'free sulfur dioxide' and 'total sulfur dioxide' are correlated, moreover correlation of variable 'free sulfur dioxide' to target variable is less than 0.1, so this variable will be removed.\n",
    "- Variables 'citric acid' and 'density' are correlated with 'fixed acidity'. Variable 'fixed acidity' will be removed becasue it has the lowest correlation with target.\n",
    "\n",
    "<H3>EDIT</H3>\n",
    "- removal of above mentioned features caused worsening of ML models performance (presumably because there are a few of them), so I will keep them."
   ]
  },
  {
   "cell_type": "code",
   "execution_count": 247,
   "id": "b2691730",
   "metadata": {},
   "outputs": [],
   "source": [
    "#cols_to_drop = ['fixed acidity', 'residual sugar', 'free sulfur dioxide', 'pH']\n",
    "#red_wine.drop(cols_to_drop, axis=1, inplace=True)\n",
    "#red_wine.head()"
   ]
  },
  {
   "cell_type": "markdown",
   "id": "cb8c305d",
   "metadata": {},
   "source": [
    "\n",
    "<H3>Splitting data</H3>\n",
    "\n",
    "- Splitting independent variables and labels into separate datasets - X will be the independent variables datatset and Y will be the target column.\n",
    "\n"
   ]
  },
  {
   "cell_type": "code",
   "execution_count": 248,
   "id": "897f9b1e",
   "metadata": {},
   "outputs": [],
   "source": [
    "X = red_wine.iloc[:, 0:-1]\n",
    "Y = red_wine.iloc[:, -1:]"
   ]
  },
  {
   "cell_type": "code",
   "execution_count": 249,
   "id": "d0423857",
   "metadata": {},
   "outputs": [],
   "source": [
    "X_columns=X.columns"
   ]
  },
  {
   "cell_type": "markdown",
   "id": "8d128a4f",
   "metadata": {},
   "source": [
    "<H3>Standardizing the quantitative variables</H3>\n",
    "- Orders of magnitudes of features are not varying to much (in worst case 3 orders of magnitude) and standardizing caused worsening of ML models performance, so I will not standardize the data."
   ]
  },
  {
   "cell_type": "code",
   "execution_count": 250,
   "id": "680fe893",
   "metadata": {},
   "outputs": [],
   "source": [
    "#from sklearn.preprocessing import StandardScaler\n",
    "#X = StandardScaler().fit_transform(X)\n",
    "\n",
    "#X = pd.DataFrame(data=X, columns=X_columns)\n",
    "#X.head()"
   ]
  },
  {
   "cell_type": "markdown",
   "id": "377302ca",
   "metadata": {},
   "source": [
    "<H3>Target variable imbalance</H3>"
   ]
  },
  {
   "cell_type": "code",
   "execution_count": 251,
   "id": "9f3b7159",
   "metadata": {},
   "outputs": [
    {
     "data": {
      "image/png": "[encoded data removed]",
      "text/plain": [
       "<Figure size 432x288 with 1 Axes>"
      ]
     },
     "metadata": {
      "needs_background": "light"
     },
     "output_type": "display_data"
    }
   ],
   "source": [
    "sns.histplot(data=Y)\n",
    "plt.xlabel('Quality')\n",
    "plt.show()"
   ]
  },
  {
   "cell_type": "markdown",
   "id": "1a590912",
   "metadata": {},
   "source": [
    "A dataset is imbalanced when the classification categories are not approximately equally represented, what is the case of this dataset. In order to overcome this problem, two methods are commonly used: undersampling and oversampling. In case of undersampling some data are randomly removed - because the analyzed dataset is small, this technique won't be used. In case of oversampling, a SMOTE (Synthetic Minority Over-sampling Technique) method can be used; in this method samples from smaller categories are synthetically prepared."
   ]
  },
  {
   "cell_type": "code",
   "execution_count": 252,
   "id": "e8b22970",
   "metadata": {},
   "outputs": [],
   "source": [
    "from imblearn.over_sampling import SMOTE"
   ]
  },
  {
   "cell_type": "code",
   "execution_count": 253,
   "id": "507ea85a",
   "metadata": {},
   "outputs": [],
   "source": [
    "X, Y = SMOTE().fit_resample(X, Y)"
   ]
  },
  {
   "cell_type": "code",
   "execution_count": 254,
   "id": "cb1352b1",
   "metadata": {},
   "outputs": [
    {
     "data": {
      "text/plain": [
       "quality\n",
       "3          681\n",
       "4          681\n",
       "5          681\n",
       "6          681\n",
       "7          681\n",
       "8          681\n",
       "dtype: int64"
      ]
     },
     "execution_count": 254,
     "metadata": {},
     "output_type": "execute_result"
    }
   ],
   "source": [
    "Y.value_counts()"
   ]
  },
  {
   "cell_type": "markdown",
   "id": "13081c1d",
   "metadata": {},
   "source": [
    "<H3>Train/Test Split</H3>"
   ]
  },
  {
   "cell_type": "code",
   "execution_count": 255,
   "id": "4d8d0e2e",
   "metadata": {},
   "outputs": [],
   "source": [
    "from sklearn.model_selection import train_test_split \n",
    "X_train, X_test, Y_train, Y_test = train_test_split(X, Y, test_size=0.25, random_state = 42)\n",
    "\n",
    "#turn in to 1d arrays\n",
    "Y_train = Y_train.to_numpy().ravel()\n",
    "Y_test = Y_test.to_numpy().ravel()"
   ]
  },
  {
   "cell_type": "code",
   "execution_count": 256,
   "id": "80e3f5a7",
   "metadata": {},
   "outputs": [
    {
     "name": "stdout",
     "output_type": "stream",
     "text": [
      "3064 1022\n"
     ]
    }
   ],
   "source": [
    "print(len(Y_train),len(Y_test))"
   ]
  },
  {
   "cell_type": "markdown",
   "id": "0b3e3700",
   "metadata": {},
   "source": [
    "<H3>Linear regression</H3>"
   ]
  },
  {
   "cell_type": "code",
   "execution_count": 257,
   "id": "b58c97d4",
   "metadata": {},
   "outputs": [],
   "source": [
    "from sklearn.linear_model import LinearRegression\n",
    "LR_model=LinearRegression()\n",
    "LR_model.fit(X_train, Y_train)\n",
    "y_pred=LR_model.predict(X_test)"
   ]
  },
  {
   "cell_type": "code",
   "execution_count": 258,
   "id": "6bbc8d59",
   "metadata": {},
   "outputs": [
    {
     "name": "stdout",
     "output_type": "stream",
     "text": [
      "Training set score: 0.746\n"
     ]
    }
   ],
   "source": [
    "print('Training set score: %.3f' % LR_model.score(X_train,Y_train))"
   ]
  },
  {
   "cell_type": "code",
   "execution_count": 259,
   "id": "f80fdc40",
   "metadata": {},
   "outputs": [
    {
     "name": "stdout",
     "output_type": "stream",
     "text": [
      "Test set score: 0.707\n"
     ]
    }
   ],
   "source": [
    "print('Test set score: %.3f' % LR_model.score(X_test,Y_test))"
   ]
  },
  {
   "cell_type": "markdown",
   "id": "f8917f8a",
   "metadata": {},
   "source": [
    "<H3> Multinomial logistic regression</H3>"
   ]
  },
  {
   "cell_type": "code",
   "execution_count": 260,
   "id": "8efcb143",
   "metadata": {},
   "outputs": [],
   "source": [
    "from sklearn.linear_model import LogisticRegression"
   ]
  },
  {
   "cell_type": "code",
   "execution_count": 261,
   "id": "ddd9460f",
   "metadata": {},
   "outputs": [
    {
     "data": {
      "text/plain": [
       "LogisticRegression(max_iter=7000, multi_class='multinomial')"
      ]
     },
     "execution_count": 261,
     "metadata": {},
     "output_type": "execute_result"
    }
   ],
   "source": [
    "lr_model = LogisticRegression(multi_class=\"multinomial\", max_iter=7000)\n",
    "lr_model.fit(X_train, Y_train)"
   ]
  },
  {
   "cell_type": "code",
   "execution_count": 262,
   "id": "b6dd21c5",
   "metadata": {},
   "outputs": [],
   "source": [
    "lr_predictions = lr_model.predict(X_train)"
   ]
  },
  {
   "cell_type": "code",
   "execution_count": 263,
   "id": "79aebc9f",
   "metadata": {},
   "outputs": [
    {
     "name": "stdout",
     "output_type": "stream",
     "text": [
      "              precision    recall  f1-score   support\n",
      "\n",
      "           3       0.77      0.94      0.85       516\n",
      "           4       0.57      0.51      0.54       516\n",
      "           5       0.53      0.51      0.52       496\n",
      "           6       0.40      0.30      0.34       488\n",
      "           7       0.46      0.47      0.46       534\n",
      "           8       0.62      0.72      0.67       514\n",
      "\n",
      "    accuracy                           0.58      3064\n",
      "   macro avg       0.56      0.57      0.56      3064\n",
      "weighted avg       0.56      0.58      0.56      3064\n",
      "\n"
     ]
    }
   ],
   "source": [
    "from sklearn.metrics import classification_report\n",
    "print(classification_report(Y_train, lr_predictions))"
   ]
  },
  {
   "cell_type": "code",
   "execution_count": 264,
   "id": "b01aaf3e",
   "metadata": {},
   "outputs": [
    {
     "name": "stdout",
     "output_type": "stream",
     "text": [
      "              precision    recall  f1-score   support\n",
      "\n",
      "           3       0.70      0.92      0.79       165\n",
      "           4       0.49      0.46      0.48       165\n",
      "           5       0.54      0.56      0.55       185\n",
      "           6       0.47      0.24      0.32       193\n",
      "           7       0.41      0.52      0.46       147\n",
      "           8       0.61      0.65      0.63       167\n",
      "\n",
      "    accuracy                           0.55      1022\n",
      "   macro avg       0.54      0.56      0.54      1022\n",
      "weighted avg       0.54      0.55      0.53      1022\n",
      "\n"
     ]
    }
   ],
   "source": [
    "lr_pred = lr_model.predict(X_test)\n",
    "print(classification_report(Y_test, lr_pred))"
   ]
  },
  {
   "cell_type": "code",
   "execution_count": 265,
   "id": "bb725839",
   "metadata": {},
   "outputs": [
    {
     "name": "stdout",
     "output_type": "stream",
     "text": [
      "Logistic Regression accuracy is: 54.89%\n"
     ]
    }
   ],
   "source": [
    "from sklearn.metrics import accuracy_score\n",
    "LRAcc = accuracy_score(lr_pred,Y_test)\n",
    "print('Logistic Regression accuracy is: {:.2f}%'.format(LRAcc*100))"
   ]
  },
  {
   "cell_type": "markdown",
   "id": "33c77ec9",
   "metadata": {},
   "source": [
    "<H3> Decision tree </H3>"
   ]
  },
  {
   "cell_type": "code",
   "execution_count": 266,
   "id": "66219111",
   "metadata": {},
   "outputs": [
    {
     "data": {
      "text/plain": [
       "DecisionTreeClassifier(max_depth=10, random_state=42)"
      ]
     },
     "execution_count": 266,
     "metadata": {},
     "output_type": "execute_result"
    }
   ],
   "source": [
    "from sklearn.tree import DecisionTreeClassifier\n",
    "tree_model = DecisionTreeClassifier(random_state = 42, max_depth=10)\n",
    "tree_model.fit(X_train,Y_train)"
   ]
  },
  {
   "cell_type": "code",
   "execution_count": 267,
   "id": "cda6fe1e",
   "metadata": {},
   "outputs": [],
   "source": [
    "predictions = tree_model.predict(X_test)"
   ]
  },
  {
   "cell_type": "code",
   "execution_count": 268,
   "id": "6d649eeb",
   "metadata": {},
   "outputs": [
    {
     "name": "stdout",
     "output_type": "stream",
     "text": [
      "              precision    recall  f1-score   support\n",
      "\n",
      "           3       0.91      0.99      0.95       165\n",
      "           4       0.79      0.81      0.80       165\n",
      "           5       0.68      0.53      0.60       185\n",
      "           6       0.56      0.53      0.54       193\n",
      "           7       0.70      0.78      0.74       147\n",
      "           8       0.91      0.99      0.95       167\n",
      "\n",
      "    accuracy                           0.76      1022\n",
      "   macro avg       0.76      0.77      0.76      1022\n",
      "weighted avg       0.75      0.76      0.75      1022\n",
      "\n"
     ]
    }
   ],
   "source": [
    "print(classification_report(Y_test, predictions))"
   ]
  },
  {
   "cell_type": "code",
   "execution_count": 269,
   "id": "b3f6d2e5",
   "metadata": {},
   "outputs": [
    {
     "name": "stdout",
     "output_type": "stream",
     "text": [
      "Decision tree model accuracy is: 76.03%\n"
     ]
    }
   ],
   "source": [
    "TreeAcc = accuracy_score(predictions,Y_test)\n",
    "print('Decision tree model accuracy is: {:.2f}%'.format(TreeAcc*100))"
   ]
  },
  {
   "cell_type": "code",
   "execution_count": 270,
   "id": "dd95acb3",
   "metadata": {},
   "outputs": [],
   "source": [
    "#from sklearn import tree\n",
    "\n",
    "#fig = plt.figure(figsize=(25,20))\n",
    "#_ = tree.plot_tree(tree_model, \n",
    "#                   feature_names=X.columns,  \n",
    "#                   class_names=['3', '4', '5', '6', '7','8'],\n",
    "#                   filled=True)\n",
    "\n"
   ]
  },
  {
   "cell_type": "markdown",
   "id": "479ea370",
   "metadata": {},
   "source": [
    "<H3> Random forest</H3>"
   ]
  },
  {
   "cell_type": "code",
   "execution_count": 271,
   "id": "92d7665a",
   "metadata": {},
   "outputs": [],
   "source": [
    "from sklearn.ensemble import RandomForestClassifier"
   ]
  },
  {
   "cell_type": "code",
   "execution_count": 272,
   "id": "2b7189b7",
   "metadata": {},
   "outputs": [],
   "source": [
    "forest=RandomForestClassifier(n_estimators=100, random_state=42)\n",
    "forest.fit(X_train,Y_train)\n",
    "forest_pred=forest.predict(X_test)"
   ]
  },
  {
   "cell_type": "code",
   "execution_count": 273,
   "id": "5fa90f8c",
   "metadata": {},
   "outputs": [
    {
     "name": "stdout",
     "output_type": "stream",
     "text": [
      "              precision    recall  f1-score   support\n",
      "\n",
      "           3       0.95      1.00      0.97       165\n",
      "           4       0.86      0.95      0.90       165\n",
      "           5       0.72      0.74      0.73       185\n",
      "           6       0.73      0.50      0.59       193\n",
      "           7       0.80      0.93      0.86       147\n",
      "           8       0.96      1.00      0.98       167\n",
      "\n",
      "    accuracy                           0.84      1022\n",
      "   macro avg       0.84      0.85      0.84      1022\n",
      "weighted avg       0.83      0.84      0.83      1022\n",
      "\n"
     ]
    }
   ],
   "source": [
    "print(classification_report(Y_test, forest_pred))"
   ]
  },
  {
   "cell_type": "code",
   "execution_count": 274,
   "id": "5e60e046",
   "metadata": {},
   "outputs": [
    {
     "name": "stdout",
     "output_type": "stream",
     "text": [
      "Random forest model accuracy is: 83.86%\n"
     ]
    }
   ],
   "source": [
    "ForestAcc = accuracy_score(forest_pred,Y_test)\n",
    "print('Random forest model accuracy is: {:.2f}%'.format(ForestAcc*100))"
   ]
  },
  {
   "cell_type": "markdown",
   "id": "373eac1f",
   "metadata": {},
   "source": [
    "<H3>Categorizing target value</H3>\n",
    "\n",
    "- There is a possibillity, that reducing the number of target categories will improve classification models performance, as differences between less number of categories may be more distinct and easier to capture.\n",
    "- Current 6 categories will be changed into following three groups: \"poor\" (3 and 4 points), \"average\" (5 and 6 points) and \"good\" (7 and 8 points). "
   ]
  },
  {
   "cell_type": "code",
   "execution_count": 275,
   "id": "9cd4891e",
   "metadata": {},
   "outputs": [
    {
     "data": {
      "text/html": [
       "<div>\n",
       "<style scoped>\n",
       "    .dataframe tbody tr th:only-of-type {\n",
       "        vertical-align: middle;\n",
       "    }\n",
       "\n",
       "    .dataframe tbody tr th {\n",
       "        vertical-align: top;\n",
       "    }\n",
       "\n",
       "    .dataframe thead th {\n",
       "        text-align: right;\n",
       "    }\n",
       "</style>\n",
       "<table border=\"1\" class=\"dataframe\">\n",
       "  <thead>\n",
       "    <tr style=\"text-align: right;\">\n",
       "      <th></th>\n",
       "      <th>fixed acidity</th>\n",
       "      <th>volatile acidity</th>\n",
       "      <th>citric acid</th>\n",
       "      <th>residual sugar</th>\n",
       "      <th>chlorides</th>\n",
       "      <th>free sulfur dioxide</th>\n",
       "      <th>total sulfur dioxide</th>\n",
       "      <th>density</th>\n",
       "      <th>pH</th>\n",
       "      <th>sulphates</th>\n",
       "      <th>alcohol</th>\n",
       "      <th>quality</th>\n",
       "    </tr>\n",
       "  </thead>\n",
       "  <tbody>\n",
       "    <tr>\n",
       "      <th>0</th>\n",
       "      <td>7.4</td>\n",
       "      <td>0.70</td>\n",
       "      <td>0.00</td>\n",
       "      <td>1.9</td>\n",
       "      <td>0.076</td>\n",
       "      <td>11.0</td>\n",
       "      <td>34.0</td>\n",
       "      <td>0.9978</td>\n",
       "      <td>3.51</td>\n",
       "      <td>0.56</td>\n",
       "      <td>9.4</td>\n",
       "      <td>5</td>\n",
       "    </tr>\n",
       "    <tr>\n",
       "      <th>1</th>\n",
       "      <td>7.8</td>\n",
       "      <td>0.88</td>\n",
       "      <td>0.00</td>\n",
       "      <td>2.6</td>\n",
       "      <td>0.098</td>\n",
       "      <td>25.0</td>\n",
       "      <td>67.0</td>\n",
       "      <td>0.9968</td>\n",
       "      <td>3.20</td>\n",
       "      <td>0.68</td>\n",
       "      <td>9.8</td>\n",
       "      <td>5</td>\n",
       "    </tr>\n",
       "    <tr>\n",
       "      <th>2</th>\n",
       "      <td>7.8</td>\n",
       "      <td>0.76</td>\n",
       "      <td>0.04</td>\n",
       "      <td>2.3</td>\n",
       "      <td>0.092</td>\n",
       "      <td>15.0</td>\n",
       "      <td>54.0</td>\n",
       "      <td>0.9970</td>\n",
       "      <td>3.26</td>\n",
       "      <td>0.65</td>\n",
       "      <td>9.8</td>\n",
       "      <td>5</td>\n",
       "    </tr>\n",
       "    <tr>\n",
       "      <th>3</th>\n",
       "      <td>11.2</td>\n",
       "      <td>0.28</td>\n",
       "      <td>0.56</td>\n",
       "      <td>1.9</td>\n",
       "      <td>0.075</td>\n",
       "      <td>17.0</td>\n",
       "      <td>60.0</td>\n",
       "      <td>0.9980</td>\n",
       "      <td>3.16</td>\n",
       "      <td>0.58</td>\n",
       "      <td>9.8</td>\n",
       "      <td>6</td>\n",
       "    </tr>\n",
       "    <tr>\n",
       "      <th>4</th>\n",
       "      <td>7.4</td>\n",
       "      <td>0.70</td>\n",
       "      <td>0.00</td>\n",
       "      <td>1.9</td>\n",
       "      <td>0.076</td>\n",
       "      <td>11.0</td>\n",
       "      <td>34.0</td>\n",
       "      <td>0.9978</td>\n",
       "      <td>3.51</td>\n",
       "      <td>0.56</td>\n",
       "      <td>9.4</td>\n",
       "      <td>5</td>\n",
       "    </tr>\n",
       "  </tbody>\n",
       "</table>\n",
       "</div>"
      ],
      "text/plain": [
       "   fixed acidity  volatile acidity  citric acid  residual sugar  chlorides  \\\n",
       "0            7.4              0.70         0.00             1.9      0.076   \n",
       "1            7.8              0.88         0.00             2.6      0.098   \n",
       "2            7.8              0.76         0.04             2.3      0.092   \n",
       "3           11.2              0.28         0.56             1.9      0.075   \n",
       "4            7.4              0.70         0.00             1.9      0.076   \n",
       "\n",
       "   free sulfur dioxide  total sulfur dioxide  density    pH  sulphates  \\\n",
       "0                 11.0                  34.0   0.9978  3.51       0.56   \n",
       "1                 25.0                  67.0   0.9968  3.20       0.68   \n",
       "2                 15.0                  54.0   0.9970  3.26       0.65   \n",
       "3                 17.0                  60.0   0.9980  3.16       0.58   \n",
       "4                 11.0                  34.0   0.9978  3.51       0.56   \n",
       "\n",
       "   alcohol  quality  \n",
       "0      9.4        5  \n",
       "1      9.8        5  \n",
       "2      9.8        5  \n",
       "3      9.8        6  \n",
       "4      9.4        5  "
      ]
     },
     "execution_count": 275,
     "metadata": {},
     "output_type": "execute_result"
    }
   ],
   "source": [
    "red_wine.head()"
   ]
  },
  {
   "cell_type": "code",
   "execution_count": 276,
   "id": "e39f43ba",
   "metadata": {},
   "outputs": [
    {
     "data": {
      "text/plain": [
       "(1599, 12)"
      ]
     },
     "execution_count": 276,
     "metadata": {},
     "output_type": "execute_result"
    }
   ],
   "source": [
    "red_wine.shape"
   ]
  },
  {
   "cell_type": "code",
   "execution_count": 277,
   "id": "fb9ba9c1",
   "metadata": {},
   "outputs": [
    {
     "data": {
      "text/plain": [
       "5    681\n",
       "6    638\n",
       "7    199\n",
       "4     53\n",
       "8     18\n",
       "3     10\n",
       "Name: quality, dtype: int64"
      ]
     },
     "execution_count": 277,
     "metadata": {},
     "output_type": "execute_result"
    }
   ],
   "source": [
    "red_wine['quality'].value_counts()"
   ]
  },
  {
   "cell_type": "code",
   "execution_count": 278,
   "id": "b63b66a1",
   "metadata": {},
   "outputs": [],
   "source": [
    "red_wine['quality'].replace({3: 'Poor', 4: 'Poor', 5:'Average',6:'Average',7:'Good',8:'Good'}, inplace=True)"
   ]
  },
  {
   "cell_type": "code",
   "execution_count": 279,
   "id": "7fa8dce3",
   "metadata": {},
   "outputs": [
    {
     "data": {
      "text/html": [
       "<div>\n",
       "<style scoped>\n",
       "    .dataframe tbody tr th:only-of-type {\n",
       "        vertical-align: middle;\n",
       "    }\n",
       "\n",
       "    .dataframe tbody tr th {\n",
       "        vertical-align: top;\n",
       "    }\n",
       "\n",
       "    .dataframe thead th {\n",
       "        text-align: right;\n",
       "    }\n",
       "</style>\n",
       "<table border=\"1\" class=\"dataframe\">\n",
       "  <thead>\n",
       "    <tr style=\"text-align: right;\">\n",
       "      <th></th>\n",
       "      <th>fixed acidity</th>\n",
       "      <th>volatile acidity</th>\n",
       "      <th>citric acid</th>\n",
       "      <th>residual sugar</th>\n",
       "      <th>chlorides</th>\n",
       "      <th>free sulfur dioxide</th>\n",
       "      <th>total sulfur dioxide</th>\n",
       "      <th>density</th>\n",
       "      <th>pH</th>\n",
       "      <th>sulphates</th>\n",
       "      <th>alcohol</th>\n",
       "      <th>quality</th>\n",
       "    </tr>\n",
       "  </thead>\n",
       "  <tbody>\n",
       "    <tr>\n",
       "      <th>0</th>\n",
       "      <td>7.4</td>\n",
       "      <td>0.70</td>\n",
       "      <td>0.00</td>\n",
       "      <td>1.9</td>\n",
       "      <td>0.076</td>\n",
       "      <td>11.0</td>\n",
       "      <td>34.0</td>\n",
       "      <td>0.9978</td>\n",
       "      <td>3.51</td>\n",
       "      <td>0.56</td>\n",
       "      <td>9.4</td>\n",
       "      <td>Average</td>\n",
       "    </tr>\n",
       "    <tr>\n",
       "      <th>1</th>\n",
       "      <td>7.8</td>\n",
       "      <td>0.88</td>\n",
       "      <td>0.00</td>\n",
       "      <td>2.6</td>\n",
       "      <td>0.098</td>\n",
       "      <td>25.0</td>\n",
       "      <td>67.0</td>\n",
       "      <td>0.9968</td>\n",
       "      <td>3.20</td>\n",
       "      <td>0.68</td>\n",
       "      <td>9.8</td>\n",
       "      <td>Average</td>\n",
       "    </tr>\n",
       "    <tr>\n",
       "      <th>2</th>\n",
       "      <td>7.8</td>\n",
       "      <td>0.76</td>\n",
       "      <td>0.04</td>\n",
       "      <td>2.3</td>\n",
       "      <td>0.092</td>\n",
       "      <td>15.0</td>\n",
       "      <td>54.0</td>\n",
       "      <td>0.9970</td>\n",
       "      <td>3.26</td>\n",
       "      <td>0.65</td>\n",
       "      <td>9.8</td>\n",
       "      <td>Average</td>\n",
       "    </tr>\n",
       "    <tr>\n",
       "      <th>3</th>\n",
       "      <td>11.2</td>\n",
       "      <td>0.28</td>\n",
       "      <td>0.56</td>\n",
       "      <td>1.9</td>\n",
       "      <td>0.075</td>\n",
       "      <td>17.0</td>\n",
       "      <td>60.0</td>\n",
       "      <td>0.9980</td>\n",
       "      <td>3.16</td>\n",
       "      <td>0.58</td>\n",
       "      <td>9.8</td>\n",
       "      <td>Average</td>\n",
       "    </tr>\n",
       "    <tr>\n",
       "      <th>4</th>\n",
       "      <td>7.4</td>\n",
       "      <td>0.70</td>\n",
       "      <td>0.00</td>\n",
       "      <td>1.9</td>\n",
       "      <td>0.076</td>\n",
       "      <td>11.0</td>\n",
       "      <td>34.0</td>\n",
       "      <td>0.9978</td>\n",
       "      <td>3.51</td>\n",
       "      <td>0.56</td>\n",
       "      <td>9.4</td>\n",
       "      <td>Average</td>\n",
       "    </tr>\n",
       "  </tbody>\n",
       "</table>\n",
       "</div>"
      ],
      "text/plain": [
       "   fixed acidity  volatile acidity  citric acid  residual sugar  chlorides  \\\n",
       "0            7.4              0.70         0.00             1.9      0.076   \n",
       "1            7.8              0.88         0.00             2.6      0.098   \n",
       "2            7.8              0.76         0.04             2.3      0.092   \n",
       "3           11.2              0.28         0.56             1.9      0.075   \n",
       "4            7.4              0.70         0.00             1.9      0.076   \n",
       "\n",
       "   free sulfur dioxide  total sulfur dioxide  density    pH  sulphates  \\\n",
       "0                 11.0                  34.0   0.9978  3.51       0.56   \n",
       "1                 25.0                  67.0   0.9968  3.20       0.68   \n",
       "2                 15.0                  54.0   0.9970  3.26       0.65   \n",
       "3                 17.0                  60.0   0.9980  3.16       0.58   \n",
       "4                 11.0                  34.0   0.9978  3.51       0.56   \n",
       "\n",
       "   alcohol  quality  \n",
       "0      9.4  Average  \n",
       "1      9.8  Average  \n",
       "2      9.8  Average  \n",
       "3      9.8  Average  \n",
       "4      9.4  Average  "
      ]
     },
     "execution_count": 279,
     "metadata": {},
     "output_type": "execute_result"
    }
   ],
   "source": [
    "red_wine.head()"
   ]
  },
  {
   "cell_type": "code",
   "execution_count": 280,
   "id": "072d59a9",
   "metadata": {},
   "outputs": [],
   "source": [
    "X_cat = red_wine.iloc[:, 0:-1]\n",
    "Y_cat = red_wine.iloc[:, -1:]"
   ]
  },
  {
   "cell_type": "markdown",
   "id": "b66bdc6e",
   "metadata": {},
   "source": [
    "<H3>Balancing new dataset</H3>"
   ]
  },
  {
   "cell_type": "code",
   "execution_count": 281,
   "id": "310fb927",
   "metadata": {},
   "outputs": [],
   "source": [
    "X_cat, Y_cat = SMOTE().fit_resample(X_cat, Y_cat)"
   ]
  },
  {
   "cell_type": "code",
   "execution_count": 282,
   "id": "092e5f9b",
   "metadata": {},
   "outputs": [
    {
     "data": {
      "text/plain": [
       "quality\n",
       "Average    1319\n",
       "Good       1319\n",
       "Poor       1319\n",
       "dtype: int64"
      ]
     },
     "execution_count": 282,
     "metadata": {},
     "output_type": "execute_result"
    }
   ],
   "source": [
    "Y_cat.value_counts()"
   ]
  },
  {
   "cell_type": "markdown",
   "id": "bccd6888",
   "metadata": {},
   "source": [
    "<H3>Train/Test Splitting</H3>"
   ]
  },
  {
   "cell_type": "code",
   "execution_count": 283,
   "id": "373632cc",
   "metadata": {},
   "outputs": [],
   "source": [
    "x_train, x_test, y_train, y_test = train_test_split(X_cat, Y_cat, test_size=0.25, random_state = 42)\n",
    "\n",
    "#turn in to 1d arrays\n",
    "y_train = y_train.to_numpy().ravel()\n",
    "y_test = y_test.to_numpy().ravel()"
   ]
  },
  {
   "cell_type": "markdown",
   "id": "97e62570",
   "metadata": {},
   "source": [
    "<H3> Multinomial logistic regression</H3>"
   ]
  },
  {
   "cell_type": "code",
   "execution_count": 284,
   "id": "82a660ef",
   "metadata": {},
   "outputs": [
    {
     "data": {
      "text/plain": [
       "LogisticRegression(max_iter=5000, multi_class='multinomial')"
      ]
     },
     "execution_count": 284,
     "metadata": {},
     "output_type": "execute_result"
    }
   ],
   "source": [
    "cat_lr_model = LogisticRegression(multi_class=\"multinomial\", max_iter=5000)\n",
    "cat_lr_model.fit(x_train, y_train)"
   ]
  },
  {
   "cell_type": "code",
   "execution_count": 285,
   "id": "e509c22e",
   "metadata": {},
   "outputs": [],
   "source": [
    "cat_lr_predictions = cat_lr_model.predict(x_train)"
   ]
  },
  {
   "cell_type": "code",
   "execution_count": 286,
   "id": "dc799c33",
   "metadata": {},
   "outputs": [
    {
     "name": "stdout",
     "output_type": "stream",
     "text": [
      "              precision    recall  f1-score   support\n",
      "\n",
      "     Average       0.61      0.52      0.56       959\n",
      "        Good       0.78      0.85      0.81       997\n",
      "        Poor       0.74      0.77      0.76      1011\n",
      "\n",
      "    accuracy                           0.72      2967\n",
      "   macro avg       0.71      0.71      0.71      2967\n",
      "weighted avg       0.71      0.72      0.71      2967\n",
      "\n"
     ]
    }
   ],
   "source": [
    "print(classification_report(y_train, cat_lr_predictions))"
   ]
  },
  {
   "cell_type": "code",
   "execution_count": 287,
   "id": "67426969",
   "metadata": {},
   "outputs": [
    {
     "name": "stdout",
     "output_type": "stream",
     "text": [
      "              precision    recall  f1-score   support\n",
      "\n",
      "     Average       0.65      0.51      0.57       360\n",
      "        Good       0.80      0.88      0.84       322\n",
      "        Poor       0.65      0.74      0.69       308\n",
      "\n",
      "    accuracy                           0.70       990\n",
      "   macro avg       0.70      0.71      0.70       990\n",
      "weighted avg       0.70      0.70      0.70       990\n",
      "\n"
     ]
    }
   ],
   "source": [
    "cat_lr_pred = cat_lr_model.predict(x_test)\n",
    "print(classification_report(y_test, cat_lr_pred))"
   ]
  },
  {
   "cell_type": "code",
   "execution_count": 288,
   "id": "66d2695c",
   "metadata": {},
   "outputs": [
    {
     "name": "stdout",
     "output_type": "stream",
     "text": [
      "Logistic Regression accuracy is: 70.30%\n"
     ]
    }
   ],
   "source": [
    "LRAcc = accuracy_score(cat_lr_pred,y_test)\n",
    "print('Logistic Regression accuracy is: {:.2f}%'.format(LRAcc*100))"
   ]
  },
  {
   "cell_type": "markdown",
   "id": "0c33b975",
   "metadata": {},
   "source": [
    "<H3>Decision tree</H3>"
   ]
  },
  {
   "cell_type": "code",
   "execution_count": 289,
   "id": "86464dc2",
   "metadata": {},
   "outputs": [
    {
     "data": {
      "text/plain": [
       "DecisionTreeClassifier(max_depth=12, random_state=42)"
      ]
     },
     "execution_count": 289,
     "metadata": {},
     "output_type": "execute_result"
    }
   ],
   "source": [
    "cat_tree_model = DecisionTreeClassifier(random_state = 42, max_depth=12)\n",
    "cat_tree_model.fit(x_train,y_train)"
   ]
  },
  {
   "cell_type": "code",
   "execution_count": 290,
   "id": "56fcb92d",
   "metadata": {},
   "outputs": [],
   "source": [
    "predictions = cat_tree_model.predict(x_test)"
   ]
  },
  {
   "cell_type": "code",
   "execution_count": 291,
   "id": "e231e19a",
   "metadata": {},
   "outputs": [
    {
     "name": "stdout",
     "output_type": "stream",
     "text": [
      "              precision    recall  f1-score   support\n",
      "\n",
      "     Average       0.90      0.74      0.81       360\n",
      "        Good       0.86      0.94      0.90       322\n",
      "        Poor       0.86      0.96      0.90       308\n",
      "\n",
      "    accuracy                           0.87       990\n",
      "   macro avg       0.87      0.88      0.87       990\n",
      "weighted avg       0.87      0.87      0.87       990\n",
      "\n"
     ]
    }
   ],
   "source": [
    "print(classification_report(y_test, predictions))"
   ]
  },
  {
   "cell_type": "code",
   "execution_count": 292,
   "id": "386eed5b",
   "metadata": {},
   "outputs": [
    {
     "name": "stdout",
     "output_type": "stream",
     "text": [
      "Decision tree model accuracy is: 87.07%\n"
     ]
    }
   ],
   "source": [
    "TreeAcc = accuracy_score(predictions,y_test)\n",
    "print('Decision tree model accuracy is: {:.2f}%'.format(TreeAcc*100))"
   ]
  },
  {
   "cell_type": "code",
   "execution_count": 293,
   "id": "6a1ce0b7",
   "metadata": {},
   "outputs": [],
   "source": [
    "#fig = plt.figure(figsize=(25,20))\n",
    "#_ = tree.plot_tree(cat_tree_model, \n",
    "#                   feature_names=X_cat.columns,  \n",
    "#                   class_names=['Poor', 'Average', 'Good'],\n",
    "#                   filled=True)"
   ]
  },
  {
   "cell_type": "markdown",
   "id": "7e36c50b",
   "metadata": {},
   "source": [
    "<H3> Random forest </H3>"
   ]
  },
  {
   "cell_type": "code",
   "execution_count": 294,
   "id": "495bf60d",
   "metadata": {},
   "outputs": [],
   "source": [
    "cat_forest=RandomForestClassifier(n_estimators=100, random_state=42)\n",
    "cat_forest.fit(x_train,y_train)\n",
    "cat_forest_pred=cat_forest.predict(x_test)"
   ]
  },
  {
   "cell_type": "code",
   "execution_count": 295,
   "id": "eb69b196",
   "metadata": {},
   "outputs": [
    {
     "name": "stdout",
     "output_type": "stream",
     "text": [
      "              precision    recall  f1-score   support\n",
      "\n",
      "     Average       0.94      0.86      0.90       360\n",
      "        Good       0.92      0.97      0.94       322\n",
      "        Poor       0.92      0.98      0.95       308\n",
      "\n",
      "    accuracy                           0.93       990\n",
      "   macro avg       0.93      0.93      0.93       990\n",
      "weighted avg       0.93      0.93      0.93       990\n",
      "\n"
     ]
    }
   ],
   "source": [
    "print(classification_report(y_test, cat_forest_pred))"
   ]
  },
  {
   "cell_type": "code",
   "execution_count": 296,
   "id": "61fdf07e",
   "metadata": {},
   "outputs": [
    {
     "name": "stdout",
     "output_type": "stream",
     "text": [
      "Random forest model accuracy is: 92.93%\n"
     ]
    }
   ],
   "source": [
    "ForestAcc = accuracy_score(cat_forest_pred,y_test)\n",
    "print('Random forest model accuracy is: {:.2f}%'.format(ForestAcc*100))"
   ]
  },
  {
   "cell_type": "markdown",
   "id": "e3477a42",
   "metadata": {},
   "source": [
    "Reducing the number of categores resulted in improvement of classification models:\n",
    "- In the case of Multinomial Logistic Regression accuracy score increased from 55% to 70%.\n",
    "- Accuracy of Decision Tree model increased from 76% to 87%.\n",
    "- Accuracy of Random Forest model increased from 84% to 93%."
   ]
  },
  {
   "cell_type": "markdown",
   "id": "2ff482ce",
   "metadata": {},
   "source": [
    "<H3>Permutation importance</H3>\n",
    "\n",
    "In order to find the most important features determining quality of wine (for a given ML model) I will use method called permutation importance. In this method, for a fitted model, data in one of features are randomely shuffled. We are observing how this operation changes the performace of our model, which suffers the most if we shuffle a column that the model relied on heavily for predictions. Operation is repeated for all features and we are choosing the most important ones.\n",
    "\n",
    "[Description based on Kaggle tutorial: https://www.kaggle.com/dansbecker/permutation-importance]"
   ]
  },
  {
   "cell_type": "markdown",
   "id": "f1e4c6ce",
   "metadata": {},
   "source": [
    "<H4>Decision tree</H4>"
   ]
  },
  {
   "cell_type": "code",
   "execution_count": 297,
   "id": "a5c6c6d8",
   "metadata": {},
   "outputs": [
    {
     "data": {
      "text/html": [
       "\n",
       "    <style>\n",
       "    table.eli5-weights tr:hover {\n",
       "        filter: brightness(85%);\n",
       "    }\n",
       "</style>\n",
       "\n",
       "\n",
       "\n",
       "    \n",
       "\n",
       "    \n",
       "\n",
       "    \n",
       "\n",
       "    \n",
       "\n",
       "    \n",
       "\n",
       "    \n",
       "\n",
       "\n",
       "    \n",
       "\n",
       "    \n",
       "\n",
       "    \n",
       "\n",
       "    \n",
       "\n",
       "    \n",
       "\n",
       "    \n",
       "\n",
       "\n",
       "    \n",
       "\n",
       "    \n",
       "\n",
       "    \n",
       "\n",
       "    \n",
       "\n",
       "    \n",
       "        <table class=\"eli5-weights eli5-feature-importances\" style=\"border-collapse: collapse; border: none; margin-top: 0em; table-layout: auto;\">\n",
       "    <thead>\n",
       "    <tr style=\"border: none;\">\n",
       "        <th style=\"padding: 0 1em 0 0.5em; text-align: right; border: none;\">Weight</th>\n",
       "        <th style=\"padding: 0 0.5em 0 0.5em; text-align: left; border: none;\">Feature</th>\n",
       "    </tr>\n",
       "    </thead>\n",
       "    <tbody>\n",
       "    \n",
       "        <tr style=\"background-color: hsl(120, 100.00%, 80.00%); border: none;\">\n",
       "            <td style=\"padding: 0 1em 0 0.5em; text-align: right; border: none;\">\n",
       "                0.2295\n",
       "                \n",
       "                    &plusmn; 0.0225\n",
       "                \n",
       "            </td>\n",
       "            <td style=\"padding: 0 0.5em 0 0.5em; text-align: left; border: none;\">\n",
       "                alcohol\n",
       "            </td>\n",
       "        </tr>\n",
       "    \n",
       "        <tr style=\"background-color: hsl(120, 100.00%, 81.40%); border: none;\">\n",
       "            <td style=\"padding: 0 1em 0 0.5em; text-align: right; border: none;\">\n",
       "                0.2069\n",
       "                \n",
       "                    &plusmn; 0.0304\n",
       "                \n",
       "            </td>\n",
       "            <td style=\"padding: 0 0.5em 0 0.5em; text-align: left; border: none;\">\n",
       "                sulphates\n",
       "            </td>\n",
       "        </tr>\n",
       "    \n",
       "        <tr style=\"background-color: hsl(120, 100.00%, 82.41%); border: none;\">\n",
       "            <td style=\"padding: 0 1em 0 0.5em; text-align: right; border: none;\">\n",
       "                0.1911\n",
       "                \n",
       "                    &plusmn; 0.0176\n",
       "                \n",
       "            </td>\n",
       "            <td style=\"padding: 0 0.5em 0 0.5em; text-align: left; border: none;\">\n",
       "                volatile acidity\n",
       "            </td>\n",
       "        </tr>\n",
       "    \n",
       "        <tr style=\"background-color: hsl(120, 100.00%, 86.43%); border: none;\">\n",
       "            <td style=\"padding: 0 1em 0 0.5em; text-align: right; border: none;\">\n",
       "                0.1319\n",
       "                \n",
       "                    &plusmn; 0.0094\n",
       "                \n",
       "            </td>\n",
       "            <td style=\"padding: 0 0.5em 0 0.5em; text-align: left; border: none;\">\n",
       "                total sulfur dioxide\n",
       "            </td>\n",
       "        </tr>\n",
       "    \n",
       "        <tr style=\"background-color: hsl(120, 100.00%, 89.19%); border: none;\">\n",
       "            <td style=\"padding: 0 1em 0 0.5em; text-align: right; border: none;\">\n",
       "                0.0954\n",
       "                \n",
       "                    &plusmn; 0.0124\n",
       "                \n",
       "            </td>\n",
       "            <td style=\"padding: 0 0.5em 0 0.5em; text-align: left; border: none;\">\n",
       "                free sulfur dioxide\n",
       "            </td>\n",
       "        </tr>\n",
       "    \n",
       "        <tr style=\"background-color: hsl(120, 100.00%, 89.48%); border: none;\">\n",
       "            <td style=\"padding: 0 1em 0 0.5em; text-align: right; border: none;\">\n",
       "                0.0917\n",
       "                \n",
       "                    &plusmn; 0.0083\n",
       "                \n",
       "            </td>\n",
       "            <td style=\"padding: 0 0.5em 0 0.5em; text-align: left; border: none;\">\n",
       "                pH\n",
       "            </td>\n",
       "        </tr>\n",
       "    \n",
       "        <tr style=\"background-color: hsl(120, 100.00%, 90.22%); border: none;\">\n",
       "            <td style=\"padding: 0 1em 0 0.5em; text-align: right; border: none;\">\n",
       "                0.0826\n",
       "                \n",
       "                    &plusmn; 0.0059\n",
       "                \n",
       "            </td>\n",
       "            <td style=\"padding: 0 0.5em 0 0.5em; text-align: left; border: none;\">\n",
       "                citric acid\n",
       "            </td>\n",
       "        </tr>\n",
       "    \n",
       "        <tr style=\"background-color: hsl(120, 100.00%, 93.11%); border: none;\">\n",
       "            <td style=\"padding: 0 1em 0 0.5em; text-align: right; border: none;\">\n",
       "                0.0501\n",
       "                \n",
       "                    &plusmn; 0.0145\n",
       "                \n",
       "            </td>\n",
       "            <td style=\"padding: 0 0.5em 0 0.5em; text-align: left; border: none;\">\n",
       "                residual sugar\n",
       "            </td>\n",
       "        </tr>\n",
       "    \n",
       "        <tr style=\"background-color: hsl(120, 100.00%, 94.49%); border: none;\">\n",
       "            <td style=\"padding: 0 1em 0 0.5em; text-align: right; border: none;\">\n",
       "                0.0364\n",
       "                \n",
       "                    &plusmn; 0.0064\n",
       "                \n",
       "            </td>\n",
       "            <td style=\"padding: 0 0.5em 0 0.5em; text-align: left; border: none;\">\n",
       "                chlorides\n",
       "            </td>\n",
       "        </tr>\n",
       "    \n",
       "        <tr style=\"background-color: hsl(120, 100.00%, 94.82%); border: none;\">\n",
       "            <td style=\"padding: 0 1em 0 0.5em; text-align: right; border: none;\">\n",
       "                0.0333\n",
       "                \n",
       "                    &plusmn; 0.0101\n",
       "                \n",
       "            </td>\n",
       "            <td style=\"padding: 0 0.5em 0 0.5em; text-align: left; border: none;\">\n",
       "                fixed acidity\n",
       "            </td>\n",
       "        </tr>\n",
       "    \n",
       "        <tr style=\"background-color: hsl(120, 100.00%, 95.85%); border: none;\">\n",
       "            <td style=\"padding: 0 1em 0 0.5em; text-align: right; border: none;\">\n",
       "                0.0242\n",
       "                \n",
       "                    &plusmn; 0.0108\n",
       "                \n",
       "            </td>\n",
       "            <td style=\"padding: 0 0.5em 0 0.5em; text-align: left; border: none;\">\n",
       "                density\n",
       "            </td>\n",
       "        </tr>\n",
       "    \n",
       "    \n",
       "    </tbody>\n",
       "</table>\n",
       "    \n",
       "\n",
       "    \n",
       "\n",
       "\n",
       "    \n",
       "\n",
       "    \n",
       "\n",
       "    \n",
       "\n",
       "    \n",
       "\n",
       "    \n",
       "\n",
       "    \n",
       "\n",
       "\n",
       "\n"
      ],
      "text/plain": [
       "<IPython.core.display.HTML object>"
      ]
     },
     "execution_count": 297,
     "metadata": {},
     "output_type": "execute_result"
    }
   ],
   "source": [
    "import eli5\n",
    "from eli5.sklearn import PermutationImportance\n",
    "\n",
    "perm = PermutationImportance(cat_tree_model, random_state=1).fit(x_test, y_test)\n",
    "eli5.show_weights(perm, feature_names = x_test.columns.tolist())\n"
   ]
  },
  {
   "cell_type": "markdown",
   "id": "7836669e",
   "metadata": {},
   "source": [
    "<H4>Random forest</H4>"
   ]
  },
  {
   "cell_type": "code",
   "execution_count": 298,
   "id": "2c9d6a31",
   "metadata": {},
   "outputs": [
    {
     "data": {
      "text/html": [
       "\n",
       "    <style>\n",
       "    table.eli5-weights tr:hover {\n",
       "        filter: brightness(85%);\n",
       "    }\n",
       "</style>\n",
       "\n",
       "\n",
       "\n",
       "    \n",
       "\n",
       "    \n",
       "\n",
       "    \n",
       "\n",
       "    \n",
       "\n",
       "    \n",
       "\n",
       "    \n",
       "\n",
       "\n",
       "    \n",
       "\n",
       "    \n",
       "\n",
       "    \n",
       "\n",
       "    \n",
       "\n",
       "    \n",
       "\n",
       "    \n",
       "\n",
       "\n",
       "    \n",
       "\n",
       "    \n",
       "\n",
       "    \n",
       "\n",
       "    \n",
       "\n",
       "    \n",
       "        <table class=\"eli5-weights eli5-feature-importances\" style=\"border-collapse: collapse; border: none; margin-top: 0em; table-layout: auto;\">\n",
       "    <thead>\n",
       "    <tr style=\"border: none;\">\n",
       "        <th style=\"padding: 0 1em 0 0.5em; text-align: right; border: none;\">Weight</th>\n",
       "        <th style=\"padding: 0 0.5em 0 0.5em; text-align: left; border: none;\">Feature</th>\n",
       "    </tr>\n",
       "    </thead>\n",
       "    <tbody>\n",
       "    \n",
       "        <tr style=\"background-color: hsl(120, 100.00%, 80.00%); border: none;\">\n",
       "            <td style=\"padding: 0 1em 0 0.5em; text-align: right; border: none;\">\n",
       "                0.1960\n",
       "                \n",
       "                    &plusmn; 0.0196\n",
       "                \n",
       "            </td>\n",
       "            <td style=\"padding: 0 0.5em 0 0.5em; text-align: left; border: none;\">\n",
       "                sulphates\n",
       "            </td>\n",
       "        </tr>\n",
       "    \n",
       "        <tr style=\"background-color: hsl(120, 100.00%, 82.07%); border: none;\">\n",
       "            <td style=\"padding: 0 1em 0 0.5em; text-align: right; border: none;\">\n",
       "                0.1677\n",
       "                \n",
       "                    &plusmn; 0.0126\n",
       "                \n",
       "            </td>\n",
       "            <td style=\"padding: 0 0.5em 0 0.5em; text-align: left; border: none;\">\n",
       "                alcohol\n",
       "            </td>\n",
       "        </tr>\n",
       "    \n",
       "        <tr style=\"background-color: hsl(120, 100.00%, 83.58%); border: none;\">\n",
       "            <td style=\"padding: 0 1em 0 0.5em; text-align: right; border: none;\">\n",
       "                0.1479\n",
       "                \n",
       "                    &plusmn; 0.0129\n",
       "                \n",
       "            </td>\n",
       "            <td style=\"padding: 0 0.5em 0 0.5em; text-align: left; border: none;\">\n",
       "                volatile acidity\n",
       "            </td>\n",
       "        </tr>\n",
       "    \n",
       "        <tr style=\"background-color: hsl(120, 100.00%, 91.02%); border: none;\">\n",
       "            <td style=\"padding: 0 1em 0 0.5em; text-align: right; border: none;\">\n",
       "                0.0624\n",
       "                \n",
       "                    &plusmn; 0.0067\n",
       "                \n",
       "            </td>\n",
       "            <td style=\"padding: 0 0.5em 0 0.5em; text-align: left; border: none;\">\n",
       "                total sulfur dioxide\n",
       "            </td>\n",
       "        </tr>\n",
       "    \n",
       "        <tr style=\"background-color: hsl(120, 100.00%, 91.72%); border: none;\">\n",
       "            <td style=\"padding: 0 1em 0 0.5em; text-align: right; border: none;\">\n",
       "                0.0556\n",
       "                \n",
       "                    &plusmn; 0.0061\n",
       "                \n",
       "            </td>\n",
       "            <td style=\"padding: 0 0.5em 0 0.5em; text-align: left; border: none;\">\n",
       "                pH\n",
       "            </td>\n",
       "        </tr>\n",
       "    \n",
       "        <tr style=\"background-color: hsl(120, 100.00%, 94.89%); border: none;\">\n",
       "            <td style=\"padding: 0 1em 0 0.5em; text-align: right; border: none;\">\n",
       "                0.0279\n",
       "                \n",
       "                    &plusmn; 0.0090\n",
       "                \n",
       "            </td>\n",
       "            <td style=\"padding: 0 0.5em 0 0.5em; text-align: left; border: none;\">\n",
       "                free sulfur dioxide\n",
       "            </td>\n",
       "        </tr>\n",
       "    \n",
       "        <tr style=\"background-color: hsl(120, 100.00%, 96.01%); border: none;\">\n",
       "            <td style=\"padding: 0 1em 0 0.5em; text-align: right; border: none;\">\n",
       "                0.0196\n",
       "                \n",
       "                    &plusmn; 0.0052\n",
       "                \n",
       "            </td>\n",
       "            <td style=\"padding: 0 0.5em 0 0.5em; text-align: left; border: none;\">\n",
       "                citric acid\n",
       "            </td>\n",
       "        </tr>\n",
       "    \n",
       "        <tr style=\"background-color: hsl(120, 100.00%, 96.42%); border: none;\">\n",
       "            <td style=\"padding: 0 1em 0 0.5em; text-align: right; border: none;\">\n",
       "                0.0168\n",
       "                \n",
       "                    &plusmn; 0.0071\n",
       "                \n",
       "            </td>\n",
       "            <td style=\"padding: 0 0.5em 0 0.5em; text-align: left; border: none;\">\n",
       "                fixed acidity\n",
       "            </td>\n",
       "        </tr>\n",
       "    \n",
       "        <tr style=\"background-color: hsl(120, 100.00%, 96.51%); border: none;\">\n",
       "            <td style=\"padding: 0 1em 0 0.5em; text-align: right; border: none;\">\n",
       "                0.0162\n",
       "                \n",
       "                    &plusmn; 0.0051\n",
       "                \n",
       "            </td>\n",
       "            <td style=\"padding: 0 0.5em 0 0.5em; text-align: left; border: none;\">\n",
       "                residual sugar\n",
       "            </td>\n",
       "        </tr>\n",
       "    \n",
       "        <tr style=\"background-color: hsl(120, 100.00%, 96.95%); border: none;\">\n",
       "            <td style=\"padding: 0 1em 0 0.5em; text-align: right; border: none;\">\n",
       "                0.0133\n",
       "                \n",
       "                    &plusmn; 0.0041\n",
       "                \n",
       "            </td>\n",
       "            <td style=\"padding: 0 0.5em 0 0.5em; text-align: left; border: none;\">\n",
       "                chlorides\n",
       "            </td>\n",
       "        </tr>\n",
       "    \n",
       "        <tr style=\"background-color: hsl(0, 100.00%, 98.77%); border: none;\">\n",
       "            <td style=\"padding: 0 1em 0 0.5em; text-align: right; border: none;\">\n",
       "                -0.0036\n",
       "                \n",
       "                    &plusmn; 0.0062\n",
       "                \n",
       "            </td>\n",
       "            <td style=\"padding: 0 0.5em 0 0.5em; text-align: left; border: none;\">\n",
       "                density\n",
       "            </td>\n",
       "        </tr>\n",
       "    \n",
       "    \n",
       "    </tbody>\n",
       "</table>\n",
       "    \n",
       "\n",
       "    \n",
       "\n",
       "\n",
       "    \n",
       "\n",
       "    \n",
       "\n",
       "    \n",
       "\n",
       "    \n",
       "\n",
       "    \n",
       "\n",
       "    \n",
       "\n",
       "\n",
       "\n"
      ],
      "text/plain": [
       "<IPython.core.display.HTML object>"
      ]
     },
     "execution_count": 298,
     "metadata": {},
     "output_type": "execute_result"
    }
   ],
   "source": [
    "cat_forest_perm = PermutationImportance(cat_forest, random_state=1).fit(x_test, y_test)\n",
    "eli5.show_weights(cat_forest_perm, feature_names = x_test.columns.tolist())"
   ]
  },
  {
   "cell_type": "markdown",
   "id": "34bdafed",
   "metadata": {},
   "source": [
    "In both models the most important features are:\n",
    "- Alcohol content,\n",
    "- Sulphates (potassium sulphate) content,\n",
    "- Volatile acidity (acetic acid content).\n",
    "\n",
    "The same emerges from correlaton data as correlation coefficient for wine Quality vs:\n",
    "- Alcohol content is: 0.48,\n",
    "- Sulphates content is: 0.25,\n",
    "- Volatile acidity is: -0.39.\n",
    "\n",
    "All above mentioned correlation coefficients are the highest in the whole dataset.    "
   ]
  },
  {
   "cell_type": "code",
   "execution_count": null,
   "id": "3a4e0e07",
   "metadata": {},
   "outputs": [],
   "source": []
  }
 ],
 "metadata": {
  "kernelspec": {
   "display_name": "Python 3",
   "language": "python",
   "name": "python3"
  },
  "language_info": {
   "codemirror_mode": {
    "name": "ipython",
    "version": 3
   },
   "file_extension": ".py",
   "mimetype": "text/x-python",
   "name": "python",
   "nbconvert_exporter": "python",
   "pygments_lexer": "ipython3",
   "version": "3.8.10"
  }
 },
 "nbformat": 4,
 "nbformat_minor": 5
}
